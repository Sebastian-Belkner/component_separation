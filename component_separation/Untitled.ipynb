{
 "cells": [
  {
   "cell_type": "code",
   "execution_count": null,
   "metadata": {},
   "outputs": [
    {
     "name": "stdout",
     "output_type": "stream",
     "text": [
      "0 not invertible: [[ 0.  0.  0. -0. -0. -0.  0.]\n",
      " [ 0.  0.  0. -0. -0. -0.  0.]\n",
      " [ 0.  0.  0. -0. -0. -0.  0.]\n",
      " [-0. -0. -0. -0. -0. -0. -0.]\n",
      " [-0. -0. -0. -0. -0. -0. -0.]\n",
      " [-0. -0. -0. -0. -0. -0. -0.]\n",
      " [ 0.  0.  0. -0. -0. -0.  0.]]\n",
      "0 not invertible: [[0. 0. 0. 0. 0. 0. 0.]\n",
      " [0. 0. 0. 0. 0. 0. 0.]\n",
      " [0. 0. 0. 0. 0. 0. 0.]\n",
      " [0. 0. 0. 0. 0. 0. 0.]\n",
      " [0. 0. 0. 0. 0. 0. 0.]\n",
      " [0. 0. 0. 0. 0. 0. 0.]\n",
      " [0. 0. 0. 0. 0. 0. 0.]]\n",
      "1 not invertible: [[0. 0. 0. 0. 0. 0. 0.]\n",
      " [0. 0. 0. 0. 0. 0. 0.]\n",
      " [0. 0. 0. 0. 0. 0. 0.]\n",
      " [0. 0. 0. 0. 0. 0. 0.]\n",
      " [0. 0. 0. 0. 0. 0. 0.]\n",
      " [0. 0. 0. 0. 0. 0. 0.]\n",
      " [0. 0. 0. 0. 0. 0. 0.]]\n",
      "0 not invertible: [[0. 0. 0. 0. 0. 0. 0.]\n",
      " [0. 0. 0. 0. 0. 0. 0.]\n",
      " [0. 0. 0. 0. 0. 0. 0.]\n",
      " [0. 0. 0. 0. 0. 0. 0.]\n",
      " [0. 0. 0. 0. 0. 0. 0.]\n",
      " [0. 0. 0. 0. 0. 0. 0.]\n",
      " [0. 0. 0. 0. 0. 0. 0.]]\n",
      "1 not invertible: [[0. 0. 0. 0. 0. 0. 0.]\n",
      " [0. 0. 0. 0. 0. 0. 0.]\n",
      " [0. 0. 0. 0. 0. 0. 0.]\n",
      " [0. 0. 0. 0. 0. 0. 0.]\n",
      " [0. 0. 0. 0. 0. 0. 0.]\n",
      " [0. 0. 0. 0. 0. 0. 0.]\n",
      " [0. 0. 0. 0. 0. 0. 0.]]\n",
      "0 not invertible: [[0. 0. 0. 0. 0. 0. 0.]\n",
      " [0. 0. 0. 0. 0. 0. 0.]\n",
      " [0. 0. 0. 0. 0. 0. 0.]\n",
      " [0. 0. 0. 0. 0. 0. 0.]\n",
      " [0. 0. 0. 0. 0. 0. 0.]\n",
      " [0. 0. 0. 0. 0. 0. 0.]\n",
      " [0. 0. 0. 0. 0. 0. 0.]]\n",
      "1 not invertible: [[0. 0. 0. 0. 0. 0. 0.]\n",
      " [0. 0. 0. 0. 0. 0. 0.]\n",
      " [0. 0. 0. 0. 0. 0. 0.]\n",
      " [0. 0. 0. 0. 0. 0. 0.]\n",
      " [0. 0. 0. 0. 0. 0. 0.]\n",
      " [0. 0. 0. 0. 0. 0. 0.]\n",
      " [0. 0. 0. 0. 0. 0. 0.]]\n",
      "Starting simulation 1 of 5.\n"
     ]
    },
    {
     "name": "stderr",
     "output_type": "stream",
     "text": [
      "/global/homes/s/sebibel/.local/lib/python3.8/site-packages/healpy/sphtfunc.py:822: UserWarning: Sigma is 0.000000 arcmin (0.000000 rad) \n",
      "  warnings.warn(\n",
      "/global/homes/s/sebibel/.local/lib/python3.8/site-packages/healpy/sphtfunc.py:827: UserWarning: -> fwhm is 0.000000 arcmin\n",
      "  warnings.warn(\n",
      "/global/homes/s/sebibel/.local/lib/python3.8/site-packages/healpy/fitsfunc.py:391: UserWarning: NSIDE = 2048\n",
      "  warnings.warn(\"NSIDE = {0:d}\".format(nside))\n",
      "/global/homes/s/sebibel/.local/lib/python3.8/site-packages/healpy/fitsfunc.py:400: UserWarning: ORDERING = RING in fits file\n",
      "  warnings.warn(\"ORDERING = {0:s} in fits file\".format(ordering))\n",
      "/global/homes/s/sebibel/.local/lib/python3.8/site-packages/healpy/fitsfunc.py:428: UserWarning: INDXSCHM = IMPLICIT\n",
      "  warnings.warn(\"INDXSCHM = {0:s}\".format(schm))\n"
     ]
    }
   ],
   "source": [
    "\"\"\"\n",
    "run.py: script for executing main functionality of component_separation\n",
    "\n",
    "\"\"\"\n",
    "\n",
    "__author__ = \"S. Belkner\"\n",
    "\n",
    "import os\n",
    "import sys\n",
    "import numpy as np\n",
    "import platform\n",
    "import json\n",
    "import component_separation.io as io\n",
    "import component_separation.run as csr\n",
    "from component_separation.cs_util import Planckf, Plancks\n",
    "\n",
    "uname = platform.uname()\n",
    "if uname.node == \"DESKTOP-KMIGUPV\":\n",
    "    mch = \"XPS\"\n",
    "else:\n",
    "    mch = \"NERSC\"\n",
    "    \n",
    "with open('config.json', \"r\") as f:\n",
    "    cf = json.load(f)\n",
    "PLANCKMAPFREQ = [p.value for p in list(Planckf)]\n",
    "PLANCKSPECTRUM = [p.value for p in list(Plancks)]\n",
    "lmax = cf['pa'][\"lmax\"]\n",
    "lmax_mask = cf['pa'][\"lmax_mask\"]\n",
    "freqfilter = cf['pa'][\"freqfilter\"]\n",
    "specfilter = cf['pa'][\"specfilter\"]\n",
    "\n",
    "num_sim = cf['pa'][\"num_sim\"]\n",
    "\n",
    "spec_path = cf[mch]['outdir']\n",
    "indir_path = cf[mch]['indir']\n",
    "\n",
    "freqcomb =  [\n",
    "    \"{}-{}\".format(FREQ,FREQ2)\n",
    "        for FREQ in PLANCKMAPFREQ\n",
    "        if FREQ not in freqfilter\n",
    "        for FREQ2 in PLANCKMAPFREQ\n",
    "        if (FREQ2 not in freqfilter) and (int(FREQ2)>=int(FREQ))]\n",
    "speccomb  = [spec for spec in PLANCKSPECTRUM if spec not in specfilter]\n",
    "\n",
    "filename = io.make_filenamestring(cf)\n",
    "\n",
    "if cf['pa']['new_spectrum']:\n",
    "    spectrum = csr.map2spec(io.load_plamap(cf['pa']), freqcomb)\n",
    "    io.save_spectrum(spectrum, spec_path, 'unscaled'+filename)\n",
    "else:\n",
    "    path_name = spec_path + 'spectrum/unscaled' + filename\n",
    "    spectrum = io.load_spectrum(path_name=path_name)\n",
    "if spectrum is None:\n",
    "    spectrum = csr.map2spec(io.load_plamap(cf['pa']), freqcomb)\n",
    "    io.save_spectrum(spectrum, spec_path, 'unscaled'+filename)\n",
    "\n",
    "spectrum_scaled = csr.spec2specsc(spectrum, freqcomb)\n",
    "io.save_spectrum(spectrum_scaled, spec_path, 'scaled'+filename)\n",
    "\n",
    "weights = csr.specsc2weights(spectrum_scaled, cf[\"pa\"][\"offdiag\"])\n",
    "io.save_weights(weights, spec_path, 'weights'+filename)\n",
    "\n",
    "freqcomb =  [\n",
    "    \"{}-{}\".format(FREQ,FREQ2)\n",
    "        for FREQ in PLANCKMAPFREQ\n",
    "        if FREQ not in freqfilter\n",
    "        for FREQ2 in PLANCKMAPFREQ\n",
    "        if (FREQ2 not in freqfilter) and (int(FREQ2)==int(FREQ))]\n",
    "\n",
    "if cf['pa'][\"run_sim\"]:\n",
    "    for i in range(num_sim):\n",
    "        print(\"Starting simulation {} of {}.\".format(i+1, num_sim))\n",
    "        path_name = spec_path + 'spectrum/unscaled' + filename\n",
    "        spectrum = io.load_spectrum(path_name=path_name)\n",
    "\n",
    "        synmap = csr.spec2synmap(spectrum, freqcomb)\n",
    "        io.save_map(synmap, spec_path, \"syn/unscaled-\"+str(i)+\"_synmap-\"+filename)\n",
    "\n",
    "        syn_spectrum = csr.map2spec(synmap, freqcomb)\n",
    "        # io.save_spectrum(syn_spectrum, spec_path, \"syn/unscaled-\"+str(i)+\"_synspec-\"+filename)\n",
    "\n",
    "        syn_spectrum_scaled = csr.spec2specsc(syn_spectrum, freqcomb)\n",
    "        io.save_spectrum(syn_spectrum_scaled, spec_path, \"syn/scaled-\"+str(i)+\"_synmap-\"+filename)\n",
    "\n",
    "\n",
    "    syn_spectrum_avgsc = csr.synmaps2average(filename)\n",
    "    io.save_spectrum(syn_spectrum_avgsc, spec_path, \"syn/scaled-\" + \"synavg-\"+ filename)\n",
    "\n",
    "# weights = specsc2weights(syn_spectrum_avg, False)\n",
    "# io.save_weights(weights, spec_path, \"syn/\"+\"SYNweights\"+filename)"
   ]
  },
  {
   "source": [],
   "cell_type": "markdown",
   "metadata": {}
  },
  {
   "cell_type": "code",
   "execution_count": 2,
   "metadata": {},
   "outputs": [
    {
     "output_type": "error",
     "ename": "ImportError",
     "evalue": "No module named component_separation.io",
     "traceback": [
      "\u001b[0;31m---------------------------------------------------------------------------\u001b[0m",
      "\u001b[0;31mImportError\u001b[0m                               Traceback (most recent call last)",
      "\u001b[0;32m<ipython-input-2-5854bece51b8>\u001b[0m in \u001b[0;36m<module>\u001b[0;34m()\u001b[0m\n\u001b[1;32m      5\u001b[0m \u001b[0;32mimport\u001b[0m \u001b[0mplatform\u001b[0m\u001b[0;34m\u001b[0m\u001b[0m\n\u001b[1;32m      6\u001b[0m \u001b[0;32mimport\u001b[0m \u001b[0mjson\u001b[0m\u001b[0;34m\u001b[0m\u001b[0m\n\u001b[0;32m----> 7\u001b[0;31m \u001b[0;32mimport\u001b[0m \u001b[0mcomponent_separation\u001b[0m\u001b[0;34m.\u001b[0m\u001b[0mio\u001b[0m \u001b[0;32mas\u001b[0m \u001b[0mio\u001b[0m\u001b[0;34m\u001b[0m\u001b[0m\n\u001b[0m\u001b[1;32m      8\u001b[0m \u001b[0;32mimport\u001b[0m \u001b[0mcomponent_separation\u001b[0m\u001b[0;34m.\u001b[0m\u001b[0mrun\u001b[0m \u001b[0;32mas\u001b[0m \u001b[0mcsr\u001b[0m\u001b[0;34m\u001b[0m\u001b[0m\n\u001b[1;32m      9\u001b[0m \u001b[0;32mfrom\u001b[0m \u001b[0mcomponent_separation\u001b[0m\u001b[0;34m.\u001b[0m\u001b[0mcs_util\u001b[0m \u001b[0;32mimport\u001b[0m \u001b[0mPlanckf\u001b[0m\u001b[0;34m,\u001b[0m \u001b[0mPlancks\u001b[0m\u001b[0;34m\u001b[0m\u001b[0m\n",
      "\u001b[0;31mImportError\u001b[0m: No module named component_separation.io"
     ]
    }
   ],
   "source": [
    "\n",
    "import os\n",
    "import sys\n",
    "import numpy as np\n",
    "import platform\n",
    "import json\n",
    "import component_separation.io as io\n",
    "import component_separation.run as csr\n",
    "from component_separation.cs_util import Planckf, Plancks\n"
   ]
  },
  {
   "cell_type": "markdown",
   "metadata": {},
   "source": [
    "Load data"
   ]
  },
  {
   "source": [
    "freq=143\n",
    "# /project/projectdirs/cmb/data/planck2018/pr3/Planck_L08_inputs/PR3vJan18_temp_lensingmask_gPR2_70_psPR2_143_COT2_smicadx12_smicapoldx12_psPR2_217_sz.fits.gz\n",
    "# '/project/projectdirs/planck/data/compsep/exchanges/dx12/maps/hfi/%sGHz_ful.all_ful.RD12_RC4.P.fits'\n",
    "mask = read_map('/project/projectdirs/cmb/data/planck2018/pr3/Planck_L08_inputs/PR3vJan18_temp_lensingmask_gPR2_70_psPR2_143_COT2_smicadx12_smicapoldx12_psPR2_217_sz.fits.gz',field= 0)\n",
    "Q = read_map('/global/cfs/cdirs/cmb/data/planck2020/npipe/npipe6v20%s/npipe6v20%s_%03d_map.fits'%('A', 'A', 143),field= 1)"
   ],
   "cell_type": "markdown",
   "metadata": {
    "scrolled": true
   }
  },
  {
   "cell_type": "code",
   "execution_count": null,
   "metadata": {},
   "outputs": [],
   "source": []
  }
 ],
 "metadata": {
  "kernelspec": {
   "display_name": "Python 2",
   "language": "python",
   "name": "python2"
  },
  "language_info": {
   "codemirror_mode": {
    "name": "ipython",
    "version": 3
   },
   "file_extension": ".py",
   "mimetype": "text/x-python",
   "name": "python",
   "nbconvert_exporter": "python",
   "pygments_lexer": "ipython3",
   "version": "2.7.18-final"
  }
 },
 "nbformat": 4,
 "nbformat_minor": 4
}