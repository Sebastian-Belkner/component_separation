{
 "cells": [
  {
   "cell_type": "code",
   "execution_count": 7,
   "id": "0972b235-1412-424a-b119-ce47114db96d",
   "metadata": {},
   "outputs": [],
   "source": [
    "%%capture\n",
    "import numpy as np\n",
    "import pandas as pd\n",
    "from healpy.sphtfunc import smoothing\n",
    "import smica\n",
    "import os\n",
    "import json\n",
    "\n",
    "import copy\n",
    "from astropy.io import fits\n",
    "from scipy import interpolate\n",
    "\n",
    "import healpy as hp\n",
    "import component_separation\n",
    "from component_separation.io import IO\n",
    "import component_separation.interface as cslib\n",
    "import component_separation.MSC.MSC.pospace as ps\n",
    "import component_separation.powspec as pw\n",
    "\n",
    "from component_separation.cs_util import Config\n",
    "from component_separation.cs_util import Constants as const\n",
    "from component_separation.cs_util import Helperfunctions as hpf\n",
    "from component_separation.cs_util import Planckf, Planckr, Plancks\n",
    "import matplotlib.pyplot as plt\n",
    "csu = Config()\n",
    "io = IO(csu)\n",
    "import warnings\n",
    "warnings.filterwarnings('ignore')\n",
    "props = dict(boxstyle='round', facecolor='wheat', alpha=0.5)\n",
    "\n",
    "lmax=csu.lmax\n",
    "nside_out = csu.nside_out\n",
    "bins = csu.bins\n",
    "detector = csu.PLANCKMAPFREQ_f\n",
    "specfilter = csu.specfilter\n",
    "freqfilter = csu.freqfilter\n",
    "lmaxbins = int(bins[-1][1])\n",
    "colors=csu.CB_color_cycle\n",
    "def std_dev_binned(d, lmax=3000, binwidth=200, log=True):\n",
    "    if log == False:\n",
    "        bins = np.linspace(0, lmax+1, binwidth)\n",
    "    else:\n",
    "        bins = np.logspace(np.log10(1), np.log10(lmax+1), binwidth)\n",
    "\n",
    "    bl = bins[:-1]\n",
    "    br = bins[1:]\n",
    "    if type(d) == np.ndarray:\n",
    "        val = np.nan_to_num(d)\n",
    "    elif type(d) == np.ma.core.MaskedArray:\n",
    "        val = np.nan_to_num(d)\n",
    "    else:\n",
    "        val = np.nan_to_num(d.to_numpy())\n",
    "    print(np.linspace(0,lmax,lmax).shape, bins.shape,val.shape)\n",
    "    n, _ = np.histogram(\n",
    "        np.linspace(0,lmax,lmax),\n",
    "        bins=bins)\n",
    "    sy, _ = np.histogram(\n",
    "        np.linspace(0,lmax,lmax),\n",
    "        bins=bins,\n",
    "        weights=val)\n",
    "    sy2, _ = np.histogram(\n",
    "        np.linspace(0,lmax,lmax),\n",
    "        bins=bins,\n",
    "        weights=val * val)\n",
    "    mean = sy / n\n",
    "    std = np.sqrt(sy2/n - mean*mean)\n",
    "    return mean, std, _"
   ]
  },
  {
   "cell_type": "code",
   "execution_count": 8,
   "id": "20979a65-b07b-4762-923b-69b77e7948a6",
   "metadata": {},
   "outputs": [
    {
     "name": "stdout",
     "output_type": "stream",
     "text": [
      "$$$$$$$$$$$$$$$$$$$$$$$$$$$$$$$$$$$$$$$$\n",
      "Run with the following settings:\n",
      "{'Tscale': 'K_CMB', 'mskset': 'lens', 'freqdset': 'NPIPE', 'Spectrum_scale': 'C_l', 'lmax': 4000, 'lmax_mask': 6000, 'freqdatsplit': '', 'smoothing_window': 0, 'max_polynom': 0, 'num_sim': 5, 'binname': 'SMICA_lowell_bins', 'overwrite_cache': True, 'split': '', 'nside_out': None, 'splitvariation': 'GHz', 'freqfilter': ['545', '857'], 'specfilter': ['TB', 'EB', 'ET', 'BT', 'BE'], 'nside_desc_map': [1024, 2048]}\n",
      "$$$$$$$$$$$$$$$$$$$$$$$$$$$$$$$$$$$$$$$$\n"
     ]
    }
   ],
   "source": [
    "dxb = io.load_beamf(csu.freqcomb)\n",
    "cfc = copy.deepcopy(csu.cf)\n",
    "cfc['pa']['freqdset'] = 'NPIPE'\n",
    "csuc = Config(cfc)\n",
    "ioc = IO(csuc)\n",
    "dxn = ioc.load_beamf(csuc.freqcomb)"
   ]
  },
  {
   "cell_type": "code",
   "execution_count": 9,
   "id": "062b7ff7-8bfa-4d3c-8cf2-b6b8377d3e21",
   "metadata": {},
   "outputs": [
    {
     "ename": "KeyError",
     "evalue": "'LFI'",
     "output_type": "error",
     "traceback": [
      "\u001b[0;31m---------------------------------------------------------------------------\u001b[0m",
      "\u001b[0;31mKeyError\u001b[0m                                  Traceback (most recent call last)",
      "\u001b[0;32m<ipython-input-9-c919ad3d30e2>\u001b[0m in \u001b[0;36m<module>\u001b[0;34m\u001b[0m\n\u001b[1;32m     12\u001b[0m         \u001b[0;32mif\u001b[0m \u001b[0mint\u001b[0m\u001b[0;34m(\u001b[0m\u001b[0mfreqs\u001b[0m\u001b[0;34m[\u001b[0m\u001b[0;36m0\u001b[0m\u001b[0;34m]\u001b[0m\u001b[0;34m)\u001b[0m \u001b[0;34m<\u001b[0m \u001b[0;36m100\u001b[0m\u001b[0;34m:\u001b[0m\u001b[0;34m\u001b[0m\u001b[0;34m\u001b[0m\u001b[0m\n\u001b[1;32m     13\u001b[0m             \u001b[0;32mpass\u001b[0m\u001b[0;34m\u001b[0m\u001b[0;34m\u001b[0m\u001b[0m\n\u001b[0;32m---> 14\u001b[0;31m             \u001b[0mdxd\u001b[0m \u001b[0;34m=\u001b[0m \u001b[0;36m1\u001b[0m\u001b[0;34m/\u001b[0m\u001b[0mdxb\u001b[0m\u001b[0;34m[\u001b[0m\u001b[0mfreqc\u001b[0m\u001b[0;34m]\u001b[0m\u001b[0;34m[\u001b[0m\u001b[0;34m\"LFI\"\u001b[0m\u001b[0;34m]\u001b[0m\u001b[0;34m[\u001b[0m\u001b[0mLFI_dict\u001b[0m\u001b[0;34m[\u001b[0m\u001b[0mfreqs\u001b[0m\u001b[0;34m[\u001b[0m\u001b[0;36m0\u001b[0m\u001b[0;34m]\u001b[0m\u001b[0;34m]\u001b[0m\u001b[0;34m]\u001b[0m\u001b[0;34m.\u001b[0m\u001b[0mdata\u001b[0m\u001b[0;34m.\u001b[0m\u001b[0mfield\u001b[0m\u001b[0;34m(\u001b[0m\u001b[0;36m0\u001b[0m\u001b[0;34m)\u001b[0m\u001b[0;34m[\u001b[0m\u001b[0;34m:\u001b[0m\u001b[0;36m2049\u001b[0m\u001b[0;34m]\u001b[0m\u001b[0;34m\u001b[0m\u001b[0;34m\u001b[0m\u001b[0m\n\u001b[0m\u001b[1;32m     15\u001b[0m             \u001b[0mnd\u001b[0m \u001b[0;34m=\u001b[0m \u001b[0;36m1\u001b[0m\u001b[0;34m/\u001b[0m\u001b[0mdxn\u001b[0m\u001b[0;34m[\u001b[0m\u001b[0mfreqc\u001b[0m\u001b[0;34m]\u001b[0m\u001b[0;34m[\u001b[0m\u001b[0;34m\"HFI\"\u001b[0m\u001b[0;34m]\u001b[0m\u001b[0;34m[\u001b[0m\u001b[0;36m1\u001b[0m\u001b[0;34m]\u001b[0m\u001b[0;34m.\u001b[0m\u001b[0mdata\u001b[0m\u001b[0;34m.\u001b[0m\u001b[0mfield\u001b[0m\u001b[0;34m(\u001b[0m\u001b[0;36m0\u001b[0m\u001b[0;34m)\u001b[0m\u001b[0;34m[\u001b[0m\u001b[0;34m:\u001b[0m\u001b[0;36m2049\u001b[0m\u001b[0;34m]\u001b[0m\u001b[0;34m\u001b[0m\u001b[0;34m\u001b[0m\u001b[0m\n\u001b[1;32m     16\u001b[0m         \u001b[0;32melif\u001b[0m \u001b[0mint\u001b[0m\u001b[0;34m(\u001b[0m\u001b[0mfreqs\u001b[0m\u001b[0;34m[\u001b[0m\u001b[0;36m0\u001b[0m\u001b[0;34m]\u001b[0m\u001b[0;34m)\u001b[0m \u001b[0;34m>=\u001b[0m \u001b[0;36m100\u001b[0m\u001b[0;34m:\u001b[0m\u001b[0;34m\u001b[0m\u001b[0;34m\u001b[0m\u001b[0m\n",
      "\u001b[0;31mKeyError\u001b[0m: 'LFI'"
     ]
    }
   ],
   "source": [
    "LFI_dict = {\n",
    "    \"030\": 28,\n",
    "    \"044\": 29,\n",
    "    \"070\": 30\n",
    "}\n",
    "idx=0\n",
    "lab1='NPIPE'\n",
    "for freqc in csu.freqcomb:\n",
    "    freqs = freqc.split('-')\n",
    "    if freqs[0] == freqs[1]:\n",
    "        idx+=1\n",
    "        if int(freqs[0]) < 100:\n",
    "            pass\n",
    "            dxd = 1/dxb[freqc][\"LFI\"][LFI_dict[freqs[0]]].data.field(0)[:2049]\n",
    "            nd = 1/dxn[freqc][\"HFI\"][1].data.field(0)[:2049]\n",
    "        elif int(freqs[0]) >= 100:\n",
    "            dxd = 1/dxb[freqc][\"HFI\"][1].data.field(1)[:4000]\n",
    "            nd = 1/dxn[freqc][\"HFI\"][1].data.field(0)[:4000]\n",
    "        plt.plot(nd, color='black', label=lab1, lw=2)\n",
    "        plt.plot(dxd, color=colors[idx], label=freqs[0], lw=3, alpha=0.8)\n",
    "        lab1=None\n",
    "plt.yscale('log')\n",
    "plt.xlim((0,4000))\n",
    "plt.ylim((1e0,1e3))\n",
    "plt.legend()\n",
    "plt.show()\n",
    "\n",
    "idx=0\n",
    "lab1='NPIPE'\n",
    "for freqc in csu.freqcomb:\n",
    "    freqs = freqc.split('-')\n",
    "    if freqs[0] == freqs[1]:\n",
    "        idx+=1\n",
    "        if int(freqs[0]) < 100:\n",
    "            pass\n",
    "            dxd = 1/dxb[freqc][\"LFI\"][LFI_dict[freqs[0]]].data.field(0)[:2049]\n",
    "            nd = 1/dxn[freqc][\"HFI\"][1].data.field(0)[:2049]\n",
    "        elif int(freqs[0]) >= 100:\n",
    "            dxd = 1/dxb[freqc][\"HFI\"][1].data.field(1)[:4000]\n",
    "            nd = 1/dxn[freqc][\"HFI\"][1].data.field(0)[:4000]\n",
    "        plt.plot((nd-dxd)/dxd, color=colors[idx], label=freqs[0], lw=3)\n",
    "# plt.yscale('log')\n",
    "plt.xlim((0,4000))\n",
    "plt.ylim((-0.1,0.1))\n",
    "plt.legend()"
   ]
  },
  {
   "cell_type": "code",
   "execution_count": 10,
   "id": "f97d8684-f196-4150-bc49-dccc6a48f4d3",
   "metadata": {},
   "outputs": [
    {
     "name": "stdout",
     "output_type": "stream",
     "text": [
      "loaded /global/cscratch1/sd/sebibel/spectrum/NPIPE_diff/SPEC-RAW_0200_C_l_NPIPE_diff_lens_4000_6000_Full.npy\n",
      "(7, 7, 4001)\n",
      "loaded /global/cscratch1/sd/sebibel/spectrum/NPIPE_diff/SPEC-RAW_0200_C_l_NPIPE_diff_lens_4000_6000_Full.npy\n",
      "(7, 7, 4001)\n"
     ]
    }
   ],
   "source": [
    "import component_separation.transform_spec as trsf_s\n",
    "_Tscale = \"K_CMB\"#csu.Tscale\n",
    "C_lN = io.load_powerspectra('noise', processed=False)\n",
    "# C_lN = trsf_s.process_all(C_lN, csu.cf,\n",
    "#                           csu.freqcomb,\n",
    "#                           csu.PLANCKSPECTRUM,\n",
    "#                           dxb, csu.nside_out,\n",
    "#                           csu.cf['pa'][\"Spectrum_scale\"],\n",
    "#                           csu.cf['pa']['smoothing_window'],\n",
    "#                           csu.cf['pa']['max_polynom'])\n",
    "cov_lN = pw.build_covmatrices(C_lN, _Tscale, csu.freqcomb, csu.PLANCKMAPFREQ_f)\n",
    "cov_lNEE = cov_lN[1]\n",
    "for n in range(cov_lNEE.shape[0]):\n",
    "    for m in range(cov_lNEE.shape[1]):\n",
    "        if n != m:\n",
    "            cov_lNEE[n,m] = np.zeros(shape=cov_lNEE.shape[2])\n",
    "print(cov_lNEE.shape)\n",
    "\n",
    "C_lN_n = ioc.load_powerspectra('noise', processed=False)\n",
    "# C_lN_n = trsf_s.process_all(C_lN_n, csuc.cf,\n",
    "#                           csu.freqcomb,\n",
    "#                           csu.PLANCKSPECTRUM,\n",
    "#                           dxn, csu.nside_out,\n",
    "#                           csu.cf['pa'][\"Spectrum_scale\"],\n",
    "#                           csu.cf['pa']['smoothing_window'],\n",
    "#                           csu.cf['pa']['max_polynom'])\n",
    "cov_lN_n = pw.build_covmatrices(C_lN_n, _Tscale, csu.freqcomb, csu.PLANCKMAPFREQ_f)\n",
    "cov_lNEE_n = cov_lN_n[1]\n",
    "for n in range(cov_lNEE.shape[0]):\n",
    "    for m in range(cov_lNEE.shape[1]):\n",
    "        if n != m:\n",
    "            cov_lNEE_n[n,m] = np.zeros(shape=cov_lNEE.shape[2])\n",
    "print(cov_lNEE.shape)"
   ]
  },
  {
   "cell_type": "code",
   "execution_count": 11,
   "id": "47ecabfe-8fb9-42ca-a3a8-9d8190c60f57",
   "metadata": {},
   "outputs": [
    {
     "name": "stdout",
     "output_type": "stream",
     "text": [
      "(4001,) (25,) (4001,)\n",
      "(4001,) (25,) (4001,)\n",
      "(4001,) (25,) (4001,)\n",
      "(4001,) (25,) (4001,)\n",
      "(4001,) (25,) (4001,)\n",
      "(4001,) (25,) (4001,)\n",
      "(4001,) (25,) (4001,)\n",
      "(4001,) (25,) (4001,)\n"
     ]
    },
    {
     "data": {
      "image/png": "[encoded data removed]",
      "text/plain": [
       "<Figure size 432x288 with 1 Axes>"
      ]
     },
     "metadata": {
      "needs_background": "light"
     },
     "output_type": "display_data"
    },
    {
     "name": "stdout",
     "output_type": "stream",
     "text": [
      "(4001,) (25,) (4001,)\n",
      "(4001,) (25,) (4001,)\n",
      "(4001,) (25,) (4001,)\n",
      "(4001,) (25,) (4001,)\n"
     ]
    },
    {
     "data": {
      "text/plain": [
       "(10, 4000)"
      ]
     },
     "execution_count": 11,
     "metadata": {},
     "output_type": "execute_result"
    },
    {
     "data": {
      "image/png": "[encoded data removed]",
      "text/plain": [
       "<Figure size 432x288 with 1 Axes>"
      ]
     },
     "metadata": {
      "needs_background": "light"
     },
     "output_type": "display_data"
    }
   ],
   "source": [
    "for n in range(cov_lNEE.shape[0]):\n",
    "    for m in range(cov_lNEE.shape[1]):\n",
    "        if n == m and n>=3:\n",
    "            a = cov_lNEE[n,m,:]\n",
    "            b = cov_lNEE_n[n,m,:]\n",
    "#             plt.plot(a, color='black')\n",
    "#             plt.plot(b, color=colors[n], label=csu.PLANCKMAPFREQ_f[n])\n",
    "            mean, err, _ = std_dev_binned(b, lmax=4001, binwidth=25)\n",
    "            plt.errorbar(n*np.logspace(np.log10(1), np.log10(lmax+1), 24)+(_[1:]+_[:-1])/2, mean, yerr=err, label=csu.PLANCKMAPFREQ_f[n], alpha=1, fmt= '.', color=colors[n])\n",
    "            mean, err, _ = std_dev_binned(a, lmax=4001, binwidth=25)\n",
    "            plt.errorbar(n*np.logspace(np.log10(1), np.log10(lmax+1), 24)+(_[1:]+_[:-1])/2, mean, yerr=err, label=csu.PLANCKMAPFREQ_f[n], alpha=0.5, fmt= '.', color=colors[n])                               \n",
    "plt.legend()\n",
    "# plt.ylim((2e-4,4e-3))\n",
    "plt.xscale('log')\n",
    "plt.yscale('log')\n",
    "plt.xlim((10,lmax))\n",
    "plt.show()\n",
    "\n",
    "\n",
    "for n in range(cov_lNEE.shape[0]):\n",
    "    for m in range(cov_lNEE.shape[1]):\n",
    "        if n == m and n>2:\n",
    "            a = cov_lNEE[n,m,:]\n",
    "            b = cov_lNEE_n[n,m,:]\n",
    "#             plt.plot(a, color='black')\n",
    "#             plt.plot(b, color=colors[n], label=csu.PLANCKMAPFREQ_f[n])\n",
    "            mean, err, _ = std_dev_binned((b-a)/a, lmax=4001, binwidth=25)\n",
    "            plt.errorbar(n*np.logspace(np.log10(1), np.log10(lmax+1), 24)+(_[1:]+_[:-1])/2, mean, yerr=err, label=csu.PLANCKMAPFREQ_f[n], alpha=0.8, fmt= '.', color=colors[n])\n",
    "plt.legend()\n",
    "plt.ylim((-0.5,0.25))\n",
    "plt.xscale('log')\n",
    "plt.xlim((10,lmax))\n",
    "# plt.yscale('log')"
   ]
  },
  {
   "cell_type": "code",
   "execution_count": null,
   "id": "21d227f0-ce9d-4e69-b81a-0696d5806ad9",
   "metadata": {},
   "outputs": [],
   "source": []
  }
 ],
 "metadata": {
  "kernelspec": {
   "display_name": "pyenv",
   "language": "python",
   "name": "pyenv"
  },
  "language_info": {
   "codemirror_mode": {
    "name": "ipython",
    "version": 3
   },
   "file_extension": ".py",
   "mimetype": "text/x-python",
   "name": "python",
   "nbconvert_exporter": "python",
   "pygments_lexer": "ipython3",
   "version": "3.8.5"
  }
 },
 "nbformat": 4,
 "nbformat_minor": 5
}
