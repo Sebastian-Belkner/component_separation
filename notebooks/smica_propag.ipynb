{
 "cells": [
  {
   "cell_type": "markdown",
   "id": "8310434e-592c-4535-a035-bdb0420b0518",
   "metadata": {},
   "source": [
    "# Demonstrats the output of Smica propagation code"
   ]
  },
  {
   "cell_type": "code",
   "execution_count": 115,
   "id": "4982ecdc-033f-4410-bfbb-41ec264c045d",
   "metadata": {
    "tags": []
   },
   "outputs": [],
   "source": [
    "import numpy as np\n",
    "import pandas as pd\n",
    "from healpy.sphtfunc import smoothing\n",
    "import smica\n",
    "import os\n",
    "import json\n",
    "import component_separation\n",
    "import component_separation.io as io\n",
    "import healpy as hp\n",
    "import component_separation.MSC.MSC.pospace as ps\n",
    "import component_separation.powspec as pw\n",
    "import component_separation.preprocess as prep\n",
    "from component_separation.cs_util import Config as csu\n",
    "from component_separation.cs_util import Constants as const\n",
    "from component_separation.cs_util import Helperfunctions as hpf\n",
    "import matplotlib.pyplot as plt\n",
    "with open(os.path.dirname(component_separation.__file__)+'/config.json', \"r\") as f:\n",
    "    cf = json.load(f)\n",
    "    \n",
    "import platform\n",
    "uname = platform.uname()\n",
    "if uname.node == \"DESKTOP-KMIGUPV\":\n",
    "    mch = \"XPS\"\n",
    "else:\n",
    "    mch = \"NERSC\"\n",
    "    \n",
    "CMB = dict()\n",
    "almT, almE, almB = dict(), dict(), dict()"
   ]
  },
  {
   "cell_type": "code",
   "execution_count": 117,
   "id": "7fdeb56b-634a-46d2-bc6a-8f1d736109fc",
   "metadata": {},
   "outputs": [
    {
     "name": "stderr",
     "output_type": "stream",
     "text": [
      "/global/homes/s/sebibel/.local/cori/3.8-anaconda-2020.11/lib/python3.8/site-packages/healpy-1.14.0-py3.8-linux-x86_64.egg/healpy/fitsfunc.py:368: UserWarning: If you are not specifying the input dtype and using the default np.float64 dtype of read_map(), please consider that it will change in a future version to None as to keep the same dtype of the input file: please explicitly set the dtype if it is important to you.\n",
      "  warnings.warn(\n",
      "/global/homes/s/sebibel/.local/cori/3.8-anaconda-2020.11/lib/python3.8/site-packages/healpy-1.14.0-py3.8-linux-x86_64.egg/healpy/fitsfunc.py:391: UserWarning: NSIDE = 1024\n",
      "  warnings.warn(\"NSIDE = {0:d}\".format(nside))\n",
      "/global/homes/s/sebibel/.local/cori/3.8-anaconda-2020.11/lib/python3.8/site-packages/healpy-1.14.0-py3.8-linux-x86_64.egg/healpy/fitsfunc.py:400: UserWarning: ORDERING = NESTED in fits file\n",
      "  warnings.warn(\"ORDERING = {0:s} in fits file\".format(ordering))\n",
      "/global/homes/s/sebibel/.local/cori/3.8-anaconda-2020.11/lib/python3.8/site-packages/healpy-1.14.0-py3.8-linux-x86_64.egg/healpy/fitsfunc.py:428: UserWarning: INDXSCHM = IMPLICIT\n",
      "  warnings.warn(\"INDXSCHM = {0:s}\".format(schm))\n",
      "/global/homes/s/sebibel/.local/cori/3.8-anaconda-2020.11/lib/python3.8/site-packages/healpy-1.14.0-py3.8-linux-x86_64.egg/healpy/fitsfunc.py:486: UserWarning: Ordering converted to RING\n",
      "  warnings.warn(\"Ordering converted to RING\")\n",
      "/global/homes/s/sebibel/.local/cori/3.8-anaconda-2020.11/lib/python3.8/site-packages/healpy-1.14.0-py3.8-linux-x86_64.egg/healpy/fitsfunc.py:391: UserWarning: NSIDE = 2048\n",
      "  warnings.warn(\"NSIDE = {0:d}\".format(nside))\n"
     ]
    },
    {
     "name": "stdout",
     "output_type": "stream",
     "text": [
      "loaded {'030': '/global/cfs/cdirs/cmb/data/planck2020/npipe/npipe6v20_sim/0200/npipe6v20_030_map.fits', '044': '/global/cfs/cdirs/cmb/data/planck2020/npipe/npipe6v20_sim/0200/npipe6v20_044_map.fits', '070': '/global/cfs/cdirs/cmb/data/planck2020/npipe/npipe6v20_sim/0200/npipe6v20_070_map.fits', '100': '/global/cfs/cdirs/cmb/data/planck2020/npipe/npipe6v20_sim/0200/npipe6v20_100_map.fits', '143': '/global/cfs/cdirs/cmb/data/planck2020/npipe/npipe6v20_sim/0200/npipe6v20_143_map.fits', '217': '/global/cfs/cdirs/cmb/data/planck2020/npipe/npipe6v20_sim/0200/npipe6v20_217_map.fits', '353': '/global/cfs/cdirs/cmb/data/planck2020/npipe/npipe6v20_sim/0200/npipe6v20_353_map.fits'}\n"
     ]
    },
    {
     "name": "stderr",
     "output_type": "stream",
     "text": [
      "<ipython-input-117-782b7c7c58e6>:10: ParserWarning: Falling back to the 'python' engine because the 'c' engine does not support regex separators (separators > 1 char and different from '\\s+' are interpreted as regex); you can avoid this warning by specifying engine='python'.\n",
      "  D_lS = pd.read_csv(\n",
      "<ipython-input-117-782b7c7c58e6>:16: RuntimeWarning: invalid value encountered in true_divide\n",
      "  C_lS_EE = D_lS_EE[:lmax+1]/hpf.llp1e12(np.array([range(lmax+1)]))\n"
     ]
    }
   ],
   "source": [
    "data = io.load_plamap(cf, field=(0,1,2))\n",
    "lmax = 1500\n",
    "names = [\"030\", \"044\", \"070\", \"100\", \"143\", \"217\", \"353\", \"545\", \"857\"]\n",
    "nside = 512\n",
    "smica_W_pol = np.loadtxt(\"/global/homes/s/sebibel/data/weights/weights_EB_smica_R3.00.txt\").reshape(2,7,4001)\n",
    "smica_W_t = np.loadtxt(\"/global/homes/s/sebibel/data/weights/weights_T_smica_R3.00_Xfull.txt\")\n",
    "# data = prep.preprocess_all(data)\n",
    "\n",
    "ndet=7\n",
    "D_lS = pd.read_csv(\n",
    "        cf[mch]['powspec_truthfile'],\n",
    "        header=0,\n",
    "        sep='    ',\n",
    "        index_col=0)\n",
    "D_lS_EE = D_lS[\"Planck-\"+\"EE\"].to_numpy()\n",
    "C_lS_EE = D_lS_EE[:lmax+1]/hpf.llp1e12(np.array([range(lmax+1)]))\n",
    "cov_lS_EE = np.ones((ndet,ndet,lmax+1)) * C_lS_EE * 1e12"
   ]
  },
  {
   "cell_type": "code",
   "execution_count": 118,
   "id": "9e7f1ea8-8432-428b-8fe9-689c56a75690",
   "metadata": {},
   "outputs": [],
   "source": [
    "for name in names[:-2]:\n",
    "    alms = hp.map2alm(hp.ud_grade(data[name], nside_out=nside), lmax, iter=0) # full sky QU->EB\n",
    "    almT[name] = alms[0]\n",
    "    almE[name] = alms[1]\n",
    "    almB[name] = alms[2]"
   ]
  },
  {
   "cell_type": "code",
   "execution_count": 119,
   "id": "5e013b5d-9516-4fce-bf30-48bf496ea29e",
   "metadata": {},
   "outputs": [
    {
     "name": "stdout",
     "output_type": "stream",
     "text": [
      "0 030\n",
      "1 044\n",
      "2 070\n",
      "3 100\n",
      "4 143\n",
      "5 217\n",
      "6 353\n"
     ]
    }
   ],
   "source": [
    "nalm = int((lmax+1)*(lmax+2)/2)  \n",
    "combalmT = np.zeros((nalm), dtype=np.complex128)\n",
    "combalmE = np.zeros((nalm), dtype=np.complex128)\n",
    "combalmB = np.zeros((nalm), dtype=np.complex128)\n",
    "for m,name in zip(range(len(names[:-2])),names[:-2]):\n",
    "    combalmT += hp.almxfl(almT[name], np.squeeze(smica_W_t[m,:]))\n",
    "    combalmE += hp.almxfl(almE[name], np.squeeze(smica_W_pol[0,m,:]))\n",
    "    combalmB += hp.almxfl(almB[name], np.squeeze(smica_W_pol[1,m,:]))"
   ]
  },
  {
   "cell_type": "code",
   "execution_count": 121,
   "id": "c42e7e18-f482-4b88-a993-b973b2501498",
   "metadata": {},
   "outputs": [
    {
     "name": "stderr",
     "output_type": "stream",
     "text": [
      "/global/homes/s/sebibel/.local/cori/3.8-anaconda-2020.11/lib/python3.8/site-packages/healpy-1.14.0-py3.8-linux-x86_64.egg/healpy/sphtfunc.py:822: UserWarning: Sigma is 0.000000 arcmin (0.000000 rad) \n",
      "  warnings.warn(\n",
      "/global/homes/s/sebibel/.local/cori/3.8-anaconda-2020.11/lib/python3.8/site-packages/healpy-1.14.0-py3.8-linux-x86_64.egg/healpy/sphtfunc.py:827: UserWarning: -> fwhm is 0.000000 arcmin\n",
      "  warnings.warn(\n"
     ]
    }
   ],
   "source": [
    "CMB[\"TT\"] = hp.almxfl(combalmT, hp.pixwin(nside)[0:lmax])\n",
    "CMB[\"EE\"] = hp.almxfl(combalmE, hp.pixwin(nside, pol=True)[0][0:lmax])\n",
    "CMB[\"BB\"] = hp.almxfl(combalmB, hp.pixwin(nside, pol=True)[1][0:lmax])\n",
    "\n",
    "CMB[\"TQU\"] = hp.alm2map([CMB[\"TT\"], CMB[\"EE\"], CMB[\"BB\"]], nside)"
   ]
  },
  {
   "cell_type": "code",
   "execution_count": 143,
   "id": "3680b51a-1b16-43a7-b83b-489738a15685",
   "metadata": {},
   "outputs": [],
   "source": [
    "cl = hp.anafast(CMB[\"TQU\"])"
   ]
  },
  {
   "cell_type": "markdown",
   "id": "bbfa261b-ed11-4c35-a935-1bcb61143a7b",
   "metadata": {},
   "source": [
    "# Final step of Smica propagation code\n",
    "Blue shows the sum over all detector alms, multiplied with the respective weights. This should be somewhat identical to the minimum variance way (at least for highish ell)"
   ]
  },
  {
   "cell_type": "code",
   "execution_count": 203,
   "id": "73b9ce05-1d3c-4548-8812-6ad702b6174b",
   "metadata": {},
   "outputs": [
    {
     "data": {
      "text/plain": [
       "Text(0, 0.5, 'powerspectrum C_l')"
      ]
     },
     "execution_count": 203,
     "metadata": {},
     "output_type": "execute_result"
    },
    {
     "data": {
      "image/png": "[encoded data removed]",
      "text/plain": [
       "<Figure size 432x288 with 1 Axes>"
      ]
     },
     "metadata": {
      "needs_background": "light"
     },
     "output_type": "display_data"
    }
   ],
   "source": [
    "for n in [1]:#range(1):\n",
    "    plt.plot(cl[n,:]*hpf.llp1e12(np.array(range(1536))), label='Smica propagation code combined detectors')\n",
    "plt.plot(D_lS_EE, label= \"Planck EE best estimate\")\n",
    "plt.yscale('log')\n",
    "plt.legend()\n",
    "plt.title(\"Output of Smica propagation code\")\n",
    "# plt.ylim((1e-16,1e-14))\n",
    "plt.xlim((10,1500))\n",
    "plt.xlabel('Multipole')\n",
    "plt.ylabel('powerspectrum C_l')"
   ]
  }
 ],
 "metadata": {
  "kernelspec": {
   "display_name": "pyenv",
   "language": "python",
   "name": "pyenv"
  },
  "language_info": {
   "codemirror_mode": {
    "name": "ipython",
    "version": 3
   },
   "file_extension": ".py",
   "mimetype": "text/x-python",
   "name": "python",
   "nbconvert_exporter": "python",
   "pygments_lexer": "ipython3",
   "version": "3.8.5"
  }
 },
 "nbformat": 4,
 "nbformat_minor": 5
}
