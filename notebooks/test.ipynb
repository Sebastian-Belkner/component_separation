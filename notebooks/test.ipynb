{
 "cells": [
  {
   "cell_type": "code",
   "execution_count": 1,
   "id": "ae6b1019-45a7-42fb-bca8-44b6a039aca2",
   "metadata": {},
   "outputs": [],
   "source": [
    "%%capture\n",
    "import numpy as np\n",
    "import pandas as pd\n",
    "from healpy.sphtfunc import smoothing\n",
    "import smica\n",
    "import os\n",
    "import json\n",
    "\n",
    "import copy\n",
    "from astropy.io import fits\n",
    "from scipy import interpolate\n",
    "\n",
    "import healpy as hp\n",
    "import component_separation\n",
    "from component_separation.io import IO\n",
    "import component_separation.interface as cslib\n",
    "import component_separation.MSC.MSC.pospace as ps\n",
    "import component_separation.powspec as pw\n",
    "\n",
    "import component_separation.transform_spec as trsf_s\n",
    "from component_separation.cs_util import Config\n",
    "from component_separation.cs_util import Constants as const\n",
    "from component_separation.cs_util import Helperfunctions as hpf\n",
    "from component_separation.cs_util import Planckf, Planckr, Plancks\n",
    "import matplotlib.pyplot as plt\n",
    "from component_separation.cs_util import Filename_gen as fn_gen\n",
    "import warnings\n",
    "\n",
    "csu = Config()\n",
    "io = IO(csu)\n",
    "\n",
    "warnings.filterwarnings('ignore')"
   ]
  },
  {
   "cell_type": "code",
   "execution_count": 2,
   "id": "b71f508c-736c-4bad-ae64-c25a1da49d92",
   "metadata": {},
   "outputs": [
    {
     "ename": "AttributeError",
     "evalue": "'Config' object has no attribute 'cf_loc'",
     "output_type": "error",
     "traceback": [
      "\u001b[0;31m---------------------------------------------------------------------------\u001b[0m",
      "\u001b[0;31mAttributeError\u001b[0m                            Traceback (most recent call last)",
      "\u001b[0;32m<ipython-input-2-8fa0d91ea855>\u001b[0m in \u001b[0;36m<module>\u001b[0;34m\u001b[0m\n\u001b[1;32m      3\u001b[0m \u001b[0mpowerspectrum_type\u001b[0m \u001b[0;34m=\u001b[0m \u001b[0;34m'Chonetal'\u001b[0m\u001b[0;34m\u001b[0m\u001b[0;34m\u001b[0m\u001b[0m\n\u001b[1;32m      4\u001b[0m \u001b[0mrepresent\u001b[0m \u001b[0;34m=\u001b[0m \u001b[0;34m'Cl'\u001b[0m\u001b[0;34m\u001b[0m\u001b[0;34m\u001b[0m\u001b[0m\n\u001b[0;32m----> 5\u001b[0;31m \u001b[0mtst\u001b[0m \u001b[0;34m=\u001b[0m \u001b[0mfn_gen\u001b[0m\u001b[0;34m(\u001b[0m\u001b[0mcsu\u001b[0m\u001b[0;34m)\u001b[0m\u001b[0;34m.\u001b[0m\u001b[0mget_spectrum\u001b[0m\u001b[0;34m(\u001b[0m\u001b[0minfo_component\u001b[0m\u001b[0;34m,\u001b[0m \u001b[0minfo_combination\u001b[0m\u001b[0;34m,\u001b[0m \u001b[0mrepresent\u001b[0m\u001b[0;34m,\u001b[0m \u001b[0msim_id\u001b[0m\u001b[0;34m=\u001b[0m\u001b[0;36m100\u001b[0m\u001b[0;34m)\u001b[0m\u001b[0;34m\u001b[0m\u001b[0;34m\u001b[0m\u001b[0m\n\u001b[0m\u001b[1;32m      6\u001b[0m \u001b[0mprint\u001b[0m\u001b[0;34m(\u001b[0m\u001b[0;36m20\u001b[0m\u001b[0;34m*\u001b[0m\u001b[0;34m'='\u001b[0m\u001b[0;34m)\u001b[0m\u001b[0;34m\u001b[0m\u001b[0;34m\u001b[0m\u001b[0m\n\u001b[1;32m      7\u001b[0m \u001b[0mprint\u001b[0m\u001b[0;34m(\u001b[0m\u001b[0mtst\u001b[0m\u001b[0;34m)\u001b[0m\u001b[0;34m\u001b[0m\u001b[0;34m\u001b[0m\u001b[0m\n",
      "\u001b[0;32m/global/u2/s/sebibel/git/component_separation/component_separation/cs_util.py\u001b[0m in \u001b[0;36mget_spectrum\u001b[0;34m(self, info_component, info_combination, represent, sim_id, prefix)\u001b[0m\n\u001b[1;32m    265\u001b[0m         \u001b[0;32massert\u001b[0m \u001b[0mtype\u001b[0m\u001b[0;34m(\u001b[0m\u001b[0msim_id\u001b[0m\u001b[0;34m)\u001b[0m \u001b[0;34m==\u001b[0m \u001b[0mint\u001b[0m \u001b[0;32mor\u001b[0m \u001b[0msim_id\u001b[0m \u001b[0;32mis\u001b[0m \u001b[0;32mNone\u001b[0m\u001b[0;34m\u001b[0m\u001b[0;34m\u001b[0m\u001b[0m\n\u001b[1;32m    266\u001b[0m \u001b[0;34m\u001b[0m\u001b[0m\n\u001b[0;32m--> 267\u001b[0;31m         \u001b[0mdir_map_loc\u001b[0m\u001b[0;34m,\u001b[0m \u001b[0mdir_spec_loc\u001b[0m\u001b[0;34m,\u001b[0m \u001b[0mdir_misc_loc\u001b[0m \u001b[0;34m=\u001b[0m \u001b[0mself\u001b[0m\u001b[0;34m.\u001b[0m\u001b[0m_get_dir\u001b[0m\u001b[0;34m(\u001b[0m\u001b[0minfo_component\u001b[0m\u001b[0;34m,\u001b[0m \u001b[0msim_id\u001b[0m\u001b[0;34m)\u001b[0m\u001b[0;34m\u001b[0m\u001b[0;34m\u001b[0m\u001b[0m\n\u001b[0m\u001b[1;32m    268\u001b[0m         \u001b[0;32mif\u001b[0m \u001b[0mprefix\u001b[0m \u001b[0;32mis\u001b[0m \u001b[0;32mNone\u001b[0m\u001b[0;34m:\u001b[0m\u001b[0;34m\u001b[0m\u001b[0;34m\u001b[0m\u001b[0m\n\u001b[1;32m    269\u001b[0m             \u001b[0;32mpass\u001b[0m\u001b[0;34m\u001b[0m\u001b[0;34m\u001b[0m\u001b[0m\n",
      "\u001b[0;32m/global/u2/s/sebibel/git/component_separation/component_separation/cs_util.py\u001b[0m in \u001b[0;36m_get_dir\u001b[0;34m(self, info_component, sim_id)\u001b[0m\n\u001b[1;32m    152\u001b[0m                         \u001b[0;34m-\u001b[0m\u001b[0;34m-\u001b[0m\u001b[0mspec\u001b[0m\u001b[0;34m/\u001b[0m\u001b[0;34m\u001b[0m\u001b[0;34m\u001b[0m\u001b[0m\n\u001b[1;32m    153\u001b[0m         \"\"\"\n\u001b[0;32m--> 154\u001b[0;31m         \u001b[0map\u001b[0m \u001b[0;34m=\u001b[0m \u001b[0mpath\u001b[0m\u001b[0;34m.\u001b[0m\u001b[0mjoin\u001b[0m\u001b[0;34m(\u001b[0m\u001b[0mself\u001b[0m\u001b[0;34m.\u001b[0m\u001b[0mcsu_loc\u001b[0m\u001b[0;34m.\u001b[0m\u001b[0mcf_loc\u001b[0m\u001b[0;34m[\u001b[0m\u001b[0mself\u001b[0m\u001b[0;34m.\u001b[0m\u001b[0mcsu_loc\u001b[0m\u001b[0;34m.\u001b[0m\u001b[0mmch\u001b[0m\u001b[0;34m]\u001b[0m\u001b[0;34m[\u001b[0m\u001b[0;34m'outdir_ap'\u001b[0m\u001b[0;34m]\u001b[0m\u001b[0;34m,\u001b[0m \u001b[0;34m'compsep'\u001b[0m\u001b[0;34m)\u001b[0m\u001b[0;34m\u001b[0m\u001b[0;34m\u001b[0m\u001b[0m\n\u001b[0m\u001b[1;32m    155\u001b[0m         \u001b[0mio\u001b[0m\u001b[0;34m.\u001b[0m\u001b[0miff_make_dir\u001b[0m\u001b[0;34m(\u001b[0m\u001b[0map\u001b[0m\u001b[0;34m)\u001b[0m\u001b[0;34m\u001b[0m\u001b[0;34m\u001b[0m\u001b[0m\n\u001b[1;32m    156\u001b[0m \u001b[0;34m\u001b[0m\u001b[0m\n",
      "\u001b[0;31mAttributeError\u001b[0m: 'Config' object has no attribute 'cf_loc'"
     ]
    }
   ],
   "source": [
    "info_component = 'foreground'\n",
    "info_combination = 'combined'\n",
    "powerspectrum_type = 'Chonetal'\n",
    "represent = 'Cl'\n",
    "tst = fn_gen(csu).get_spectrum(info_component, info_combination, represent, sim_id=100)\n",
    "print(20*'=')\n",
    "print(tst)\n",
    "print(20*'=')"
   ]
  },
  {
   "cell_type": "code",
   "execution_count": null,
   "id": "11f747af-891c-4469-95a7-16d9a9976323",
   "metadata": {},
   "outputs": [],
   "source": []
  }
 ],
 "metadata": {
  "kernelspec": {
   "display_name": "pyenv",
   "language": "python",
   "name": "pyenv"
  },
  "language_info": {
   "codemirror_mode": {
    "name": "ipython",
    "version": 3
   },
   "file_extension": ".py",
   "mimetype": "text/x-python",
   "name": "python",
   "nbconvert_exporter": "python",
   "pygments_lexer": "ipython3",
   "version": "3.8.5"
  }
 },
 "nbformat": 4,
 "nbformat_minor": 5
}
