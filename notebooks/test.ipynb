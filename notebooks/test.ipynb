{
 "cells": [
  {
   "cell_type": "code",
   "execution_count": 1,
   "id": "ae6b1019-45a7-42fb-bca8-44b6a039aca2",
   "metadata": {},
   "outputs": [],
   "source": [
    "%%capture\n",
    "import numpy as np\n",
    "import pandas as pd\n",
    "from healpy.sphtfunc import smoothing\n",
    "import smica\n",
    "import os\n",
    "import json\n",
    "\n",
    "import copy\n",
    "from astropy.io import fits\n",
    "from scipy import interpolate\n",
    "\n",
    "import healpy as hp\n",
    "import component_separation\n",
    "from component_separation.io import IO\n",
    "import component_separation.interface as cslib\n",
    "import component_separation.MSC.MSC.pospace as ps\n",
    "import component_separation.powspec as pw\n",
    "\n",
    "import component_separation.transform_spec as trsf_s\n",
    "from component_separation.cs_util import Config\n",
    "from component_separation.cs_util import Constants as const\n",
    "from component_separation.cs_util import Helperfunctions as hpf\n",
    "from component_separation.cs_util import Planckf, Planckr, Plancks\n",
    "import matplotlib.pyplot as plt\n",
    "from component_separation.cs_util import Filename_gen as fn_gen\n",
    "import warnings\n",
    "\n",
    "csu = Config()\n",
    "io = IO(csu)\n",
    "\n",
    "warnings.filterwarnings('ignore')"
   ]
  },
  {
   "cell_type": "code",
   "execution_count": 4,
   "id": "b71f508c-736c-4bad-ae64-c25a1da49d92",
   "metadata": {},
   "outputs": [
    {
     "name": "stdout",
     "output_type": "stream",
     "text": [
      "====================\n",
      "/global/cscratch1/sd/sebibel/compsep/NPIPE/smicamask/sim100/smicasep-foreground/spec/Dl_SMICA_highell_bins_combined_2048_4000_pseudo_100.npy\n",
      "====================\n"
     ]
    }
   ],
   "source": [
    "info_component = 'foreground'\n",
    "info_combination = 'combined'\n",
    "powerspectrum_type = 'Chonetal'\n",
    "represent = 'Dl'\n",
    "tst = fn_gen(csu).get_spectrum(info_component, info_combination, represent, sim_id=100)\n",
    "print(20*'=')\n",
    "print(tst)\n",
    "print(20*'=')"
   ]
  }
 ],
 "metadata": {
  "kernelspec": {
   "display_name": "pyenv",
   "language": "python",
   "name": "pyenv"
  },
  "language_info": {
   "codemirror_mode": {
    "name": "ipython",
    "version": 3
   },
   "file_extension": ".py",
   "mimetype": "text/x-python",
   "name": "python",
   "nbconvert_exporter": "python",
   "pygments_lexer": "ipython3",
   "version": "3.8.5"
  }
 },
 "nbformat": 4,
 "nbformat_minor": 5
}
