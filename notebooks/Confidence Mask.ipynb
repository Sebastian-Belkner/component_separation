{
 "cells": [
  {
   "cell_type": "markdown",
   "id": "0b2496b7-cb98-4e88-8d2e-8b625df9ff9b",
   "metadata": {},
   "source": [
    "# Header\n",
    "### Compare DX12 confidence mask to NPIPE confidence mask "
   ]
  },
  {
   "cell_type": "code",
   "execution_count": 2,
   "id": "6f9334c4-db9d-44db-b0c2-1de5ff50ad1e",
   "metadata": {},
   "outputs": [],
   "source": [
    "%%capture\n",
    "import numpy as np\n",
    "import pandas as pd\n",
    "from healpy.sphtfunc import smoothing\n",
    "import smica\n",
    "import os\n",
    "import json\n",
    "\n",
    "import copy\n",
    "from astropy.io import fits\n",
    "\n",
    "import healpy as hp\n",
    "import component_separation\n",
    "from component_separation.io import IO\n",
    "import component_separation.interface as cslib\n",
    "import component_separation.MSC.MSC.pospace as ps\n",
    "import component_separation.powspec as pw\n",
    "\n",
    "from component_separation.cs_util import Config\n",
    "from component_separation.cs_util import Constants as const\n",
    "from component_separation.cs_util import Helperfunctions as hpf\n",
    "from component_separation.cs_util import Planckf, Planckr, Plancks\n",
    "import matplotlib.pyplot as plt\n",
    "csu = Config()\n",
    "io = IO(csu)\n",
    "import warnings\n",
    "warnings.filterwarnings('ignore')\n",
    "props = dict(boxstyle='round', facecolor='wheat', alpha=0.5)\n",
    "tebdict = {0:'I', 1:'Q', 2:'U'}\n",
    "\n",
    "lmax=csu.lmax\n",
    "nside_out = csu.nside_out\n",
    "bins = csu.bins\n",
    "detector = csu.PLANCKMAPFREQ_f\n",
    "specfilter = csu.specfilter\n",
    "freqfilter = csu.freqfilter\n",
    "lmaxbins = int(bins[-1][1])\n",
    "colors=csu.CB_color_cycle\n",
    "filename = io.fh.total_filename\n",
    "C_lS = io.load_powerspectra('signal')"
   ]
  },
  {
   "cell_type": "code",
   "execution_count": 33,
   "id": "02c2e6c9-0f98-479e-9413-0943d2fce548",
   "metadata": {},
   "outputs": [
    {
     "name": "stdout",
     "output_type": "stream",
     "text": [
      "$$$$$$$$$$$$$$$$$$$$$$$$$$$$$$$$$$$$$$$$\n",
      "Run with the following settings:\n",
      "{'Tscale': 'K_CMB', 'mskset': 'smica', 'freqdset': 'DX12', 'Spectrum_scale': 'C_l', 'lmax': 4000, 'lmax_mask': 6000, 'freqdatsplit': '', 'smoothing_window': 0, 'max_polynom': 0, 'num_sim': 5, 'binname': 'SMICA_highell_bins', 'overwrite_cache': True, 'split': '', 'nside_out': None, 'splitvariation': 'GHz', 'freqfilter': ['545', '857'], 'specfilter': ['TB', 'EB', 'ET', 'BT', 'BE'], 'nside_desc_map': [1024, 2048]}\n",
      "$$$$$$$$$$$$$$$$$$$$$$$$$$$$$$$$$$$$$$$$\n",
      "loading mask ['psmaskP_2048.fits.gz', 'gmaskP_apodized_0_2048.fits.gz']\n"
     ]
    },
    {
     "ename": "AttributeError",
     "evalue": "'dict' object has no attribute 'shape'",
     "output_type": "error",
     "traceback": [
      "\u001b[0;31m---------------------------------------------------------------------------\u001b[0m",
      "\u001b[0;31mAttributeError\u001b[0m                            Traceback (most recent call last)",
      "\u001b[0;32m<ipython-input-33-22f9a38ad60d>\u001b[0m in \u001b[0;36m<module>\u001b[0;34m\u001b[0m\n\u001b[1;32m      6\u001b[0m \u001b[0mtmask\u001b[0m\u001b[0;34m,\u001b[0m \u001b[0mpmask_smica\u001b[0m\u001b[0;34m,\u001b[0m \u001b[0mpmask_smica\u001b[0m \u001b[0;34m=\u001b[0m \u001b[0mioDXS\u001b[0m\u001b[0;34m.\u001b[0m\u001b[0mload_one_mask_forallfreq\u001b[0m\u001b[0;34m(\u001b[0m\u001b[0;34m)\u001b[0m\u001b[0;34m\u001b[0m\u001b[0;34m\u001b[0m\u001b[0m\n\u001b[1;32m      7\u001b[0m \u001b[0;34m\u001b[0m\u001b[0m\n\u001b[0;32m----> 8\u001b[0;31m \u001b[0mprint\u001b[0m\u001b[0;34m(\u001b[0m\u001b[0mpmask_smica\u001b[0m\u001b[0;34m.\u001b[0m\u001b[0mshape\u001b[0m\u001b[0;34m)\u001b[0m\u001b[0;34m\u001b[0m\u001b[0;34m\u001b[0m\u001b[0m\n\u001b[0m",
      "\u001b[0;31mAttributeError\u001b[0m: 'dict' object has no attribute 'shape'"
     ]
    }
   ],
   "source": [
    "cfDXS = copy.deepcopy(csu.cf)\n",
    "cfDXS['pa']['freqdset'] = 'DX12'\n",
    "cfDXS['pa']['mskset'] = 'smica'\n",
    "csuDXS = Config(cfDXS)\n",
    "ioDXS = IO(csuDXS)\n",
    "tmask, pmask_smica, pmask_smica = ioDXS.load_one_mask_forallfreq()"
   ]
  },
  {
   "cell_type": "code",
   "execution_count": 40,
   "id": "607d3558-e4bc-4216-a16d-8a8e8d7b36e4",
   "metadata": {},
   "outputs": [],
   "source": [
    "psmask = hp.read_map(\"/global/homes/s/sebibel/data/mask/psmaskP_2048.fits.gz\")\n",
    "gmask = hp.read_map(\"/global/homes/s/sebibel/data/mask/gmaskP_apodized_0_2048.fits.gz\")"
   ]
  },
  {
   "cell_type": "code",
   "execution_count": 42,
   "id": "c3828e00-de7a-424a-ac64-7600ee8ecf2c",
   "metadata": {},
   "outputs": [
    {
     "data": {
      "application/vnd.jupyter.widget-view+json": {
       "model_id": "7ee47f0d01e14f818e086e66eacd74e3",
       "version_major": 2,
       "version_minor": 0
      },
      "text/plain": [
       "Canvas(toolbar=Toolbar(toolitems=[('Home', 'Reset original view', 'home', 'home'), ('Back', 'Back to previous …"
      ]
     },
     "metadata": {},
     "output_type": "display_data"
    },
    {
     "data": {
      "application/vnd.jupyter.widget-view+json": {
       "model_id": "a7743701ed5e43bb96505a88cf34a2ef",
       "version_major": 2,
       "version_minor": 0
      },
      "text/plain": [
       "Canvas(toolbar=Toolbar(toolitems=[('Home', 'Reset original view', 'home', 'home'), ('Back', 'Back to previous …"
      ]
     },
     "metadata": {},
     "output_type": "display_data"
    }
   ],
   "source": [
    "hp.mollzoom(psmask)\n",
    "hp.mollzoom(gmask)"
   ]
  },
  {
   "cell_type": "code",
   "execution_count": 4,
   "id": "70f561dd-ae01-4124-88bc-a62f7bbbf392",
   "metadata": {},
   "outputs": [
    {
     "name": "stdout",
     "output_type": "stream",
     "text": [
      "$$$$$$$$$$$$$$$$$$$$$$$$$$$$$$$$$$$$$$$$\n",
      "Run with the following settings:\n",
      "{'Tscale': 'K_CMB', 'mskset': 'lens', 'freqdset': 'DX12', 'Spectrum_scale': 'C_l', 'lmax': 4000, 'lmax_mask': 6000, 'freqdatsplit': '', 'smoothing_window': 0, 'max_polynom': 0, 'num_sim': 5, 'binname': 'SMICA_highell_bins', 'overwrite_cache': True, 'split': '', 'nside_out': None, 'splitvariation': 'GHz', 'freqfilter': ['545', '857'], 'specfilter': ['TB', 'EB', 'ET', 'BT', 'BE'], 'nside_desc_map': [1024, 2048]}\n",
      "$$$$$$$$$$$$$$$$$$$$$$$$$$$$$$$$$$$$$$$$\n",
      "loaded {'030': '/global/cfs/cdirs/cmb/data/planck2018/pr3/frequencymaps/LFI_SkyMap_030_1024_R3.00_full.fits', '044': '/global/cfs/cdirs/cmb/data/planck2018/pr3/frequencymaps/LFI_SkyMap_044_1024_R3.00_full.fits', '070': '/global/cfs/cdirs/cmb/data/planck2018/pr3/frequencymaps/LFI_SkyMap_070_1024_R3.00_full.fits', '100': '/global/cfs/cdirs/cmb/data/planck2018/pr3/frequencymaps/HFI_SkyMap_100_2048_R3.01_full.fits', '143': '/global/cfs/cdirs/cmb/data/planck2018/pr3/frequencymaps/HFI_SkyMap_143_2048_R3.01_full.fits', '217': '/global/cfs/cdirs/cmb/data/planck2018/pr3/frequencymaps/HFI_SkyMap_217_2048_R3.01_full.fits', '353': '/global/cfs/cdirs/cmb/data/planck2018/pr3/frequencymaps/HFI_SkyMap_353_2048_R3.01_full.fits'}\n",
      "$$$$$$$$$$$$$$$$$$$$$$$$$$$$$$$$$$$$$$$$\n",
      "Run with the following settings:\n",
      "{'Tscale': 'K_CMB', 'mskset': 'lens', 'freqdset': 'NPIPE', 'Spectrum_scale': 'C_l', 'lmax': 4000, 'lmax_mask': 6000, 'freqdatsplit': '', 'smoothing_window': 0, 'max_polynom': 0, 'num_sim': 5, 'binname': 'SMICA_highell_bins', 'overwrite_cache': True, 'split': '', 'nside_out': None, 'splitvariation': 'GHz', 'freqfilter': ['545', '857'], 'specfilter': ['TB', 'EB', 'ET', 'BT', 'BE'], 'nside_desc_map': [1024, 2048]}\n",
      "$$$$$$$$$$$$$$$$$$$$$$$$$$$$$$$$$$$$$$$$\n",
      "loaded {'030': '/global/cfs/cdirs/cmb/data/planck2020/npipe/npipe6v20/npipe6v20_030_map.fits', '044': '/global/cfs/cdirs/cmb/data/planck2020/npipe/npipe6v20/npipe6v20_044_map.fits', '070': '/global/cfs/cdirs/cmb/data/planck2020/npipe/npipe6v20/npipe6v20_070_map.fits', '100': '/global/cfs/cdirs/cmb/data/planck2020/npipe/npipe6v20/npipe6v20_100_map.fits', '143': '/global/cfs/cdirs/cmb/data/planck2020/npipe/npipe6v20/npipe6v20_143_map.fits', '217': '/global/cfs/cdirs/cmb/data/planck2020/npipe/npipe6v20/npipe6v20_217_map.fits', '353': '/global/cfs/cdirs/cmb/data/planck2020/npipe/npipe6v20/npipe6v20_353_map.fits'}\n"
     ]
    }
   ],
   "source": [
    "cfc = copy.deepcopy(csu.cf)\n",
    "cfc['pa']['freqdset'] = 'DX12'\n",
    "cfc['pa']['mskset'] = 'smica'\n",
    "csuc = Config(cfc)\n",
    "ioc = IO(csuc)\n",
    "maps_DX = ioc.load_plamap(csuc.cf, field=(0,1,2), nside_out=csu.nside_out)\n",
    "\n",
    "cfc = copy.deepcopy(csu.cf)\n",
    "cfc['pa']['freqdset'] = 'NPIPE'\n",
    "cfc['pa']['mskset'] = 'smica'\n",
    "csuc = Config(cfc)\n",
    "ioc = IO(csuc)\n",
    "maps_NP = ioc.load_plamap(csuc.cf, field=(0,1,2), nside_out=csuc.nside_out)"
   ]
  },
  {
   "cell_type": "markdown",
   "id": "f1a1e89c-cc0c-4f55-a03b-76d08a90d097",
   "metadata": {},
   "source": [
    "# Bright Pixels"
   ]
  },
  {
   "cell_type": "code",
   "execution_count": 58,
   "id": "c2bffcfe-9778-415b-8001-dd0a199a63c8",
   "metadata": {},
   "outputs": [
    {
     "name": "stdout",
     "output_type": "stream",
     "text": [
      "['030', '044', '070', '100', '143', '217', '353']\n",
      "030\n",
      "044\n",
      "070\n",
      "100\n",
      "143\n",
      "217\n",
      "353\n"
     ]
    }
   ],
   "source": [
    "freqs = csu.PLANCKMAPFREQ_f\n",
    "treshold = 10\n",
    "print(freqs)\n",
    "logi_NP = dict()\n",
    "logi_DX = dict()\n",
    "for idx, n in enumerate(freqs):\n",
    "    maps_NPug = dict()\n",
    "    maps_NPug[n]=np.zeros(shape=(3,maps_NP['100'][0].shape[0]))\n",
    "    maps_DXug = dict()\n",
    "    maps_DXug[n]=np.zeros(shape=(3,maps_DX['100'][0].shape[0]))\n",
    "    logi_NP[idx] = dict()\n",
    "    logi_DX[idx] = dict()\n",
    "    print(n)\n",
    "    for idy, m in enumerate(range(3)):\n",
    "        maps_NPug[n][idy] = hp.ud_grade(maps_NP[n][idy],nside_out=2048)\n",
    "        maps_DXug[n][idy] = hp.ud_grade(maps_DX[n][idy],nside_out=2048)\n",
    "        logi_NP[idx][idy] = np.abs(maps_NPug[n][idy])>treshold*np.std(maps_NPug[n][idy])\n",
    "        logi_DX[idx][idy] = np.abs(maps_DXug[n][idy])>treshold*np.std(maps_DXug[n][idy])\n",
    "#     ret[n] = np.where(np.abs(data[n])>np.mean(data[n])+10*np.std(data[n]), 0.0, data[n])"
   ]
  },
  {
   "cell_type": "code",
   "execution_count": 63,
   "id": "f69b75b8-7b6b-4ca1-8215-e1588b217ed6",
   "metadata": {},
   "outputs": [],
   "source": [
    "stackedNP = np.zeros_like(logi_NP[3][1])\n",
    "stackedDX = np.zeros_like(logi_DX[3][1])\n",
    "for n in range(0,7):\n",
    "    for m in range(1,3):\n",
    "        stackedNP = np.logical_or(stacked, logi_NP[n][m])\n",
    "        stackedDX = np.logical_or(stacked, logi_DX[n][m])"
   ]
  },
  {
   "cell_type": "code",
   "execution_count": 66,
   "id": "eda3899e-3ede-4206-b5a2-dfe907a352af",
   "metadata": {},
   "outputs": [
    {
     "data": {
      "application/vnd.jupyter.widget-view+json": {
       "model_id": "43db9e2b12494a6aa5ad6037c46303e3",
       "version_major": 2,
       "version_minor": 0
      },
      "text/plain": [
       "Canvas(toolbar=Toolbar(toolitems=[('Home', 'Reset original view', 'home', 'home'), ('Back', 'Back to previous …"
      ]
     },
     "metadata": {},
     "output_type": "display_data"
    },
    {
     "data": {
      "application/vnd.jupyter.widget-view+json": {
       "model_id": "c7a83291ff804810ade5f718bb948dae",
       "version_major": 2,
       "version_minor": 0
      },
      "text/plain": [
       "Canvas(toolbar=Toolbar(toolitems=[('Home', 'Reset original view', 'home', 'home'), ('Back', 'Back to previous …"
      ]
     },
     "metadata": {},
     "output_type": "display_data"
    }
   ],
   "source": [
    "%matplotlib widget\n",
    "hp.mollview(~stackedNP)\n",
    "hp.mollzoom(stackedDX)"
   ]
  },
  {
   "cell_type": "code",
   "execution_count": 69,
   "id": "74132294-c043-49d9-ba5b-0d0b49da1af7",
   "metadata": {},
   "outputs": [
    {
     "name": "stdout",
     "output_type": "stream",
     "text": [
      "22905 23942\n",
      "1037\n"
     ]
    }
   ],
   "source": [
    "print(np.sum(stackedNP), np.sum(stackedDX))\n",
    "print(np.sum(np.logical_xor(stackedNP, stackedDX)))"
   ]
  },
  {
   "cell_type": "code",
   "execution_count": 70,
   "id": "26bc0c59-eca5-4538-aab9-57e65ca66659",
   "metadata": {},
   "outputs": [
    {
     "data": {
      "application/vnd.jupyter.widget-view+json": {
       "model_id": "04cff9476acc49558b8dc8700f6f8a83",
       "version_major": 2,
       "version_minor": 0
      },
      "text/plain": [
       "Canvas(toolbar=Toolbar(toolitems=[('Home', 'Reset original view', 'home', 'home'), ('Back', 'Back to previous …"
      ]
     },
     "metadata": {},
     "output_type": "display_data"
    }
   ],
   "source": [
    "hp.mollzoom(np.logical_xor(stackedNP, stackedDX))"
   ]
  },
  {
   "cell_type": "code",
   "execution_count": 56,
   "id": "1ec6807c-3b67-4c1b-92e3-6b6e08158948",
   "metadata": {},
   "outputs": [
    {
     "ename": "KeyError",
     "evalue": "'100'",
     "output_type": "error",
     "traceback": [
      "\u001b[0;31m---------------------------------------------------------------------------\u001b[0m",
      "\u001b[0;31mKeyError\u001b[0m                                  Traceback (most recent call last)",
      "\u001b[0;32m<ipython-input-56-3f34a9e4d2ed>\u001b[0m in \u001b[0;36m<module>\u001b[0;34m\u001b[0m\n\u001b[0;32m----> 1\u001b[0;31m \u001b[0mhp\u001b[0m\u001b[0;34m.\u001b[0m\u001b[0mmask_bad\u001b[0m\u001b[0;34m(\u001b[0m\u001b[0mmaps_DXug\u001b[0m\u001b[0;34m[\u001b[0m\u001b[0;34m'100'\u001b[0m\u001b[0;34m]\u001b[0m\u001b[0;34m[\u001b[0m\u001b[0;36m1\u001b[0m\u001b[0;34m]\u001b[0m\u001b[0;34m)\u001b[0m\u001b[0;34m\u001b[0m\u001b[0;34m\u001b[0m\u001b[0m\n\u001b[0m",
      "\u001b[0;31mKeyError\u001b[0m: '100'"
     ]
    }
   ],
   "source": [
    "hp.mask_bad(maps_DXug['100'][1])"
   ]
  },
  {
   "cell_type": "code",
   "execution_count": 57,
   "id": "449635c6-78b7-4e39-aa40-135a207d196b",
   "metadata": {},
   "outputs": [
    {
     "data": {
      "text/plain": [
       "{'353': array([ 2.84132344e-04, -2.30353544e-04,  2.61506240e-04, ...,\n",
       "         1.91385407e-04,  8.31828038e-06, -3.82281723e-05])}"
      ]
     },
     "execution_count": 57,
     "metadata": {},
     "output_type": "execute_result"
    }
   ],
   "source": [
    "maps_DXug"
   ]
  },
  {
   "cell_type": "code",
   "execution_count": null,
   "id": "f0b75447-6f2c-4d41-98a8-352d71bbada1",
   "metadata": {},
   "outputs": [],
   "source": [
    "hp.mollzoom(logi_NP[idf][idm], title = 'NPIPE')\n",
    "hp.mollzoom(logi_DX[idf][idm], title = 'DX')"
   ]
  },
  {
   "cell_type": "code",
   "execution_count": null,
   "id": "dc01435b-8390-422a-90e1-893abe7cee96",
   "metadata": {},
   "outputs": [],
   "source": [
    "for idf in range(7):\n",
    "    for idm in range(3):\n",
    "        print(logi_DX[idf][idm][logi_DX[idf][idm]==1].shape, logi_NP[idf][idm][logi_NP[idf][idm]==1].shape, freqs[idf] + ' '+ tebdict[idm])"
   ]
  },
  {
   "cell_type": "code",
   "execution_count": null,
   "id": "1cc1924f-7921-40a3-bed5-3fde85794409",
   "metadata": {},
   "outputs": [],
   "source": [
    "%matplotlib inline\n",
    "for idf in [3,4,5]:\n",
    "    for idm in range(1,3):\n",
    "        print('Bright DX12:', logi_DX[idf][idm][logi_DX[idf][idm]==1].shape, '\\nBright Npipe:', logi_NP[idf][idm][logi_NP[idf][idm]==1].shape)\n",
    "        hp.mollzoom(logi_DX[idf][idm]+2*logi_NP[idf][idm], title= 'Bright pixels @ map '+ tebdict[idm] + ' w/ frequency ' + freqs[idf])\n",
    "        plt.show()"
   ]
  },
  {
   "cell_type": "code",
   "execution_count": null,
   "id": "51cbbc4b-98e0-44f2-8a90-293a0aebf303",
   "metadata": {},
   "outputs": [],
   "source": [
    "%matplotlib widget\n",
    "for idf in [4]:\n",
    "    for idm in [2]:\n",
    "        print('Bright DX12:', logi_DX[idf][idm][logi_DX[idf][idm]==1].shape, '\\nBright Npipe:', logi_NP[idf][idm][logi_NP[idf][idm]==1].shape)\n",
    "        hp.mollzoom(logi_DX[idf][idm]+2*logi_NP[idf][idm], title= 'Bright pixels @ map '+ tebdict[idm] + ' w/ frequency ' + freqs[idf])"
   ]
  },
  {
   "cell_type": "markdown",
   "id": "ffbc1397-454d-4204-ab33-a7adde35f740",
   "metadata": {},
   "source": [
    "# Pointsources"
   ]
  },
  {
   "cell_type": "code",
   "execution_count": null,
   "id": "1da569c2-20ed-4dff-80c4-25abf1ac69de",
   "metadata": {},
   "outputs": [],
   "source": []
  }
 ],
 "metadata": {
  "kernelspec": {
   "display_name": "pyenv",
   "language": "python",
   "name": "pyenv"
  },
  "language_info": {
   "codemirror_mode": {
    "name": "ipython",
    "version": 3
   },
   "file_extension": ".py",
   "mimetype": "text/x-python",
   "name": "python",
   "nbconvert_exporter": "python",
   "pygments_lexer": "ipython3",
   "version": "3.8.5"
  }
 },
 "nbformat": 4,
 "nbformat_minor": 5
}
