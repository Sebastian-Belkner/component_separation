{
 "cells": [
  {
   "cell_type": "markdown",
   "id": "9924333c-486e-4631-b4bd-55b947238871",
   "metadata": {},
   "source": [
    "TODO: make a difference map between npipe lens and npipe-lens with dx12 smica weights"
   ]
  },
  {
   "cell_type": "code",
   "execution_count": 1,
   "id": "0025386d-7cbe-4029-ab2b-2454044f0715",
   "metadata": {},
   "outputs": [],
   "source": [
    "%%capture\n",
    "import numpy as np\n",
    "import pandas as pd\n",
    "from healpy.sphtfunc import smoothing\n",
    "import smica\n",
    "import os\n",
    "import json\n",
    "\n",
    "import copy\n",
    "from astropy.io import fits\n",
    "from scipy import interpolate\n",
    "\n",
    "import healpy as hp\n",
    "import component_separation\n",
    "from component_separation.io import IO\n",
    "import component_separation.interface as cslib\n",
    "import component_separation.MSC.MSC.pospace as ps\n",
    "import component_separation.powspec as pw\n",
    "\n",
    "from component_separation.cs_util import Config\n",
    "from component_separation.cs_util import Constants as const\n",
    "from component_separation.cs_util import Helperfunctions as hpf\n",
    "from component_separation.cs_util import Planckf, Planckr, Plancks\n",
    "import matplotlib.pyplot as plt\n",
    "csu = Config()\n",
    "io = IO(csu)\n",
    "import warnings\n",
    "warnings.filterwarnings('ignore')\n",
    "props = dict(boxstyle='round', facecolor='wheat', alpha=0.5)\n",
    "\n",
    "lmax=csu.lmax\n",
    "nside_out = csu.nside_out\n",
    "bins = csu.bins\n",
    "detector = csu.PLANCKMAPFREQ_f\n",
    "specfilter = csu.specfilter\n",
    "freqfilter = csu.freqfilter\n",
    "lmaxbins = int(bins[-1][1])\n",
    "colors=csu.CB_color_cycle\n",
    "filename = io.fh.total_filename\n",
    "bcorr = [\n",
    "    hp.gauss_beam(val, lmax, pol = True)[:,1]\n",
    "    for val in [\n",
    "        0.00930842,\n",
    "        0.00785398,\n",
    "        0.00378155,\n",
    "        0.002807071,\n",
    "        0.002106031,\n",
    "        0.00145444,\n",
    "        0.00140499,\n",
    "        ]\n",
    "    ]\n",
    "beam5 = hp.gauss_beam(0.001454441043324941835, lmax, pol = True)[:,1]"
   ]
  },
  {
   "cell_type": "code",
   "execution_count": 2,
   "id": "7dc3b678-0d49-4f32-ab82-9052d012030a",
   "metadata": {},
   "outputs": [
    {
     "name": "stdout",
     "output_type": "stream",
     "text": [
      "$$$$$$$$$$$$$$$$$$$$$$$$$$$$$$$$$$$$$$$$\n",
      "Run with the following settings:\n",
      "{'Tscale': 'K_CMB', 'mskset': 'lens', 'freqdset': 'NPIPE', 'Spectrum_scale': 'C_l', 'lmax': 4000, 'lmax_mask': 6000, 'freqdatsplit': '', 'smoothing_window': 0, 'max_polynom': 0, 'num_sim': 5, 'binname': 'SMICA_highell_bins', 'overwrite_cache': True, 'split': '', 'nside_out': None, 'splitvariation': 'GHz', 'freqfilter': ['545', '857'], 'specfilter': ['TB', 'EB', 'ET', 'BT', 'BE'], 'nside_desc_map': [1024, 2048]}\n",
      "$$$$$$$$$$$$$$$$$$$$$$$$$$$$$$$$$$$$$$$$\n",
      "loaded /global/cscratch1/sd/sebibel/smica/smicaclmin_SMICA_highell_bins_0200_C_l_NPIPE_lens_4000_6000_0_0_Full.npy\n",
      "$$$$$$$$$$$$$$$$$$$$$$$$$$$$$$$$$$$$$$$$\n",
      "Run with the following settings:\n",
      "{'Tscale': 'K_CMB', 'mskset': 'smica', 'freqdset': 'NPIPE', 'Spectrum_scale': 'C_l', 'lmax': 4000, 'lmax_mask': 6000, 'freqdatsplit': '', 'smoothing_window': 0, 'max_polynom': 0, 'num_sim': 5, 'binname': 'SMICA_highell_bins', 'overwrite_cache': True, 'split': '', 'nside_out': None, 'splitvariation': 'GHz', 'freqfilter': ['545', '857'], 'specfilter': ['TB', 'EB', 'ET', 'BT', 'BE'], 'nside_desc_map': [1024, 2048]}\n",
      "$$$$$$$$$$$$$$$$$$$$$$$$$$$$$$$$$$$$$$$$\n",
      "loaded /global/cscratch1/sd/sebibel/smica/smicaclmin_SMICA_highell_bins_0200_C_l_NPIPE_smica_4000_6000_0_0_Full.npy\n",
      "$$$$$$$$$$$$$$$$$$$$$$$$$$$$$$$$$$$$$$$$\n",
      "Run with the following settings:\n",
      "{'Tscale': 'K_CMB', 'mskset': 'smica', 'freqdset': 'DX12', 'Spectrum_scale': 'C_l', 'lmax': 4000, 'lmax_mask': 6000, 'freqdatsplit': '', 'smoothing_window': 0, 'max_polynom': 0, 'num_sim': 5, 'binname': 'SMICA_highell_bins', 'overwrite_cache': True, 'split': '', 'nside_out': None, 'splitvariation': 'GHz', 'freqfilter': ['545', '857'], 'specfilter': ['TB', 'EB', 'ET', 'BT', 'BE'], 'nside_desc_map': [1024, 2048]}\n",
      "$$$$$$$$$$$$$$$$$$$$$$$$$$$$$$$$$$$$$$$$\n",
      "loaded /global/cscratch1/sd/sebibel/smica/smicaclmin_SMICA_highell_bins_0200_C_l_DX12_smica_4000_6000_0_0_Full.npy\n",
      "$$$$$$$$$$$$$$$$$$$$$$$$$$$$$$$$$$$$$$$$\n",
      "Run with the following settings:\n",
      "{'Tscale': 'K_CMB', 'mskset': 'lens', 'freqdset': 'DX12', 'Spectrum_scale': 'C_l', 'lmax': 4000, 'lmax_mask': 6000, 'freqdatsplit': '', 'smoothing_window': 0, 'max_polynom': 0, 'num_sim': 5, 'binname': 'SMICA_highell_bins', 'overwrite_cache': True, 'split': '', 'nside_out': None, 'splitvariation': 'GHz', 'freqfilter': ['545', '857'], 'specfilter': ['TB', 'EB', 'ET', 'BT', 'BE'], 'nside_desc_map': [1024, 2048]}\n",
      "$$$$$$$$$$$$$$$$$$$$$$$$$$$$$$$$$$$$$$$$\n",
      "no existing data at /global/cscratch1/sd/sebibel/smica/smicaclmin_SMICA_highell_bins_0200_C_l_DX12_lens_4000_6000_0_0_Full.npy\n"
     ]
    }
   ],
   "source": [
    "# NP_smicaclmin = io.load_data(io.fh.clmin_smica_path_name)\n",
    "\n",
    "cfc = copy.deepcopy(csu.cf)\n",
    "cfc['pa']['freqdset'] = 'NPIPE'\n",
    "cfc['pa']['mskset'] = 'lens'\n",
    "csuc = Config(cfc)\n",
    "ioc = IO(csuc) \n",
    "NP_lensclmin = ioc.load_data(ioc.fh.clmin_smica_path_name)\n",
    "cfc = copy.deepcopy(csu.cf)\n",
    "cfc['pa']['freqdset'] = 'NPIPE'\n",
    "cfc['pa']['mskset'] = 'smica'\n",
    "csuc = Config(cfc)\n",
    "ioc = IO(csuc) \n",
    "NP_smicaclmin = ioc.load_data(ioc.fh.clmin_smica_path_name)\n",
    "cfc = copy.deepcopy(csu.cf)\n",
    "cfc['pa']['freqdset'] = 'DX12'\n",
    "cfc['pa']['mskset'] = 'smica'\n",
    "csuc = Config(cfc)\n",
    "ioc = IO(csuc) \n",
    "DX_smicaclmin = ioc.load_data(ioc.fh.clmin_smica_path_name)\n",
    "cfc = copy.deepcopy(csu.cf)\n",
    "cfc['pa']['freqdset'] = 'DX12'\n",
    "cfc['pa']['mskset'] = 'lens'\n",
    "csuc = Config(cfc)\n",
    "ioc = IO(csuc) \n",
    "DX_lensclmin = ioc.load_data(ioc.fh.clmin_smica_path_name)"
   ]
  },
  {
   "cell_type": "code",
   "execution_count": 84,
   "id": "fd6800a6-877c-40e7-9af8-a74ca3bc9daa",
   "metadata": {},
   "outputs": [
    {
     "name": "stdout",
     "output_type": "stream",
     "text": [
      "(2, 4000)\n"
     ]
    },
    {
     "data": {
      "application/vnd.jupyter.widget-view+json": {
       "model_id": "64e9d70e0a1b40e5ad38c460fdf2a17f",
       "version_major": 2,
       "version_minor": 0
      },
      "text/plain": [
       "Canvas(toolbar=Toolbar(toolitems=[('Home', 'Reset original view', 'home', 'home'), ('Back', 'Back to previous …"
      ]
     },
     "metadata": {},
     "output_type": "display_data"
    },
    {
     "data": {
      "text/plain": [
       "Text(0.5, 0, 'Multipole')"
      ]
     },
     "execution_count": 84,
     "metadata": {},
     "output_type": "execute_result"
    }
   ],
   "source": [
    "%matplotlib widget\n",
    "EBidx = 1\n",
    "nbins = 200\n",
    "# print(NP_smicaclmin.shape)\n",
    "print(DX_smicaclmin.shape)\n",
    "# plt.plot(NP_smicaclmin[1], label='NPIPE smica')\n",
    "mean, err, _ = hpf.std_dev_binned(NP_lensclmin[EBidx], binwidth=nbins, lmax=4000, log=False)\n",
    "plt.errorbar((_[1:]+_[:-1])/2, mean, yerr=err, label='NPIPE lens')\n",
    "mean, err, _ = hpf.std_dev_binned(DX_smicaclmin[EBidx], binwidth=nbins, lmax=4000, log=False)\n",
    "plt.errorbar((_[1:]+_[:-1])/2, mean, yerr=err, label='DX12 smica')\n",
    "mean, err, _ = hpf.std_dev_binned(smica_C_lmin_sc[EBidx], binwidth=nbins, lmax=4000, log=False)\n",
    "plt.errorbar((_[1:]+_[:-1])/2, mean, yerr=err, label='NPIPE data with DX12-smica weights')\n",
    "# mean, err, _ = hpf.std_dev_binned(propag_smica_C_lmin_sc[EBidx], binwidth=nbins, lmax=4000)\n",
    "# plt.plot((_[1:]+_[:-1])/2, mean, label='NPIPE data with smica-propag weights')\n",
    "\n",
    "plt.legend()\n",
    "# plt.plot(C_lS[0,1,:])\n",
    "plt.yscale('log')\n",
    "plt.ylabel('C_l')\n",
    "if EBidx == 0:\n",
    "    plt.title('EE')\n",
    "else:\n",
    "    plt.title('BB')\n",
    "plt.xlabel('Multipole')"
   ]
  },
  {
   "cell_type": "markdown",
   "id": "b847168c-fac2-44fa-9d56-9746bb9f1f88",
   "metadata": {},
   "source": [
    "## Variance"
   ]
  },
  {
   "cell_type": "code",
   "execution_count": 85,
   "id": "7422bebe-c07b-4754-ad10-1c25087789aa",
   "metadata": {},
   "outputs": [],
   "source": [
    "ll = np.arange(0,4000,1)\n",
    "approx_variance_NPDXsmica = 2 * smica_C_lmin_sc[EBidx,:] * smica_C_lmin_sc[EBidx,:]/((2*ll+1)*0.67)\n",
    "approx_variance_NPlens = 2 * NP_lensclmin[EBidx,:] * NP_lensclmin[EBidx,:]/((2*ll+1)*0.67)\n",
    "# approx_variance_NPpropag = 2 * propag_smica_C_lmin_sc[EBidx,:] * propag_smica_C_lmin_sc[EBidx,:]/((2*ll+1)*0.67)"
   ]
  },
  {
   "cell_type": "code",
   "execution_count": 86,
   "id": "b37b321e-1b53-42ee-8226-81c2977f8f9a",
   "metadata": {},
   "outputs": [
    {
     "data": {
      "application/vnd.jupyter.widget-view+json": {
       "model_id": "a476e44acbcf4cfba44839dbe434f0e0",
       "version_major": 2,
       "version_minor": 0
      },
      "text/plain": [
       "Canvas(toolbar=Toolbar(toolitems=[('Home', 'Reset original view', 'home', 'home'), ('Back', 'Back to previous …"
      ]
     },
     "metadata": {},
     "output_type": "display_data"
    },
    {
     "data": {
      "text/plain": [
       "Text(0.5, 1.0, 'BB. Comparing Variance of MV spectra')"
      ]
     },
     "execution_count": 86,
     "metadata": {},
     "output_type": "execute_result"
    }
   ],
   "source": [
    "%matplotlib widget\n",
    "# plt.plot(approx_variance_NPDXsmica)\n",
    "# plt.plot(approx_variance_NPlens)\n",
    "\n",
    "# plt.plot(approx_variance_NPlens/approx_variance_NPDXsmica-1, label= 'NPIPE data with NPIPE-lens weights\\nover\\nNPIPE data with DX12-smica weights')\n",
    "# plt.plot(approx_variance_NPlens/approx_variance_NPpropag-1, label= 'NPIPE data with NPIPE-lens weights\\nover\\nNPIPE data with smica-propag weights')\n",
    "mean, std, _ = hpf.std_dev_binned(approx_variance_NPlens/approx_variance_NPDXsmica-1, lmax=4000, binwidth=100, log=False)\n",
    "plt.errorbar((_[1:]+_[:-1])/2, mean, yerr=std/2, fmt='.', capsize=5, label= 'NPIPE data with NPIPE-lens weights\\nover\\nNPIPE data with DX12-smica weights')\n",
    "# mean, std, _ = hpf.std_dev_binned(approx_variance_NPlens/approx_variance_NPpropag-1, lmax=4000, binwidth=50, log=False)\n",
    "# plt.errorbar((_[1:]+_[:-1])/2, mean, yerr=std, fmt='.', capsize=5, label= 'NPIPE data with NPIPE-lens weights\\nover\\nNPIPE data with smica-propag weights')\n",
    "\n",
    "# mean, std, _ = hpf.std_dev_binned(NP_lensclmin[EBidx,:]/smica_C_lmin_sc[EBidx,:]-1, lmax=4000, binwidth=50, log=False)\n",
    "# plt.errorbar((_[1:]+_[:-1])/2, mean, yerr=std, fmt='.', capsize=5, label= 'NPIPE data with NPIPE-lens weights\\nover\\nNPIPE data with DX12-smica weights')\n",
    "# mean, std, _ = hpf.std_dev_binned(NP_lensclmin[EBidx,:]/propag_smica_C_lmin_sc[EBidx,:]-1, lmax=4000, binwidth=50, log=False)\n",
    "# plt.errorbar((_[1:]+_[:-1])/2, mean, yerr=std, fmt='.', capsize=5, label= 'NPIPE data with NPIPE-lens weights\\nover\\nNPIPE data with smica-propag weights')\n",
    "\n",
    "\n",
    "plt.hlines(0,lmax,0, ls='--', color= 'gray')\n",
    "plt.ylim((-0.5,0.1))\n",
    "# plt.yscale('log')\n",
    "plt.xlim((1e1,4e3))\n",
    "plt.legend()\n",
    "plt.xlabel('Multipole')\n",
    "plt.ylabel('Rel. Diff.')\n",
    "plt.title('BB. Comparing Variance of MV spectra')\n",
    "# plt.yscale('log')"
   ]
  },
  {
   "cell_type": "code",
   "execution_count": 68,
   "id": "9324444a-d144-4a37-85d3-2003246da7ce",
   "metadata": {},
   "outputs": [
    {
     "name": "stdout",
     "output_type": "stream",
     "text": [
      "(4000,) (25,) (4000,)\n"
     ]
    },
    {
     "data": {
      "application/vnd.jupyter.widget-view+json": {
       "model_id": "fc49789056054d2bab3a5dc9b3e2a586",
       "version_major": 2,
       "version_minor": 0
      },
      "text/plain": [
       "Canvas(toolbar=Toolbar(toolitems=[('Home', 'Reset original view', 'home', 'home'), ('Back', 'Back to previous …"
      ]
     },
     "metadata": {},
     "output_type": "display_data"
    },
    {
     "name": "stdout",
     "output_type": "stream",
     "text": [
      "(4000,) (25,) (4000,)\n",
      "(4000,) (25,) (4000,)\n"
     ]
    },
    {
     "data": {
      "text/plain": [
       "(-0.2, 0.5)"
      ]
     },
     "execution_count": 68,
     "metadata": {},
     "output_type": "execute_result"
    }
   ],
   "source": [
    "%matplotlib widget\n",
    "# mean, std, _ = std_dev_binned(1-(NP_lensclmin[0]/NP_smicaclmin[0]), lmax=4000, binwidth=25, log=False)\n",
    "# plt.errorbar((_[1:]+_[:-1])/2, mean, yerr=std, fmt='.', capsize=5, label='NP_lens/NP_smica')\n",
    "mean, std, _ = std_dev_binned(1-(NP_lensclmin[0]/smica_C_lmin_sc[0]), lmax=4000, binwidth=25, log=False)\n",
    "plt.errorbar((_[1:]+_[:-1])/2, mean, yerr=std, fmt='.', capsize=5, label='NP_lens/NP_DX_smica')\n",
    "mean, std, _ = std_dev_binned(1-(NP_lensclmin[0]/DX_smicaclmin[0]), lmax=4000, binwidth=25, log=False)\n",
    "plt.errorbar((_[1:]+_[:-1])/2, mean, yerr=std, fmt='.', capsize=4, label='NP_lens/DX_smica', alpha=0.5)\n",
    "mean, std, _ = std_dev_binned(1-(NP_smicaclmin[0]/DX_smicaclmin[0]), lmax=4000, binwidth=25, log=False)\n",
    "plt.errorbar((_[1:]+_[:-1])/2, mean, yerr=std, fmt='.', capsize=4, label='NP_smica/DX_smica', alpha=0.5)\n",
    "plt.legend()\n",
    "plt.hlines(0,lmax,0, ls='--', color= 'gray')\n",
    "plt.ylim((-0.2,0.5))"
   ]
  },
  {
   "cell_type": "markdown",
   "id": "d8b2e432-84a4-4045-b010-382d6457a51c",
   "metadata": {},
   "source": [
    "# MV map for NPIPE lens with DX12 smica weights\n",
    "### Build DX12 smica weight"
   ]
  },
  {
   "cell_type": "code",
   "execution_count": 66,
   "id": "0e188377-525b-4540-bc39-1708a435137f",
   "metadata": {},
   "outputs": [
    {
     "name": "stdout",
     "output_type": "stream",
     "text": [
      "$$$$$$$$$$$$$$$$$$$$$$$$$$$$$$$$$$$$$$$$\n",
      "Run with the following settings:\n",
      "{'Tscale': 'K_CMB', 'mskset': 'smica', 'freqdset': 'DX12', 'Spectrum_scale': 'C_l', 'lmax': 4000, 'lmax_mask': 6000, 'freqdatsplit': '', 'smoothing_window': 0, 'max_polynom': 0, 'num_sim': 5, 'binname': 'SMICA_highell_bins', 'overwrite_cache': True, 'split': '', 'nside_out': None, 'splitvariation': 'GHz', 'freqfilter': ['545', '857'], 'specfilter': ['TB', 'EB', 'ET', 'BT', 'BE'], 'nside_desc_map': [1024, 2048]}\n",
      "$$$$$$$$$$$$$$$$$$$$$$$$$$$$$$$$$$$$$$$$\n",
      "loaded /global/cscratch1/sd/sebibel/smica/SMICAWEIG_K_CMB_SMICA_highell_bins0200_C_l_DX12_smica_4000_6000_0_0_Full.npy\n",
      "loaded /global/cscratch1/sd/sebibel/weights/DX12/WEIG_K_CMB_0200_C_l_DX12_smica_4000_6000_0_0_Full.npy\n",
      "(9, 7, 4001)\n"
     ]
    }
   ],
   "source": [
    "cfc = copy.deepcopy(csu.cf)\n",
    "cfc['pa']['freqdset'] = 'DX12'\n",
    "cfc['pa']['mskset'] = 'smica'\n",
    "csuc = Config(cfc)\n",
    "ioc = IO(csuc)\n",
    "\n",
    "CMB = dict()\n",
    "CMB[\"TQU\"] = dict()\n",
    "\n",
    "W_smica = ioc.load_data(ioc.fh.weight_smica_path_name)\n",
    "W_mv = ioc.load_data(ioc.fh.weight_path_name)\n",
    "W_total = hpf.interp_smica_mv_weights(W_smica, W_mv, bins, 4001)"
   ]
  },
  {
   "cell_type": "markdown",
   "id": "c4563eb1-fd91-4e68-bbc5-95448a46a1b4",
   "metadata": {},
   "source": [
    "### Load maps, mask, and MV combine them with above weights"
   ]
  },
  {
   "cell_type": "code",
   "execution_count": 7,
   "id": "e09488cc-3d11-4632-8fbf-4ac08918bc19",
   "metadata": {},
   "outputs": [
    {
     "name": "stdout",
     "output_type": "stream",
     "text": [
      "$$$$$$$$$$$$$$$$$$$$$$$$$$$$$$$$$$$$$$$$\n",
      "Run with the following settings:\n",
      "{'Tscale': 'K_CMB', 'mskset': 'lens', 'freqdset': 'NPIPE', 'Spectrum_scale': 'C_l', 'lmax': 4000, 'lmax_mask': 6000, 'freqdatsplit': '', 'smoothing_window': 0, 'max_polynom': 0, 'num_sim': 5, 'binname': 'SMICA_highell_bins', 'overwrite_cache': True, 'split': '', 'nside_out': None, 'splitvariation': 'GHz', 'freqfilter': ['545', '857'], 'specfilter': ['TB', 'EB', 'ET', 'BT', 'BE'], 'nside_desc_map': [1024, 2048]}\n",
      "$$$$$$$$$$$$$$$$$$$$$$$$$$$$$$$$$$$$$$$$\n",
      "loading mask ['PR3vJan18_temp_lensingmask_gPR2_70_psPR2_143_COT2_smicadx12_smicapoldx12_psPR2_217_sz.fits.gz']\n"
     ]
    }
   ],
   "source": [
    "cfc = copy.deepcopy(csu.cf)\n",
    "cfc['pa']['freqdset'] = 'NPIPE'\n",
    "cfc['pa']['mskset'] = 'lens'\n",
    "csuc = Config(cfc)\n",
    "ioc = IO(csuc)\n",
    "# maps = ioc.load_plamap(csuc.cf, field=(0,1,2), nside_out=csu.nside_out)\n",
    "# maps = trsf_m.process_all(maps)\n",
    "beamf = ioc.load_beamf(freqcomb=csu.freqcomb)\n",
    "tmask, pmask, pmask =  ioc.load_one_mask_forallfreq()"
   ]
  },
  {
   "cell_type": "code",
   "execution_count": 67,
   "id": "29de34b5-752a-4ad0-bbef-71ac6f4417e0",
   "metadata": {},
   "outputs": [
    {
     "name": "stdout",
     "output_type": "stream",
     "text": [
      "loaded /global/cscratch1/sd/sebibel/misc/almE_Npipe_lens.npy\n",
      "loaded /global/cscratch1/sd/sebibel/misc/almB_Npipe_lens.npy\n"
     ]
    }
   ],
   "source": [
    "almE = io.load_data('/global/cscratch1/sd/sebibel/misc/almE_Npipe_lens.npy')\n",
    "almB = io.load_data('/global/cscratch1/sd/sebibel/misc/almB_Npipe_lens.npy')"
   ]
  },
  {
   "cell_type": "code",
   "execution_count": 71,
   "id": "897b3544-7d1d-4af7-98be-5aa9e699c90d",
   "metadata": {},
   "outputs": [
    {
     "name": "stdout",
     "output_type": "stream",
     "text": [
      "freq:  030\n",
      "freq:  044\n",
      "freq:  070\n",
      "freq:  100\n",
      "freq:  143\n",
      "freq:  217\n",
      "freq:  353\n",
      "Data saved to /global/cscratch1/sd/sebibel/misc/combalmE_Npipe_lens_DX12smicaweights_4000\n",
      "Data saved to /global/cscratch1/sd/sebibel/misc/combalmB_Npipe_lens_DX12smicaweights_4000\n"
     ]
    }
   ],
   "source": [
    "nalm = int((lmax)*(lmax-1+2)/2)  \n",
    "# combalmT = np.zeros((nalm), dtype=np.complex128)\n",
    "combalmE = np.zeros((nalm), dtype=np.complex128)\n",
    "combalmB = np.zeros((nalm), dtype=np.complex128)\n",
    "lmax_LFI = lmax\n",
    "for it, det in enumerate(csu.PLANCKMAPFREQ): #weights do not depend on freqfilter, but almE/B do\n",
    "    if det in csu.PLANCKMAPFREQ_f:\n",
    "        if True:\n",
    "            if it<3:\n",
    "                lmax_loc = lmax_LFI\n",
    "            else:\n",
    "                lmax_loc = lmax\n",
    "            print('freq: ', det)\n",
    "            ns = csu.nside_out[0] if int(det) < 100 else csu.nside_out[1]\n",
    "            # combalmT += hp.almxfl(almT[name], np.squeeze(W[0,m,:]))\n",
    "            combalmE += hp.almxfl(hp.almxfl(almE[det],1/beamf[1,it,it,:lmax_loc]), np.squeeze(W_total[1,it,:]))\n",
    "            combalmE = hp.almxfl(combalmE, 1/hp.pixwin(ns, pol=True)[0][:lmax])\n",
    "    #             combalmE = hp.smoothalm(combalmE, fwhm = np.radians(5/60))\n",
    "            combalmB += hp.almxfl(hp.almxfl(almB[det],1/beamf[2,it,it,:lmax_loc]), np.squeeze(W_total[2,it,:]))\n",
    "            combalmB = hp.almxfl(combalmB, 1/hp.pixwin(ns, pol=True)[1][:lmax])\n",
    "    #             combalmB = hp.smoothalm(combalmB, fwhm = np.radians(5/60))\n",
    "ioc.save_data(combalmE, \"/global/cscratch1/sd/sebibel/misc/combalmE_Npipe_lens_DX12smicaweights_{}\".format(str(lmax_LFI)))\n",
    "ioc.save_data(combalmB, \"/global/cscratch1/sd/sebibel/misc/combalmB_Npipe_lens_DX12smicaweights_{}\".format(str(lmax_LFI)))"
   ]
  },
  {
   "cell_type": "code",
   "execution_count": 41,
   "id": "82472030-6ddc-4337-92dd-92059ecb41ef",
   "metadata": {},
   "outputs": [
    {
     "data": {
      "application/vnd.jupyter.widget-view+json": {
       "model_id": "fc67b6fb5f18483b96e4d5c34fbc6287",
       "version_major": 2,
       "version_minor": 0
      },
      "text/plain": [
       "Canvas(toolbar=Toolbar(toolitems=[('Home', 'Reset original view', 'home', 'home'), ('Back', 'Back to previous …"
      ]
     },
     "metadata": {},
     "output_type": "display_data"
    },
    {
     "data": {
      "text/plain": [
       "[<matplotlib.lines.Line2D at 0x2aaade56e940>]"
      ]
     },
     "execution_count": 41,
     "metadata": {},
     "output_type": "execute_result"
    }
   ],
   "source": [
    "det = '030'\n",
    "it = 0\n",
    "%matplotlib widget\n",
    "plt.yscale('log')\n",
    "plt.plot(hp.alm2cl([np.zeros_like(almE[det]), hp.almxfl(almE[det],1/beamf[1,it,it,:lmax_loc]), hp.almxfl(almB[det], 1/beamf[2,it,it,:lmax_loc]**2)])[1])"
   ]
  },
  {
   "cell_type": "code",
   "execution_count": 72,
   "id": "d99d27b4-9490-4152-aaac-5e842c715b44",
   "metadata": {},
   "outputs": [],
   "source": [
    "cl3 = hp.alm2cl([np.zeros_like(combalmE), combalmE, combalmB])"
   ]
  },
  {
   "cell_type": "code",
   "execution_count": 73,
   "id": "bba23352-09ee-4981-9b1f-f25b41e278da",
   "metadata": {},
   "outputs": [
    {
     "data": {
      "application/vnd.jupyter.widget-view+json": {
       "model_id": "2b3ad3b7d74043cda6e0708218f8c6c3",
       "version_major": 2,
       "version_minor": 0
      },
      "text/plain": [
       "Canvas(toolbar=Toolbar(toolitems=[('Home', 'Reset original view', 'home', 'home'), ('Back', 'Back to previous …"
      ]
     },
     "metadata": {},
     "output_type": "display_data"
    }
   ],
   "source": [
    "%matplotlib widget\n",
    "# print(cl1.shape)\n",
    "# plt.plot(cl1[1])\n",
    "# plt.plot(cl2[1])\n",
    "plt.plot(cl3[2])\n",
    "plt.yscale('log')"
   ]
  },
  {
   "cell_type": "code",
   "execution_count": 74,
   "id": "eae9b9d2-df28-4880-81aa-55019205e0cb",
   "metadata": {},
   "outputs": [],
   "source": [
    "CMB[\"TQU\"]['out'] = hp.alm2map([np.zeros_like(combalmE), np.nan_to_num(combalmE), np.nan_to_num(combalmB)], csu.nside_out[1])"
   ]
  },
  {
   "cell_type": "code",
   "execution_count": 75,
   "id": "b0256fb2-d9ef-4e51-93ce-03c763a31d52",
   "metadata": {},
   "outputs": [],
   "source": [
    "smica_C_lmin_sc = np.array(ps.map2cl_spin(qumap=CMB[\"TQU\"]['out'][1:3], spin=2, mask=pmask['100'], lmax=lmax-1,\n",
    "    lmax_mask=lmax*2))*1e12 #maps are different scale than processed powerspectra from this' package pipeline, thus *1e12"
   ]
  },
  {
   "cell_type": "code",
   "execution_count": 91,
   "id": "46cba135-c184-4d3e-98c2-ba8c29c5c056",
   "metadata": {},
   "outputs": [
    {
     "data": {
      "application/vnd.jupyter.widget-view+json": {
       "model_id": "e77aa291aa1a4ea399a02239f3f35a66",
       "version_major": 2,
       "version_minor": 0
      },
      "text/plain": [
       "Canvas(toolbar=Toolbar(toolitems=[('Home', 'Reset original view', 'home', 'home'), ('Back', 'Back to previous …"
      ]
     },
     "metadata": {},
     "output_type": "display_data"
    },
    {
     "data": {
      "application/vnd.jupyter.widget-view+json": {
       "model_id": "ed8a86a17196463e82c571ae4e455c1d",
       "version_major": 2,
       "version_minor": 0
      },
      "text/plain": [
       "Canvas(toolbar=Toolbar(toolitems=[('Home', 'Reset original view', 'home', 'home'), ('Back', 'Back to previous …"
      ]
     },
     "metadata": {},
     "output_type": "display_data"
    }
   ],
   "source": [
    "maq = hp.ma(CMB[\"TQU\"]['out'][1])\n",
    "maq.mask = np.logical_not(pmask['100'].astype(np.bool_))\n",
    "hp.mollzoom(maq, norm='hist')\n",
    "maq = hp.ma(CMB[\"TQU\"]['out'][2])\n",
    "maq.mask = np.logical_not(pmask['100'].astype(np.bool_))\n",
    "hp.mollzoom(maq, norm='hist')"
   ]
  },
  {
   "cell_type": "code",
   "execution_count": 96,
   "id": "34612c44-0e39-478f-8058-e22199df5f8b",
   "metadata": {},
   "outputs": [
    {
     "name": "stdout",
     "output_type": "stream",
     "text": [
      "$$$$$$$$$$$$$$$$$$$$$$$$$$$$$$$$$$$$$$$$\n",
      "Run with the following settings:\n",
      "{'Tscale': 'K_CMB', 'mskset': 'lens', 'freqdset': 'NPIPE', 'Spectrum_scale': 'C_l', 'lmax': 4000, 'lmax_mask': 6000, 'freqdatsplit': '', 'smoothing_window': 0, 'max_polynom': 0, 'num_sim': 5, 'binname': 'SMICA_highell_bins', 'overwrite_cache': True, 'split': '', 'nside_out': None, 'splitvariation': 'GHz', 'freqfilter': ['545', '857'], 'specfilter': ['TB', 'EB', 'ET', 'BT', 'BE'], 'nside_desc_map': [1024, 2048]}\n",
      "$$$$$$$$$$$$$$$$$$$$$$$$$$$$$$$$$$$$$$$$\n",
      "loaded /global/cscratch1/sd/sebibel/smica/smicaminvarmap_SMICA_highell_bins_0200_C_l_NPIPE_lens_4000_6000_0_0_Full.npy\n"
     ]
    }
   ],
   "source": [
    "cfc = copy.deepcopy(csu.cf)\n",
    "cfc['pa']['freqdset'] = 'NPIPE'\n",
    "cfc['pa']['mskset'] = 'lens'\n",
    "csuc = Config(cfc)\n",
    "ioc = IO(csuc)\n",
    "mvnpipelens = ioc.load_data(ioc.fh.cmbmap_smica_path_name)"
   ]
  },
  {
   "cell_type": "code",
   "execution_count": 97,
   "id": "6c1329af-a8f5-4eca-96c0-d344945e9cbf",
   "metadata": {},
   "outputs": [
    {
     "data": {
      "text/plain": [
       "array([[ 0.00000000e+00,  0.00000000e+00,  0.00000000e+00, ...,\n",
       "         0.00000000e+00,  0.00000000e+00,  0.00000000e+00],\n",
       "       [-1.35310477e-04, -3.63907642e-04,  1.34633532e-04, ...,\n",
       "        -7.36813409e-05, -3.13932013e-04, -1.54320376e-04],\n",
       "       [-9.84871433e-05,  4.70576133e-05,  1.22325757e-04, ...,\n",
       "        -1.28099717e-04, -4.16191400e-04,  9.98386845e-05]])"
      ]
     },
     "execution_count": 97,
     "metadata": {},
     "output_type": "execute_result"
    }
   ],
   "source": [
    "mvnpipelens"
   ]
  },
  {
   "cell_type": "code",
   "execution_count": 98,
   "id": "3ecadc62-d622-42c3-88b2-af8a12e01560",
   "metadata": {},
   "outputs": [
    {
     "data": {
      "application/vnd.jupyter.widget-view+json": {
       "model_id": "b0cbf40c07d6460e8e31417a9cc9b45c",
       "version_major": 2,
       "version_minor": 0
      },
      "text/plain": [
       "Canvas(toolbar=Toolbar(toolitems=[('Home', 'Reset original view', 'home', 'home'), ('Back', 'Back to previous …"
      ]
     },
     "metadata": {},
     "output_type": "display_data"
    },
    {
     "data": {
      "application/vnd.jupyter.widget-view+json": {
       "model_id": "49bfc4cef6b64acfb3a9fa0b2892c45a",
       "version_major": 2,
       "version_minor": 0
      },
      "text/plain": [
       "Canvas(toolbar=Toolbar(toolitems=[('Home', 'Reset original view', 'home', 'home'), ('Back', 'Back to previous …"
      ]
     },
     "metadata": {},
     "output_type": "display_data"
    }
   ],
   "source": [
    "maq = hp.ma(mvnpipelens[1])\n",
    "maq.mask = np.logical_not(pmask['100'].astype(np.bool_))\n",
    "hp.mollzoom(maq, norm='hist')\n",
    "maq = hp.ma(mvnpipelens[2])\n",
    "maq.mask = np.logical_not(pmask['100'].astype(np.bool_))\n",
    "hp.mollzoom(maq, norm='hist')"
   ]
  },
  {
   "cell_type": "markdown",
   "id": "4814e451-5d8b-480e-8de9-ae9ac05beb4a",
   "metadata": {},
   "source": [
    "# MV map for NPIPE lens with smica propagation code weights"
   ]
  },
  {
   "cell_type": "code",
   "execution_count": 4,
   "id": "ff54b532-1e2b-40e9-9404-81c123f3f364",
   "metadata": {},
   "outputs": [],
   "source": [
    "W_total_propag = np.loadtxt(\"/global/homes/s/sebibel/ext/smica_propagation/weights_EB_smica_R3.00.txt\").reshape(2,7,4001)\n",
    "cfc = copy.deepcopy(csu.cf)\n",
    "cfc['pa']['freqdset'] = 'NPIPE'\n",
    "cfc['pa']['mskset'] = 'lens'\n",
    "csuc = Config(cfc)\n",
    "ioc = IO(csuc) \n",
    "# full maps\n",
    "maps = ioc.load_plamap(csuc.cf, field=(0,1,2), nside_out=csu.nside_out)\n",
    "# maps = trsf_m.process_all(maps)\n",
    "beamf = ioc.load_beamf(freqcomb=csu.freqcomb)\n",
    "tmask, pmask, pmask =  ioc.load_one_mask_forallfreq()"
   ]
  },
  {
   "cell_type": "code",
   "execution_count": 127,
   "id": "85848c35-209f-4944-88fc-dabdf984334a",
   "metadata": {},
   "outputs": [
    {
     "name": "stdout",
     "output_type": "stream",
     "text": [
      "lmax = 4000\n",
      "freq:  030\n",
      "freq:  044\n",
      "freq:  070\n",
      "freq:  100\n",
      "freq:  143\n",
      "freq:  217\n",
      "freq:  353\n"
     ]
    }
   ],
   "source": [
    "CMB = dict()\n",
    "CMB[\"TQU\"] = dict()\n",
    "almT, almE, almB = dict(), dict(), dict()\n",
    "for freq in csu.PLANCKMAPFREQ_f:\n",
    "    print('freq: ', freq)\n",
    "    ns = csu.nside_out[0] if int(freq) < 100 else csu.nside_out[1]\n",
    "    alms = pw.map2alm_spin(maps[freq], hp.ud_grade(pmask[freq], nside_out=ns), 2, lmax-1) # full sky QU->EB\n",
    "    # almT[det] = alms[0]\n",
    "    almE[freq] = alms[0]\n",
    "    almB[freq] = alms[1]\n",
    "# combalmT = np.zeros((nalm), dtype=np.complex128)"
   ]
  },
  {
   "cell_type": "code",
   "execution_count": 128,
   "id": "38caaf79-8dc0-4731-9948-12b347ed5e55",
   "metadata": {},
   "outputs": [
    {
     "name": "stdout",
     "output_type": "stream",
     "text": [
      "freq:  030\n",
      "freq:  044\n",
      "freq:  070\n",
      "freq:  100\n",
      "freq:  143\n",
      "freq:  217\n",
      "freq:  353\n"
     ]
    }
   ],
   "source": [
    "nalm = int((lmax)*(lmax-1+2)/2)  \n",
    "combalmE = np.zeros((nalm), dtype=np.complex128)\n",
    "combalmB = np.zeros((nalm), dtype=np.complex128)\n",
    "for it, det in enumerate(csu.PLANCKMAPFREQ): #weights do not depend on freqfilter, but almE/B do\n",
    "    if det in csu.PLANCKMAPFREQ_f:\n",
    "        print('freq: ', det)\n",
    "        ns = csu.nside_out[0] if int(det) < 100 else csu.nside_out[1]\n",
    "        # combalmT += hp.almxfl(almT[name], np.squeeze(W[0,m,:]))\n",
    "        LHFI = \"HFI\"\n",
    "        if it<3:\n",
    "            lmax_loc = 500\n",
    "        else:\n",
    "            lmax_loc = lmax\n",
    "        combalmE += hp.almxfl(hp.almxfl(almE[det],1/beamf[str(det)+'-'+str(det)][LHFI][1].data.field(1)[:lmax]), np.squeeze(W_total_propag[0,it,:]*bcorr[it]/(beam5)))\n",
    "        combalmE = hp.almxfl(combalmE, 1/hp.pixwin(ns, pol=True)[0][:lmax])\n",
    "#             combalmE = hp.smoothalm(combalmE, fwhm = np.radians(5/60))\n",
    "        combalmB += hp.almxfl(hp.almxfl(almB[det],1/beamf[str(det)+'-'+str(det)][LHFI][1].data.field(2)[:lmax]), np.squeeze(W_total_propag[1,it,:]*bcorr[it]/(beam5)))\n",
    "        combalmB = hp.almxfl(combalmB, 1/hp.pixwin(ns, pol=True)[1][:lmax])\n",
    "#             combalmB = hp.smoothalm(combalmB, fwhm = np.radians(5/60))\n",
    "\n",
    "propag_CMB = hp.alm2map([np.zeros_like(combalmE), combalmE, combalmB], csu.nside_out[1])\n",
    "propag_smica_C_lmin_sc = np.array(ps.map2cl_spin(qumap=propag_CMB[1:3], spin=2, mask=pmask['100'], lmax=lmax-1,\n",
    "    lmax_mask=lmax*2))*1e12 #maps are different scale than processed powerspectra from this' package pipeline, thus *1e12"
   ]
  },
  {
   "cell_type": "markdown",
   "id": "0ab372da-48a1-482d-8812-14e324a1b420",
   "metadata": {},
   "source": [
    "## Check Weights"
   ]
  },
  {
   "cell_type": "code",
   "execution_count": 77,
   "id": "c736fadf-6b71-444d-bb68-c18b7d7fa1a6",
   "metadata": {},
   "outputs": [
    {
     "data": {
      "application/vnd.jupyter.widget-view+json": {
       "model_id": "33218eede22c492caae620c475a55c82",
       "version_major": 2,
       "version_minor": 0
      },
      "text/plain": [
       "Canvas(toolbar=Toolbar(toolitems=[('Home', 'Reset original view', 'home', 'home'), ('Back', 'Back to previous …"
      ]
     },
     "metadata": {},
     "output_type": "display_data"
    },
    {
     "data": {
      "text/plain": [
       "(0.98, 1.02)"
      ]
     },
     "execution_count": 77,
     "metadata": {},
     "output_type": "execute_result"
    }
   ],
   "source": [
    "%matplotlib widget\n",
    "# *bcorr[freq]/(beam5)\n",
    "lab2='DX12 smica'\n",
    "plt.plot(0,0,color='black', label= 'NPIPE lens')\n",
    "conc=[]\n",
    "lab=[]\n",
    "# bc1 = np.sum(W_total[1,:,:]-W_total_propag[0,:,:]*np.diagonal(np.nan_to_num(beamf[1,:,:]),axis1=0, axis2=1).T/hp.gauss_beam(0.0014105, lmax, pol = True)[:,1], axis=0)\n",
    "# bc2 = np.sum(W_total[1,:,:]-W_total_propag[0,:,:]*bcorr[:]/(beam5), axis=0)\n",
    "# b = np.sum(W_total[1,:,:], axis=0)\n",
    "c1 = np.sum(W_total_propag[0,:,:]*bcorr[:]/(beam5), axis=0)\n",
    "c2 = np.sum(W_total_propag[0,:,:]*np.diagonal(np.nan_to_num(beamf[1,:,:]),axis1=0, axis2=1).T/hp.gauss_beam(np.radians(4.845/60), lmax, pol = True)[:,1], axis=0)\n",
    "# plt.plot(bc1)\n",
    "# plt.plot(bc2)\n",
    "# plt.plot(b)\n",
    "plt.plot(c1)\n",
    "plt.plot(c2)\n",
    "# for freq in range(0,7):\n",
    "#     plt.plot(W_total[1,freq,:]-W_total_propag[0,freq,:]*bcorr[freq]/(beam5),  label=lab2, ls='--')\n",
    "\n",
    "#     lab2=None\n",
    "#     a, = plt.plot(W_total_NPlens[1,freq,:], color=colors[freq])\n",
    "#     conc += [a]\n",
    "#     lab += [csu.PLANCKMAPFREQ[freq]]\n",
    "    \n",
    "    #     plt.plot(W_total[2,freq,:], color=colors[freq], ls='--')\n",
    "#     plt.plot(W_total_propag[0,freq,:]*bcorr[freq]/(beam5), color=colors[freq])\n",
    "#     plt.plot(W_total_propag[1,freq,:]*bcorr[freq]/(beam5), color=colors[freq], ls='--')\n",
    "# l2 = plt.legend(conc, lab, loc=4)\n",
    "# plt.gca().add_artist(l2)\n",
    "\n",
    "\n",
    "# plt.ylim((-0.2,1))\n",
    "plt.xlabel('Multipole')\n",
    "plt.ylabel('Weight')\n",
    "plt.legend(loc=1)\n",
    "plt.ylim((0.98,1.02))\n",
    "# plt.xscale('log')"
   ]
  },
  {
   "cell_type": "code",
   "execution_count": 71,
   "id": "d05b7d69-6adc-4164-be8b-41504dcdf9c0",
   "metadata": {},
   "outputs": [
    {
     "name": "stdout",
     "output_type": "stream",
     "text": [
      "$$$$$$$$$$$$$$$$$$$$$$$$$$$$$$$$$$$$$$$$\n",
      "Run with the following settings:\n",
      "{'Tscale': 'K_CMB', 'mskset': 'lens', 'freqdset': 'NPIPE', 'Spectrum_scale': 'C_l', 'lmax': 4000, 'lmax_mask': 6000, 'freqdatsplit': '', 'smoothing_window': 0, 'max_polynom': 0, 'num_sim': 5, 'binname': 'SMICA_highell_bins', 'overwrite_cache': True, 'split': '', 'nside_out': None, 'splitvariation': 'GHz', 'freqfilter': ['545', '857'], 'specfilter': ['TB', 'EB', 'ET', 'BT', 'BE'], 'nside_desc_map': [1024, 2048]}\n",
      "$$$$$$$$$$$$$$$$$$$$$$$$$$$$$$$$$$$$$$$$\n",
      "loaded /global/cscratch1/sd/sebibel/misc/map_cmb_in_nside_2048_sim_id_0200.npy\n",
      "loaded /global/cscratch1/sd/sebibel/smica/smicaminvarmap_SMICA_highell_bins_0200_C_l_NPIPE_lens_4000_6000_0_0_Full.npy\n"
     ]
    }
   ],
   "source": [
    "cfc = copy.deepcopy(csu.cf)\n",
    "cfc['pa']['freqdset'] = 'NPIPE'\n",
    "cfc['pa']['mskset'] = 'lens'\n",
    "csuc = Config(cfc)\n",
    "ioc = IO(csuc)\n",
    "# CMB = io.load_data(ioc.fh.map_cmb_sc_path_name)\n",
    "MV = io.load_data(ioc.fh.cmbmap_smica_path_name)"
   ]
  },
  {
   "cell_type": "code",
   "execution_count": 76,
   "id": "7c9faf8a-5414-4750-8f98-7b1ccaf98217",
   "metadata": {},
   "outputs": [
    {
     "ename": "IndexError",
     "evalue": "only integers, slices (`:`), ellipsis (`...`), numpy.newaxis (`None`) and integer or boolean arrays are valid indices",
     "output_type": "error",
     "traceback": [
      "\u001b[0;31m---------------------------------------------------------------------------\u001b[0m",
      "\u001b[0;31mIndexError\u001b[0m                                Traceback (most recent call last)",
      "\u001b[0;32m<ipython-input-76-465b8480dbf2>\u001b[0m in \u001b[0;36m<module>\u001b[0;34m\u001b[0m\n\u001b[1;32m      1\u001b[0m \u001b[0mget_ipython\u001b[0m\u001b[0;34m(\u001b[0m\u001b[0;34m)\u001b[0m\u001b[0;34m.\u001b[0m\u001b[0mrun_line_magic\u001b[0m\u001b[0;34m(\u001b[0m\u001b[0;34m'matplotlib'\u001b[0m\u001b[0;34m,\u001b[0m \u001b[0;34m'widget'\u001b[0m\u001b[0;34m)\u001b[0m\u001b[0;34m\u001b[0m\u001b[0;34m\u001b[0m\u001b[0m\n\u001b[1;32m      2\u001b[0m \u001b[0mmap_NPDXsmica\u001b[0m \u001b[0;34m=\u001b[0m \u001b[0mhp\u001b[0m\u001b[0;34m.\u001b[0m\u001b[0malm2map\u001b[0m\u001b[0;34m(\u001b[0m\u001b[0;34m[\u001b[0m\u001b[0mnp\u001b[0m\u001b[0;34m.\u001b[0m\u001b[0mzeros_like\u001b[0m\u001b[0;34m(\u001b[0m\u001b[0mcombalmE\u001b[0m\u001b[0;34m)\u001b[0m\u001b[0;34m,\u001b[0m \u001b[0mcombalmE\u001b[0m\u001b[0;34m,\u001b[0m \u001b[0mcombalmB\u001b[0m\u001b[0;34m]\u001b[0m\u001b[0;34m,\u001b[0m \u001b[0mcsu\u001b[0m\u001b[0;34m.\u001b[0m\u001b[0mnside_out\u001b[0m\u001b[0;34m[\u001b[0m\u001b[0;36m1\u001b[0m\u001b[0;34m]\u001b[0m\u001b[0;34m)\u001b[0m\u001b[0;34m\u001b[0m\u001b[0;34m\u001b[0m\u001b[0m\n\u001b[0;32m----> 3\u001b[0;31m \u001b[0mprint\u001b[0m\u001b[0;34m(\u001b[0m\u001b[0mCMB\u001b[0m\u001b[0;34m[\u001b[0m\u001b[0;34m\"TQU\"\u001b[0m\u001b[0;34m]\u001b[0m\u001b[0;34m[\u001b[0m\u001b[0;34m'out'\u001b[0m\u001b[0;34m]\u001b[0m\u001b[0;34m.\u001b[0m\u001b[0mshape\u001b[0m\u001b[0;34m)\u001b[0m\u001b[0;34m\u001b[0m\u001b[0;34m\u001b[0m\u001b[0m\n\u001b[0m",
      "\u001b[0;31mIndexError\u001b[0m: only integers, slices (`:`), ellipsis (`...`), numpy.newaxis (`None`) and integer or boolean arrays are valid indices"
     ]
    }
   ],
   "source": [
    "%matplotlib widget\n",
    "map_NPDXsmica = hp.alm2map([np.zeros_like(combalmE), combalmE, combalmB], csu.nside_out[1])"
   ]
  },
  {
   "cell_type": "code",
   "execution_count": 77,
   "id": "bbca09d2-a860-4066-ac55-a86f54e6eb5b",
   "metadata": {},
   "outputs": [
    {
     "data": {
      "application/vnd.jupyter.widget-view+json": {
       "model_id": "976e6b736786485ab967886264cb9244",
       "version_major": 2,
       "version_minor": 0
      },
      "text/plain": [
       "Canvas(toolbar=Toolbar(toolitems=[('Home', 'Reset original view', 'home', 'home'), ('Back', 'Back to previous …"
      ]
     },
     "metadata": {},
     "output_type": "display_data"
    },
    {
     "data": {
      "application/vnd.jupyter.widget-view+json": {
       "model_id": "b9dad6caafea4cbfaeb9c5c4209fc711",
       "version_major": 2,
       "version_minor": 0
      },
      "text/plain": [
       "Canvas(toolbar=Toolbar(toolitems=[('Home', 'Reset original view', 'home', 'home'), ('Back', 'Back to previous …"
      ]
     },
     "metadata": {},
     "output_type": "display_data"
    },
    {
     "data": {
      "application/vnd.jupyter.widget-view+json": {
       "model_id": "2e75983abc1b4c758da689b773f8f9a1",
       "version_major": 2,
       "version_minor": 0
      },
      "text/plain": [
       "Canvas(toolbar=Toolbar(toolitems=[('Home', 'Reset original view', 'home', 'home'), ('Back', 'Back to previous …"
      ]
     },
     "metadata": {},
     "output_type": "display_data"
    }
   ],
   "source": [
    "hp.mollzoom(map_NPDXsmica[2])\n",
    "hp.mollzoom(MV[2])\n",
    "hp.mollzoom(map_NPDXsmica[2]-MV[2])"
   ]
  },
  {
   "cell_type": "code",
   "execution_count": 3,
   "id": "8d779c23-406f-421c-915e-4333b5f50940",
   "metadata": {},
   "outputs": [
    {
     "name": "stdout",
     "output_type": "stream",
     "text": [
      "$$$$$$$$$$$$$$$$$$$$$$$$$$$$$$$$$$$$$$$$\n",
      "Run with the following settings:\n",
      "{'Tscale': 'K_CMB', 'mskset': 'smica', 'freqdset': 'DX12', 'Spectrum_scale': 'C_l', 'lmax': 4000, 'lmax_mask': 6000, 'freqdatsplit': '', 'smoothing_window': 0, 'max_polynom': 0, 'num_sim': 5, 'binname': 'SMICA_highell_bins', 'overwrite_cache': True, 'split': '', 'nside_out': None, 'splitvariation': 'GHz', 'freqfilter': ['545', '857'], 'specfilter': ['TB', 'EB', 'ET', 'BT', 'BE'], 'nside_desc_map': [1024, 2048]}\n",
      "$$$$$$$$$$$$$$$$$$$$$$$$$$$$$$$$$$$$$$$$\n"
     ]
    }
   ],
   "source": [
    "cfc = copy.deepcopy(csu.cf)\n",
    "cfc['pa']['freqdset'] = 'DX12'\n",
    "cfc['pa']['mskset'] = 'smica'\n",
    "csuc = Config(cfc)\n",
    "ioc = IO(csuc) \n",
    "# full maps\n",
    "# maps = trsf_m.process_all(maps)\n",
    "beamf = ioc.load_beamf(freqcomb=csu.freqcomb)"
   ]
  },
  {
   "cell_type": "code",
   "execution_count": 181,
   "id": "e3bf6906-0c92-491a-b50f-36ac3444f49d",
   "metadata": {},
   "outputs": [
    {
     "name": "stdout",
     "output_type": "stream",
     "text": [
      "$$$$$$$$$$$$$$$$$$$$$$$$$$$$$$$$$$$$$$$$\n",
      "Run with the following settings:\n",
      "{'Tscale': 'K_CMB', 'mskset': 'smica', 'freqdset': 'NPIPE', 'Spectrum_scale': 'C_l', 'lmax': 4000, 'lmax_mask': 6000, 'freqdatsplit': '', 'smoothing_window': 0, 'max_polynom': 0, 'num_sim': 5, 'binname': 'SMICA_highell_bins', 'overwrite_cache': True, 'split': '', 'nside_out': None, 'splitvariation': 'GHz', 'freqfilter': ['545', '857'], 'specfilter': ['TB', 'EB', 'ET', 'BT', 'BE'], 'nside_desc_map': [1024, 2048]}\n",
      "$$$$$$$$$$$$$$$$$$$$$$$$$$$$$$$$$$$$$$$$\n",
      "loaded /global/cscratch1/sd/sebibel/smica/SMICAWEIG_K_CMB_SMICA_highell_bins0200_C_l_NPIPE_smica_4000_6000_0_0_Full.npy\n",
      "loaded /global/cscratch1/sd/sebibel/weights/NPIPE/WEIG_K_CMB_0200_C_l_NPIPE_smica_4000_6000_0_0_Full.npy\n"
     ]
    }
   ],
   "source": [
    "cfc = copy.deepcopy(csu.cf)\n",
    "cfc['pa']['freqdset'] = 'NPIPE'\n",
    "cfc['pa']['mskset'] = 'smica'\n",
    "csuc = Config(cfc)\n",
    "ioc = IO(csuc) \n",
    "\n",
    "lmaxbin = int(bins[-1][1]+1)\n",
    "lmax = csu.lmax\n",
    "\n",
    "W_smica_NPlens = ioc.load_data(ioc.fh.weight_smica_path_name)\n",
    "W_mv_NPlens = ioc.load_data(ioc.fh.weight_path_name)\n",
    "W_total_NPlens = hpf.interp_smica_mv_weights(W_smica_NPlens, W_mv_NPlens, bins, 4001)"
   ]
  },
  {
   "cell_type": "code",
   "execution_count": 13,
   "id": "e14d63e3-19d6-4248-a890-4da4b8a719af",
   "metadata": {},
   "outputs": [
    {
     "name": "stdout",
     "output_type": "stream",
     "text": [
      "$$$$$$$$$$$$$$$$$$$$$$$$$$$$$$$$$$$$$$$$\n",
      "Run with the following settings:\n",
      "{'Tscale': 'K_CMB', 'mskset': 'smica', 'freqdset': 'NPIPE', 'Spectrum_scale': 'C_l', 'lmax': 4000, 'lmax_mask': 6000, 'freqdatsplit': '', 'smoothing_window': 0, 'max_polynom': 0, 'num_sim': 5, 'binname': 'SMICA_highell_bins', 'overwrite_cache': True, 'split': '', 'nside_out': None, 'splitvariation': 'GHz', 'freqfilter': ['545', '857'], 'specfilter': ['TB', 'EB', 'ET', 'BT', 'BE'], 'nside_desc_map': [1024, 2048]}\n",
      "$$$$$$$$$$$$$$$$$$$$$$$$$$$$$$$$$$$$$$$$\n",
      "$$$$$$$$$$$$$$$$$$$$$$$$$$$$$$$$$$$$$$$$\n",
      "Run with the following settings:\n",
      "{'Tscale': 'K_CMB', 'mskset': 'smica', 'freqdset': 'DX12', 'Spectrum_scale': 'C_l', 'lmax': 4000, 'lmax_mask': 6000, 'freqdatsplit': '', 'smoothing_window': 0, 'max_polynom': 0, 'num_sim': 5, 'binname': 'SMICA_highell_bins', 'overwrite_cache': True, 'split': '', 'nside_out': None, 'splitvariation': 'GHz', 'freqfilter': ['545', '857'], 'specfilter': ['TB', 'EB', 'ET', 'BT', 'BE'], 'nside_desc_map': [1024, 2048]}\n",
      "$$$$$$$$$$$$$$$$$$$$$$$$$$$$$$$$$$$$$$$$\n"
     ]
    }
   ],
   "source": [
    "cfc = copy.deepcopy(csu.cf)\n",
    "cfc['pa']['freqdset'] = 'NPIPE'\n",
    "cfc['pa']['mskset'] = 'smica'\n",
    "csuc = Config(cfc)\n",
    "ioc = IO(csuc)\n",
    "beamfNPIPE = ioc.load_beamf(freqcomb=csu.freqcomb)\n",
    "cfc = copy.deepcopy(csu.cf)\n",
    "cfc['pa']['freqdset'] = 'DX12'\n",
    "cfc['pa']['mskset'] = 'smica'\n",
    "csuc = Config(cfc)\n",
    "ioc = IO(csuc)\n",
    "beamfDX12 = ioc.load_beamf(freqcomb=csu.freqcomb)"
   ]
  },
  {
   "cell_type": "code",
   "execution_count": 15,
   "id": "8a497c91-61fc-46aa-8fc4-b0004c5a652e",
   "metadata": {},
   "outputs": [
    {
     "name": "stdout",
     "output_type": "stream",
     "text": [
      "0 0\n"
     ]
    },
    {
     "data": {
      "application/vnd.jupyter.widget-view+json": {
       "model_id": "7def64d3b57245799ac085beeaadfd82",
       "version_major": 2,
       "version_minor": 0
      },
      "text/plain": [
       "Canvas(toolbar=Toolbar(toolitems=[('Home', 'Reset original view', 'home', 'home'), ('Back', 'Back to previous …"
      ]
     },
     "metadata": {},
     "output_type": "display_data"
    },
    {
     "name": "stdout",
     "output_type": "stream",
     "text": [
      "1 1\n",
      "2 2\n"
     ]
    }
   ],
   "source": [
    "%matplotlib widget\n",
    "it=0\n",
    "for n in range(0,3):\n",
    "    for m in range(0,3):\n",
    "        if n==m:\n",
    "            print(n,m)\n",
    "            plt.plot(beamfNPIPE[2,n,m], color=colors[it], ls='--')\n",
    "            plt.plot(beamfDX12[2,n,m], color=colors[it])\n",
    "            it+=1"
   ]
  },
  {
   "cell_type": "markdown",
   "id": "b1d4947d-8987-4b5a-93fc-09f6d5d1ce08",
   "metadata": {},
   "source": [
    "# Backup"
   ]
  },
  {
   "cell_type": "code",
   "execution_count": null,
   "id": "422ce13d-bbc2-4483-975e-af67dea59b20",
   "metadata": {},
   "outputs": [],
   "source": [
    "for freq in csu.PLANCKMAPFREQ_f:\n",
    "    print('freq: ', freq)\n",
    "    ns = csu.nside_out[0] if int(freq) < 100 else csu.nside_out[1]\n",
    "    alms = pw.map2alm_spin(maps[freq], hp.ud_grade(pmask[freq], nside_out=ns), 2, lmax-1) # full sky QU->EB\n",
    "    # almT[det] = alms[0]\n",
    "    almE[freq] = alms[0]\n",
    "    almB[freq] = alms[1]\n",
    "ioc.save_data(almE, \"/global/cscratch1/sd/sebibel/misc/almE_Npipe_lens\")\n",
    "ioc.save_data(almB, \"/global/cscratch1/sd/sebibel/misc/almB_Npipe_lens\")"
   ]
  },
  {
   "cell_type": "code",
   "execution_count": null,
   "id": "cea744c3-7fce-4408-81f5-1bc8c9d82d7b",
   "metadata": {},
   "outputs": [],
   "source": [
    "LHFI = \"LFI\" if int(det)<100 else \"HFI\"\n",
    "if csu.cf['pa']['freqdset'].startswith('NPIPE'):\n",
    "    LHFI = \"HFI\""
   ]
  }
 ],
 "metadata": {
  "kernelspec": {
   "display_name": "pyenv",
   "language": "python",
   "name": "pyenv"
  },
  "language_info": {
   "codemirror_mode": {
    "name": "ipython",
    "version": 3
   },
   "file_extension": ".py",
   "mimetype": "text/x-python",
   "name": "python",
   "nbconvert_exporter": "python",
   "pygments_lexer": "ipython3",
   "version": "3.8.5"
  }
 },
 "nbformat": 4,
 "nbformat_minor": 5
}
