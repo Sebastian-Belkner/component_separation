{
 "cells": [
  {
   "cell_type": "code",
   "execution_count": 37,
   "id": "0025386d-7cbe-4029-ab2b-2454044f0715",
   "metadata": {},
   "outputs": [],
   "source": [
    "%%capture\n",
    "import numpy as np\n",
    "import smica\n",
    "import os\n",
    "import json\n",
    "\n",
    "import warnings\n",
    "warnings.filterwarnings('ignore')\n",
    "\n",
    "import copy\n",
    "from astropy.io import fits\n",
    "import matplotlib.pyplot as plt\n",
    "import healpy as hp\n",
    "\n",
    "from component_separation.io import IO\n",
    "import component_separation.powerspectrum as pospec\n",
    "import component_separation.map as mp\n",
    "import component_separation.transformer as trsf\n",
    "\n",
    "from component_separation.cs_util import Config\n",
    "from component_separation.cs_util import Smica_bins as const\n",
    "from component_separation.cs_util import Helperfunctions as hpf\n",
    "from component_separation.cs_util import Filename_gen_SMICA as fns_gen\n",
    "from component_separation.cs_util import Filename_gen as fn_gen\n",
    "\n",
    "csu = Config()\n",
    "io = IO(csu)\n",
    "fn = fn_gen(csu)\n",
    "fns = fns_gen(csu)\n",
    "tebdict = {0:'I', 1:'Q', 2:'U'}\n",
    "\n",
    "lmax=csu.lmax\n",
    "nside_out = csu.nside_out\n",
    "bins = csu.bins\n",
    "detector = csu.FREQ_f\n",
    "specfilter = csu.specfilter\n",
    "freqfilter = csu.FREQFILTER\n",
    "lmaxbins = int(bins[-1][1])\n",
    "colors=csu.CB_color_cycle\n",
    "bcorr = [\n",
    "    hp.gauss_beam(val, lmax, pol = True)[:,1]\n",
    "    for val in [\n",
    "        0.00930842,\n",
    "        0.00785398,\n",
    "        0.00378155,\n",
    "        0.002807071,\n",
    "        0.002106031,\n",
    "        0.00145444,\n",
    "        0.00140499,\n",
    "        ]\n",
    "    ]\n",
    "beam5 = hp.gauss_beam(0.001454441043324941835, lmax, pol = True)[:,1]"
   ]
  },
  {
   "cell_type": "code",
   "execution_count": 15,
   "id": "7e85acd1-2a56-4b28-abd5-76b73bfa18f3",
   "metadata": {},
   "outputs": [],
   "source": [
    "def get_mask(freqdset, mskset, spectrum_type):\n",
    "    csu = Config(freqdset=freqdset, mskset=mskset, spectrum_type=spectrum_type, verbose=False)\n",
    "    fn = fn_gen(csu)\n",
    "    fns = fns_gen(csu)\n",
    "    io = IO(csu)\n",
    "    apo = csu.spectrum_type == 'pseudo'\n",
    "    tmask_fn = fn.get_mask('T', apodized=apo)\n",
    "    pmask_fn = fn.get_mask('P', apodized=apo)\n",
    "    tmask_sg = io.load_mask(tmask_fn, stack=True)\n",
    "    pmask_sg = io.load_mask(pmask_fn, stack=True)\n",
    "\n",
    "    tmask, pmask = dict(), dict()\n",
    "    for FREQ in csu.FREQ:\n",
    "        if FREQ not in csu.FREQFILTER:\n",
    "            tmask[FREQ] = tmask_sg\n",
    "            pmask[FREQ] = pmask_sg\n",
    "    return tmask, pmask\n",
    "import itertools\n",
    "mask = dict()\n",
    "for freqdset, mskset, spectrum_type in itertools.product(['NPIPE', 'DX12'], ['lens', 'smica'], ['pseudo', 'JC']):\n",
    "    tmask, pmask = get_mask(freqdset=freqdset, mskset=mskset, spectrum_type=spectrum_type)\n",
    "    mask.update({\n",
    "        freqdset:{\n",
    "            mskset:{\n",
    "                spectrum_type:{\n",
    "                    'T': tmask,\n",
    "                     'P': pmask,\n",
    "            }}}})"
   ]
  },
  {
   "cell_type": "code",
   "execution_count": 32,
   "id": "ca9a2433-0256-4d82-b4e9-71999c8924ed",
   "metadata": {},
   "outputs": [
    {
     "name": "stdout",
     "output_type": "stream",
     "text": [
      "loaded /global/cscratch1/sd/sebibel/compsep/planck/NPIPE/lensmask/smica_w_SMICA_highell_bins_pseudo.npy\n",
      "loaded /global/cscratch1/sd/sebibel/compsep/planck/NPIPE/lensmask/w_JC.npy\n",
      "no existing data at /global/cscratch1/sd/sebibel/compsep/planck/NPIPE/lensmask/ClT_combined_SMICA_highell_bins_2048_4000_pseudo.npy\n",
      "loaded /global/cscratch1/sd/sebibel/compsep/planck/NPIPE/lensmask/smica_cov_SMICA_highell_bins_pseudo.npy\n",
      "loaded /global/cscratch1/sd/sebibel/compsep/planck/NPIPE/lensmask/smica_cov4D_SMICA_highell_bins_pseudo.npy\n",
      "loaded /global/cscratch1/sd/sebibel/compsep/planck/NPIPE/lensmask/smica_CMB_SMICA_highell_bins_pseudo.npy\n",
      "loaded /global/cscratch1/sd/sebibel/compsep/planck/NPIPE/lensmask/smica_gal_mm_SMICA_highell_bins_pseudo.npy\n",
      "loaded /global/cscratch1/sd/sebibel/compsep/planck/NPIPE/lensmask/smica_w_SMICA_highell_bins_pseudo.npy\n",
      "loaded /global/cscratch1/sd/sebibel/compsep/planck/NPIPE/lensmask/smica_w_SMICA_highell_bins_JC.npy\n",
      "loaded /global/cscratch1/sd/sebibel/compsep/planck/NPIPE/lensmask/w_JC.npy\n",
      "loaded /global/cscratch1/sd/sebibel/compsep/planck/NPIPE/lensmask/ClT_combined_SMICA_highell_bins_2048_4000_6000_JC.npy\n",
      "loaded /global/cscratch1/sd/sebibel/compsep/planck/NPIPE/lensmask/smica_cov_SMICA_highell_bins_JC.npy\n",
      "loaded /global/cscratch1/sd/sebibel/compsep/planck/NPIPE/lensmask/smica_cov4D_SMICA_highell_bins_JC.npy\n",
      "loaded /global/cscratch1/sd/sebibel/compsep/planck/NPIPE/lensmask/smica_CMB_SMICA_highell_bins_JC.npy\n",
      "loaded /global/cscratch1/sd/sebibel/compsep/planck/NPIPE/lensmask/smica_gal_mm_SMICA_highell_bins_JC.npy\n",
      "loaded /global/cscratch1/sd/sebibel/compsep/planck/NPIPE/lensmask/smica_w_SMICA_highell_bins_JC.npy\n",
      "no existing data at /global/cscratch1/sd/sebibel/compsep/planck/NPIPE/smicamask/smica_w_SMICA_highell_bins_pseudo.npy\n",
      "loaded /global/cscratch1/sd/sebibel/compsep/planck/NPIPE/lensmask/w_JC.npy\n",
      "no existing data at /global/cscratch1/sd/sebibel/compsep/planck/NPIPE/smicamask/ClT_combined_SMICA_highell_bins_2048_4000_pseudo.npy\n",
      "no existing data at /global/cscratch1/sd/sebibel/compsep/planck/NPIPE/smicamask/smica_cov_SMICA_highell_bins_pseudo.npy\n",
      "no existing data at /global/cscratch1/sd/sebibel/compsep/planck/NPIPE/smicamask/smica_cov4D_SMICA_highell_bins_pseudo.npy\n",
      "no existing data at /global/cscratch1/sd/sebibel/compsep/planck/NPIPE/smicamask/smica_CMB_SMICA_highell_bins_pseudo.npy\n",
      "no existing data at /global/cscratch1/sd/sebibel/compsep/planck/NPIPE/smicamask/smica_gal_mm_SMICA_highell_bins_pseudo.npy\n",
      "no existing data at /global/cscratch1/sd/sebibel/compsep/planck/NPIPE/smicamask/smica_w_SMICA_highell_bins_pseudo.npy\n",
      "no existing data at /global/cscratch1/sd/sebibel/compsep/planck/NPIPE/smicamask/smica_w_SMICA_highell_bins_JC.npy\n",
      "loaded /global/cscratch1/sd/sebibel/compsep/planck/NPIPE/lensmask/w_JC.npy\n",
      "no existing data at /global/cscratch1/sd/sebibel/compsep/planck/NPIPE/smicamask/ClT_combined_SMICA_highell_bins_2048_4000_6000_JC.npy\n",
      "no existing data at /global/cscratch1/sd/sebibel/compsep/planck/NPIPE/smicamask/smica_cov_SMICA_highell_bins_JC.npy\n",
      "no existing data at /global/cscratch1/sd/sebibel/compsep/planck/NPIPE/smicamask/smica_cov4D_SMICA_highell_bins_JC.npy\n",
      "no existing data at /global/cscratch1/sd/sebibel/compsep/planck/NPIPE/smicamask/smica_CMB_SMICA_highell_bins_JC.npy\n",
      "no existing data at /global/cscratch1/sd/sebibel/compsep/planck/NPIPE/smicamask/smica_gal_mm_SMICA_highell_bins_JC.npy\n",
      "no existing data at /global/cscratch1/sd/sebibel/compsep/planck/NPIPE/smicamask/smica_w_SMICA_highell_bins_JC.npy\n",
      "loaded /global/cscratch1/sd/sebibel/compsep/planck/DX12/lensmask/smica_w_SMICA_highell_bins_pseudo.npy\n",
      "loaded /global/cscratch1/sd/sebibel/compsep/planck/NPIPE/lensmask/w_JC.npy\n",
      "loaded /global/cscratch1/sd/sebibel/compsep/planck/DX12/lensmask/ClT_combined_SMICA_highell_bins_2048_4000_pseudo.npy\n",
      "loaded /global/cscratch1/sd/sebibel/compsep/planck/DX12/lensmask/smica_cov_SMICA_highell_bins_pseudo.npy\n",
      "loaded /global/cscratch1/sd/sebibel/compsep/planck/DX12/lensmask/smica_cov4D_SMICA_highell_bins_pseudo.npy\n",
      "loaded /global/cscratch1/sd/sebibel/compsep/planck/DX12/lensmask/smica_CMB_SMICA_highell_bins_pseudo.npy\n",
      "loaded /global/cscratch1/sd/sebibel/compsep/planck/DX12/lensmask/smica_gal_mm_SMICA_highell_bins_pseudo.npy\n",
      "loaded /global/cscratch1/sd/sebibel/compsep/planck/DX12/lensmask/smica_w_SMICA_highell_bins_pseudo.npy\n",
      "loaded /global/cscratch1/sd/sebibel/compsep/planck/DX12/lensmask/smica_w_SMICA_highell_bins_JC.npy\n",
      "loaded /global/cscratch1/sd/sebibel/compsep/planck/NPIPE/lensmask/w_JC.npy\n",
      "loaded /global/cscratch1/sd/sebibel/compsep/planck/DX12/lensmask/ClT_combined_SMICA_highell_bins_2048_4000_6000_JC.npy\n",
      "loaded /global/cscratch1/sd/sebibel/compsep/planck/DX12/lensmask/smica_cov_SMICA_highell_bins_JC.npy\n",
      "loaded /global/cscratch1/sd/sebibel/compsep/planck/DX12/lensmask/smica_cov4D_SMICA_highell_bins_JC.npy\n",
      "loaded /global/cscratch1/sd/sebibel/compsep/planck/DX12/lensmask/smica_CMB_SMICA_highell_bins_JC.npy\n",
      "loaded /global/cscratch1/sd/sebibel/compsep/planck/DX12/lensmask/smica_gal_mm_SMICA_highell_bins_JC.npy\n",
      "loaded /global/cscratch1/sd/sebibel/compsep/planck/DX12/lensmask/smica_w_SMICA_highell_bins_JC.npy\n",
      "loaded /global/cscratch1/sd/sebibel/compsep/planck/DX12/smicamask/smica_w_SMICA_highell_bins_pseudo.npy\n",
      "loaded /global/cscratch1/sd/sebibel/compsep/planck/NPIPE/lensmask/w_JC.npy\n",
      "loaded /global/cscratch1/sd/sebibel/compsep/planck/DX12/smicamask/ClT_combined_SMICA_highell_bins_2048_4000_pseudo.npy\n",
      "loaded /global/cscratch1/sd/sebibel/compsep/planck/DX12/smicamask/smica_cov_SMICA_highell_bins_pseudo.npy\n",
      "loaded /global/cscratch1/sd/sebibel/compsep/planck/DX12/smicamask/smica_cov4D_SMICA_highell_bins_pseudo.npy\n",
      "loaded /global/cscratch1/sd/sebibel/compsep/planck/DX12/smicamask/smica_CMB_SMICA_highell_bins_pseudo.npy\n",
      "loaded /global/cscratch1/sd/sebibel/compsep/planck/DX12/smicamask/smica_gal_mm_SMICA_highell_bins_pseudo.npy\n",
      "loaded /global/cscratch1/sd/sebibel/compsep/planck/DX12/smicamask/smica_w_SMICA_highell_bins_pseudo.npy\n",
      "loaded /global/cscratch1/sd/sebibel/compsep/planck/DX12/smicamask/smica_w_SMICA_highell_bins_JC.npy\n",
      "loaded /global/cscratch1/sd/sebibel/compsep/planck/NPIPE/lensmask/w_JC.npy\n",
      "loaded /global/cscratch1/sd/sebibel/compsep/planck/DX12/smicamask/ClT_combined_SMICA_highell_bins_2048_4000_6000_JC.npy\n",
      "loaded /global/cscratch1/sd/sebibel/compsep/planck/DX12/smicamask/smica_cov_SMICA_highell_bins_JC.npy\n",
      "loaded /global/cscratch1/sd/sebibel/compsep/planck/DX12/smicamask/smica_cov4D_SMICA_highell_bins_JC.npy\n",
      "loaded /global/cscratch1/sd/sebibel/compsep/planck/DX12/smicamask/smica_CMB_SMICA_highell_bins_JC.npy\n",
      "loaded /global/cscratch1/sd/sebibel/compsep/planck/DX12/smicamask/smica_gal_mm_SMICA_highell_bins_JC.npy\n",
      "loaded /global/cscratch1/sd/sebibel/compsep/planck/DX12/smicamask/smica_w_SMICA_highell_bins_JC.npy\n"
     ]
    }
   ],
   "source": [
    "smica_params = dict({'cov': None, \"cov4D\": None, \"CMB\": None, \"gal_mm\": None, \"w\": None})\n",
    "smica_params = dict()\n",
    "prod = [['NPIPE', 'DX12'], ['lens', 'smica'], ['pseudo', 'JC']]\n",
    "dhelper = dict({'cov': None, \"cov4D\": None, \"CMB\": None, \"gal_mm\": None, \"w\": None})\n",
    "lmax_loc = 4000\n",
    "clmin = dict()\n",
    "simid=-1\n",
    "W = dict()\n",
    "for freqdset, mskset, spectrum_type in itertools.product(*prod):\n",
    "    if freqdset in smica_params:\n",
    "        if mskset in smica_params[freqdset]:\n",
    "                smica_params[freqdset][mskset].update({spectrum_type: dhelper})\n",
    "        else:\n",
    "            smica_params[freqdset].update({mskset:{spectrum_type: dhelper}})\n",
    "    else:\n",
    "        smica_params.update({freqdset: {mskset:{spectrum_type: dhelper}}})\n",
    "    if freqdset in W:\n",
    "        if mskset in W[freqdset]:\n",
    "                W[freqdset][mskset].update({spectrum_type: None})\n",
    "        else:\n",
    "            W[freqdset].update({mskset:{spectrum_type: None}})\n",
    "    else:\n",
    "        W.update({freqdset: {mskset:{spectrum_type: None}}})\n",
    "for freqdset, mskset, spectrum_type in itertools.product(*prod):\n",
    "    csu = Config(freqdset=freqdset, mskset=mskset, spectrum_type=spectrum_type, verbose=False)\n",
    "    fns = fns_gen(csu)\n",
    "\n",
    "    bins = csu.bins\n",
    "\n",
    "    W_smica = io.load_data(fns.get_misc('w', simid=simid))\n",
    "    W_mv = io.load_data(fn.get_misc('w', simid=simid))\n",
    "    if W_smica is not None and W_mv is not None:\n",
    "        W_total = hpf.interp_smica_mv_weights(W_smica, W_mv, bins, 4001)\n",
    "        W[freqdset][mskset][spectrum_type] = W_total\n",
    "        W[freqdset][mskset][spectrum_type][:,:,0:2] = 0.0\n",
    "    clmin.update({freqdset: {mskset:{spectrum_type: io.load_data(fns.get_spectrum(\"T\", \"combined\", simid=-1))}}})\n",
    "    for k, v in smica_params[freqdset][mskset][spectrum_type].items():\n",
    "        smica_params[freqdset][mskset][spectrum_type][k] = io.load_data(fns.get_misc(k))"
   ]
  },
  {
   "cell_type": "code",
   "execution_count": 28,
   "id": "fd6800a6-877c-40e7-9af8-a74ca3bc9daa",
   "metadata": {},
   "outputs": [
    {
     "name": "stdout",
     "output_type": "stream",
     "text": [
      "(9, 4001)\n"
     ]
    },
    {
     "data": {
      "text/plain": [
       "Text(0.5, 0, 'Multipole')"
      ]
     },
     "execution_count": 28,
     "metadata": {},
     "output_type": "execute_result"
    },
    {
     "data": {
      "image/png": "[encoded data removed]",
      "text/plain": [
       "<Figure size 432x288 with 1 Axes>"
      ]
     },
     "metadata": {
      "needs_background": "light"
     },
     "output_type": "display_data"
    }
   ],
   "source": [
    "%matplotlib inline\n",
    "EBidx = 0\n",
    "nbins = 200\n",
    "for freqdset, mskset, spectrum_type in itertools.product(*prod):\n",
    "    if freqdset in clmin:\n",
    "        if mskset in clmin[freqdset]:\n",
    "            if spectrum_type in clmin[freqdset][mskset]:\n",
    "                if clmin[freqdset][mskset][spectrum_type] is not None:\n",
    "                    print(clmin[freqdset][mskset][spectrum_type][EBidx].shape)\n",
    "                    mean, err, _ = hpf.std_dev_binned(clmin[freqdset][mskset][spectrum_type][EBidx][1], binwidth=nbins, lmax=4001, log=False)  \n",
    "                    plt.errorbar((_[1:]+_[:-1])/2, mean, yerr=err, label='{} {} {}'.format(freqdset,mskset, spectrum_type), fmt= '.', capsize=5)\n",
    "mean, err, _ = hpf.std_dev_binned(ClTcombNLDS[EBidx+1], binwidth=nbins, lmax=4001, log=False)\n",
    "plt.errorbar((_[1:]+_[:-1])/2, mean, yerr=err, label='NPIPE data with DX12-smica weights', fmt= '.', capsize=5)\n",
    "# mean, err, _ = hpf.std_dev_binned(propag_smica_C_lmin_sc[EBidx], binwidth=nbins, lmax=4000, log=False)\n",
    "# plt.errorbar((_[1:]+_[:-1])/2, mean, yerr=err, label='NPIPE data with smica-propag weights', fmt= '.', capsize=5)\n",
    "# plt.plot(C_lS[0,1], label='Planck best estimate')\n",
    "plt.legend()\n",
    "plt.yscale('log')\n",
    "plt.ylabel('C_l')\n",
    "if EBidx == 0:\n",
    "    plt.title('EE')\n",
    "else:\n",
    "    plt.title('BB')\n",
    "plt.xlabel('Multipole')"
   ]
  },
  {
   "cell_type": "markdown",
   "id": "d8b2e432-84a4-4045-b010-382d6457a51c",
   "metadata": {},
   "source": [
    "# MV spectrum/map for NPIPE lens with DX12 smica weights\n",
    "## weights: DX12 smica"
   ]
  },
  {
   "cell_type": "markdown",
   "id": "0bf1de16-be6b-416d-9dce-5c72ab1f03e5",
   "metadata": {},
   "source": [
    "## alms: NPIPE lens\n",
    "### Recalculate.."
   ]
  },
  {
   "cell_type": "code",
   "execution_count": 33,
   "id": "0cbc360e-d2a1-46db-8c33-ec1f6c521837",
   "metadata": {},
   "outputs": [
    {
     "name": "stdout",
     "output_type": "stream",
     "text": [
      "inpath_map_pla_name: /global/cfs/cdirs/cmb/data/planck2020/npipe/npipe6v20/npipe6v20_030_map.fits\n",
      "inpath_map_pla_name: /global/cfs/cdirs/cmb/data/planck2020/npipe/npipe6v20/npipe6v20_044_map.fits\n",
      "inpath_map_pla_name: /global/cfs/cdirs/cmb/data/planck2020/npipe/npipe6v20/npipe6v20_070_map.fits\n",
      "inpath_map_pla_name: /global/cfs/cdirs/cmb/data/planck2020/npipe/npipe6v20/npipe6v20_100_map.fits\n",
      "inpath_map_pla_name: /global/cfs/cdirs/cmb/data/planck2020/npipe/npipe6v20/npipe6v20_143_map.fits\n",
      "inpath_map_pla_name: /global/cfs/cdirs/cmb/data/planck2020/npipe/npipe6v20/npipe6v20_217_map.fits\n",
      "inpath_map_pla_name: /global/cfs/cdirs/cmb/data/planck2020/npipe/npipe6v20/npipe6v20_353_map.fits\n"
     ]
    }
   ],
   "source": [
    "maps = dict()\n",
    "for FREQ in csu.FREQ:\n",
    "    if FREQ not in csu.FREQFILTER:\n",
    "        inpath_map_pla_name = fn.get_d(FREQ, \"T\", simid=simid)\n",
    "        print(\"inpath_map_pla_name: {}\".format(inpath_map_pla_name))\n",
    "        nside_out = csu.nside_out[0] if int(FREQ)<100 else csu.nside_out[1]\n",
    "        maps[FREQ] = io.load_d(inpath_map_pla_name, field=(0,1,2), nside_out=nside_out)\n",
    "maps = mp.process_all(maps)\n",
    "beamf = io.load_beamf(csu.freqcomb, csu.lmax, csu.freqdatsplit)"
   ]
  },
  {
   "cell_type": "code",
   "execution_count": 38,
   "id": "66da7990-d24e-4d67-aa56-a54fec6ca42b",
   "metadata": {},
   "outputs": [
    {
     "name": "stdout",
     "output_type": "stream",
     "text": [
      "freq:  030\n",
      "freq:  044\n",
      "freq:  070\n",
      "freq:  100\n",
      "freq:  143\n",
      "freq:  217\n",
      "freq:  353\n"
     ]
    }
   ],
   "source": [
    "nalm = int((lmax_loc+1)*(lmax_loc+2)/2) \n",
    "alm = np.zeros(shape=(len(csu.FREQ_f),3,nalm))\n",
    "apo = csu.spectrum_type == 'pseudo'\n",
    "for itf, freq in enumerate(csu.FREQ_f):\n",
    "    print('freq: ', freq)\n",
    "    ns = csu.nside_out[0] if int(freq) < 100 else csu.nside_out[1]\n",
    "    if apo:\n",
    "        alm[itf][1:] = hp.map2alm(np.array([n*hp.ud_grade(pmask[freq], nside_out=ns) for n in maps[freq]]), lmax_loc)[1:] # full sky QU->EB        #TODO no TT at the moment\n",
    "    else:\n",
    "        alm[itf][1:] = trsf.map2alm_spin(maps[freq], hp.ud_grade(pmask[freq], nside_out=ns), 2, lmax_loc) # full sky QU->EB        #TODO no TT at the moment"
   ]
  },
  {
   "cell_type": "markdown",
   "id": "40455620-9fe0-471a-ab96-2d92d728e790",
   "metadata": {},
   "source": [
    "### ..or take existing"
   ]
  },
  {
   "cell_type": "code",
   "execution_count": 16,
   "id": "29de34b5-752a-4ad0-bbef-71ac6f4417e0",
   "metadata": {},
   "outputs": [
    {
     "name": "stdout",
     "output_type": "stream",
     "text": [
      "loaded /global/cscratch1/sd/sebibel/misc/almE_Npipe_lens.npy\n",
      "loaded /global/cscratch1/sd/sebibel/misc/almB_Npipe_lens.npy\n"
     ]
    }
   ],
   "source": [
    "almE = io.load_data('/global/cscratch1/sd/sebibel/misc/almE_Npipe_lens.npy')\n",
    "almB = io.load_data('/global/cscratch1/sd/sebibel/misc/almB_Npipe_lens.npy')"
   ]
  },
  {
   "cell_type": "markdown",
   "id": "22b4440f-5705-4112-b902-973c2621f5df",
   "metadata": {},
   "source": [
    "## spectrum: MV NPIPE lens with DX12 smica weights\n",
    "### Recalculate.."
   ]
  },
  {
   "cell_type": "code",
   "execution_count": null,
   "id": "e1e2bd4a-1c92-43f1-bd15-e1c14352cb77",
   "metadata": {},
   "outputs": [],
   "source": [
    "combalmE = np.zeros((nalm), dtype=np.complex128)\n",
    "combalmB = np.zeros((nalm), dtype=np.complex128)\n",
    "beam_e = hp.gauss_beam(np.radians(5/60), 4100, pol = True)[:,1]\n",
    "beam_b = hp.gauss_beam(np.radians(5/60), 4100, pol = True)[:,2]\n",
    "\n",
    "for itf, det in enumerate(csu.FREQ): #weights do not depend on FREQFILTER, but almE/B do\n",
    "    if det in csu.FREQ_f:\n",
    "        print('freq: ', det)\n",
    "        ns = csu.nside_out[0] if int(det) < 100 else csu.nside_out[1]\n",
    "        # combalmT += hp.almxfl(almT[name], np.squeeze(W[0,m,:]))\n",
    "        combalmE += hp.almxfl(\n",
    "            hp.almxfl(\n",
    "                hp.almxfl(\n",
    "                    alm[itf][1], np.nan_to_num(1/beamf[1,itf,itf,:lmax_loc])),\n",
    "                beam_e[:lmax_loc]),\n",
    "            np.squeeze(W['DX12']['smica']['JC'][1,itf,:lmax_loc]))\n",
    "        # combalmE = hp.almxfl(combalmE, 1/hp.pixwin(ns, pol=True)[0][:lmax_loc])\n",
    "        combalmB += hp.almxfl(\n",
    "            hp.almxfl(\n",
    "                hp.almxfl(\n",
    "                    alm[itf][2], np.nan_to_num(1/beamf[2,itf,itf,:lmax_loc])),\n",
    "                    beam_b[:lmax_loc]),\n",
    "            np.squeeze(W['DX12']['smica']['JC'][2,itf,:lmax_loc]))\n",
    "        # combalmB = hp.almxfl(combalmB, 1/hp.pixwin(ns, pol=True)[1][:lmax_loc])\n",
    "ioc.save_data(combalmE, \"/global/cscratch1/sd/sebibel/misc/combalmE_Npipe_lens_DX12smicaweights\")\n",
    "ioc.save_data(combalmB, \"/global/cscratch1/sd/sebibel/misc/combalmB_Npipe_lens_DX12smicaweights\")"
   ]
  },
  {
   "cell_type": "markdown",
   "id": "8b34f430-e26e-442e-8522-6e22d4628fd2",
   "metadata": {},
   "source": [
    "### ..or take existing"
   ]
  },
  {
   "cell_type": "code",
   "execution_count": 17,
   "id": "897b3544-7d1d-4af7-98be-5aa9e699c90d",
   "metadata": {},
   "outputs": [
    {
     "name": "stdout",
     "output_type": "stream",
     "text": [
      "loaded /global/cscratch1/sd/sebibel/misc/combalmE_Npipe_lens_DX12smicaweights.npy\n",
      "loaded /global/cscratch1/sd/sebibel/misc/combalmB_Npipe_lens_DX12smicaweights.npy\n"
     ]
    }
   ],
   "source": [
    "combalmE_NPlensDXsmica = ioc.load_data(\"/global/cscratch1/sd/sebibel/misc/combalmE_Npipe_lens_DX12smicaweights.npy\")\n",
    "combalmB_NPlensDXsmica = ioc.load_data(\"/global/cscratch1/sd/sebibel/misc/combalmB_Npipe_lens_DX12smicaweights.npy\")"
   ]
  },
  {
   "cell_type": "markdown",
   "id": "f23371b5-45e1-44eb-93d0-1213489e8957",
   "metadata": {},
   "source": [
    "## Map: NPIPE lens w/ DX12 smica\n",
    "### Recalculate.."
   ]
  },
  {
   "cell_type": "code",
   "execution_count": null,
   "id": "eae9b9d2-df28-4880-81aa-55019205e0cb",
   "metadata": {},
   "outputs": [],
   "source": [
    "mapT_combined = hp.alm2map([np.zeros_like(combalmE), combalmE, combalmB], csu.nside_out[1])\n",
    "ClTcombNLDS = trsf.map2cls({'combined':mapT_combined}, {'combined':tmask['030']}, {'combined':pmask['030']}, csu.spectrum_type, lmax_loc, freqcomb=['combined-combined'], lmax_mask=csu.lmax_mask)"
   ]
  },
  {
   "cell_type": "markdown",
   "id": "64f9a641-645f-4872-b682-39623938d299",
   "metadata": {},
   "source": [
    "### ..or take existing"
   ]
  },
  {
   "cell_type": "code",
   "execution_count": 8,
   "id": "b0256fb2-d9ef-4e51-93ce-03c763a31d52",
   "metadata": {},
   "outputs": [
    {
     "name": "stdout",
     "output_type": "stream",
     "text": [
      "loaded /global/cscratch1/sd/sebibel/misc/MVmap_Npipe_lens_DX12smicaweights.npy\n"
     ]
    }
   ],
   "source": [
    "MV_map_NPlensDXsmica = io.load_data(\"/global/cscratch1/sd/sebibel/misc/MVmap_Npipe_lens_DX12smicaweights.npy\")\n",
    "# C_lmin_NPlensDXsmica = np.array(ps.map2cl_spin(qumap=MV_map_NPlensDXsmica[1:3], spin=2, mask=pmask['100'], lmax=lmax-1,\n",
    "#     lmax_mask=lmax*2))*1e12 #maps are different scale than processed powerspectra from this' package pipeline, thus *1e12"
   ]
  },
  {
   "cell_type": "markdown",
   "id": "4814e451-5d8b-480e-8de9-ae9ac05beb4a",
   "metadata": {},
   "source": [
    "# MV spectrum/map for NPIPE lens with smica propagation code weights"
   ]
  },
  {
   "cell_type": "code",
   "execution_count": 6,
   "id": "ff54b532-1e2b-40e9-9404-81c123f3f364",
   "metadata": {},
   "outputs": [],
   "source": [
    "W_total_propag = np.loadtxt(\"/global/homes/s/sebibel/ext/smica_propagation/weights_EB_smica_R3.00.txt\").reshape(2,7,4001)"
   ]
  },
  {
   "cell_type": "code",
   "execution_count": 24,
   "id": "38caaf79-8dc0-4731-9948-12b347ed5e55",
   "metadata": {},
   "outputs": [
    {
     "name": "stdout",
     "output_type": "stream",
     "text": [
      "freq:  030\n",
      "freq:  044\n",
      "freq:  070\n",
      "freq:  100\n",
      "freq:  143\n",
      "freq:  217\n",
      "freq:  353\n",
      "Data saved to /global/cscratch1/sd/sebibel/misc/MVmap_Npipe_lens_smicapropagweights.npy\n"
     ]
    }
   ],
   "source": [
    "nalm = int((lmax)*(lmax-1+2)/2)  \n",
    "combalmE = np.zeros((nalm), dtype=np.complex128)\n",
    "combalmB = np.zeros((nalm), dtype=np.complex128)\n",
    "Egauss = hp.gauss_beam(np.radians(4.848/60), lmax, pol = True)[:,1]\n",
    "Bgauss = hp.gauss_beam(np.radians(4.848/60), lmax, pol = True)[:,2]\n",
    "for it, det in enumerate(csu.PLANCKMAPFREQ): #weights do not depend on freqfilter, but almE/B do\n",
    "    if det in csu.PLANCKMAPFREQ_f:\n",
    "        print('freq: ', det)\n",
    "        ns = csu.nside_out[0] if int(det) < 100 else csu.nside_out[1]\n",
    "        # combalmT += hp.almxfl(almT[name], np.squeeze(W[0,m,:]))\n",
    "        combalmE += hp.almxfl(hp.almxfl(almE[det],1/beamfNPIPE[1,it,it][:lmax]), W_total_propag[0,it,:]*bcorr[it]/(beam5))#*np.nan_to_num(beamfDX12[1,it,it])/Egauss)\n",
    "        combalmE = hp.almxfl(combalmE, 1/hp.pixwin(ns, pol=True)[0][:lmax])\n",
    "#             combalmE = hp.smoothalm(combalmE, fwhm = np.radians(5/60))\n",
    "        combalmB += hp.almxfl(hp.almxfl(almB[det],1/beamfNPIPE[2,it,it][:lmax][:lmax]), W_total_propag[1,it,:]*bcorr[it]/(beam5))#*np.nan_to_num(beamfDX12[2,it,it])/Bgauss)\n",
    "        combalmB = hp.almxfl(combalmB, 1/hp.pixwin(ns, pol=True)[1][:lmax])\n",
    "#             combalmB = hp.smoothalm(combalmB, fwhm = np.radians(5/60))\n",
    "\n",
    "propag_CMB = hp.alm2map([np.zeros_like(combalmE), combalmE, combalmB], csu.nside_out[1])\n",
    "ioc.save_data(propag_CMB, \"/global/cscratch1/sd/sebibel/misc/MVmap_Npipe_lens_smicapropagweights.npy\")"
   ]
  },
  {
   "cell_type": "code",
   "execution_count": 32,
   "id": "8a8c118e-886b-4629-9eb3-b10380973794",
   "metadata": {},
   "outputs": [
    {
     "name": "stdout",
     "output_type": "stream",
     "text": [
      "loaded /global/cscratch1/sd/sebibel/misc/MVmap_Npipe_lens_smicapropagweights.npy\n"
     ]
    }
   ],
   "source": [
    "propag_CMB = ioc.load_data(\"/global/cscratch1/sd/sebibel/misc/MVmap_Npipe_lens_smicapropagweights.npy\")\n",
    "propag_smica_C_lmin_sc = np.array(ps.map2cl_spin(qumap=propag_CMB[1:3], spin=2, mask=pmask['100'], lmax=lmax-1,\n",
    "    lmax_mask=lmax*2))*1e12 #maps are different scale than processed powerspectra from this' package pipeline, thus *1e12"
   ]
  },
  {
   "cell_type": "markdown",
   "id": "b847168c-fac2-44fa-9d56-9746bb9f1f88",
   "metadata": {},
   "source": [
    "# Variance"
   ]
  },
  {
   "cell_type": "code",
   "execution_count": null,
   "id": "35167c2a-e7dc-49ef-a4de-7067d57e97bc",
   "metadata": {},
   "outputs": [],
   "source": [
    "ll = np.arange(0,4000,1)\n",
    "approx_variance_NPDXsmica = 2 * C_lmin_NPlensDXsmica[EBidx,:] * C_lmin_NPlensDXsmica[EBidx,:]/((2*ll+1)*0.67)\n",
    "approx_variance_NPlens = 2 * NP_lensclmin[EBidx,:] * NP_lensclmin[EBidx,:]/((2*ll+1)*0.67)\n",
    "approx_variance_NPpropag = 2 * propag_smica_C_lmin_sc[EBidx,:] * propag_smica_C_lmin_sc[EBidx,:]/((2*ll+1)*0.67)"
   ]
  },
  {
   "cell_type": "code",
   "execution_count": null,
   "id": "fc4f864b-a116-4e94-a845-ea63ced8f48b",
   "metadata": {},
   "outputs": [],
   "source": [
    "%matplotlib widget\n",
    "# plt.plot(approx_variance_NPDXsmica)\n",
    "# plt.plot(approx_variance_NPlens)\n",
    "\n",
    "# plt.plot(approx_variance_NPlens/approx_variance_NPDXsmica-1, label= 'NPIPE data with NPIPE-lens weights\\nover\\nNPIPE data with DX12-smica weights')\n",
    "# plt.plot(approx_variance_NPlens/approx_variance_NPpropag-1, label= 'NPIPE data with NPIPE-lens weights\\nover\\nNPIPE data with smica-propag weights')\n",
    "mean, std, _ = hpf.std_dev_binned(approx_variance_NPlens/approx_variance_NPDXsmica-1, lmax=4000, binwidth=100, log=False)\n",
    "plt.errorbar((_[1:]+_[:-1])/2, mean, yerr=std, fmt='.', capsize=5, label= 'NPIPE data with NPIPE-lens weights\\nover\\nNPIPE data with DX12-smica weights')\n",
    "mean, std, _ = hpf.std_dev_binned(approx_variance_NPlens/approx_variance_NPpropag-1, lmax=4000, binwidth=100, log=False)\n",
    "plt.errorbar((_[1:]+_[:-1])/2, mean, yerr=std, fmt='.', capsize=5, label= 'NPIPE data with NPIPE-lens weights\\nover\\nNPIPE data with smica-propag weights')\n",
    "\n",
    "# mean, std, _ = hpf.std_dev_binned(NP_lensclmin[EBidx,:]/smica_C_lmin_sc[EBidx,:]-1, lmax=4000, binwidth=50, log=False)\n",
    "# plt.errorbar((_[1:]+_[:-1])/2, mean, yerr=std, fmt='.', capsize=5, label= 'NPIPE data with NPIPE-lens weights\\nover\\nNPIPE data with DX12-smica weights')\n",
    "# mean, std, _ = hpf.std_dev_binned(NP_lensclmin[EBidx,:]/propag_smica_C_lmin_sc[EBidx,:]-1, lmax=4000, binwidth=50, log=False)\n",
    "# plt.errorbar((_[1:]+_[:-1])/2, mean, yerr=std, fmt='.', capsize=5, label= 'NPIPE data with NPIPE-lens weights\\nover\\nNPIPE data with smica-propag weights')\n",
    "\n",
    "\n",
    "plt.hlines(0,lmax,0, ls='--', color= 'gray')\n",
    "plt.ylim((-0.5,0.5))\n",
    "# plt.yscale('log')\n",
    "plt.xlim((1e1,4e3))\n",
    "plt.legend()\n",
    "plt.xlabel('Multipole')\n",
    "plt.ylabel('Rel. Diff.')\n",
    "plt.title('Comparing Variance of MV spectra')\n",
    "# plt.yscale('log')"
   ]
  },
  {
   "cell_type": "markdown",
   "id": "956ecba9-dcfb-4711-96bf-001aa87e7141",
   "metadata": {},
   "source": [
    "# Check Weights"
   ]
  },
  {
   "cell_type": "code",
   "execution_count": 3,
   "id": "ba9d8728-2826-400a-b298-6bdd863e7d72",
   "metadata": {},
   "outputs": [
    {
     "name": "stdout",
     "output_type": "stream",
     "text": [
      "$$$$$$$$$$$$$$$$$$$$$$$$$$$$$$$$$$$$$$$$\n",
      "Run with the following settings:\n",
      "{'Tscale': 'K_CMB', 'mskset': 'lens', 'freqdset': 'NPIPE', 'Spectrum_scale': 'C_l', 'lmax': 4000, 'lmax_mask': 6000, 'freqdatsplit': '', 'smoothing_window': 0, 'max_polynom': 0, 'num_sim': 5, 'binname': 'SMICA_highell_bins', 'overwrite_cache': True, 'split': '', 'nside_out': None, 'splitvariation': 'GHz', 'freqfilter': ['545', '857'], 'specfilter': ['TB', 'EB', 'ET', 'BT', 'BE'], 'nside_desc_map': [1024, 2048]}\n",
      "$$$$$$$$$$$$$$$$$$$$$$$$$$$$$$$$$$$$$$$$\n",
      "loaded /global/cscratch1/sd/sebibel/smica/SMICAWEIG_K_CMB_SMICA_highell_bins0200_C_l_NPIPE_lens_4000_6000_0_0_Full.npy\n",
      "loaded /global/cscratch1/sd/sebibel/weights/NPIPE/WEIG_K_CMB_0200_C_l_NPIPE_lens_4000_6000_0_0_Full.npy\n",
      "$$$$$$$$$$$$$$$$$$$$$$$$$$$$$$$$$$$$$$$$\n",
      "Run with the following settings:\n",
      "{'Tscale': 'K_CMB', 'mskset': 'smica', 'freqdset': 'DX12', 'Spectrum_scale': 'C_l', 'lmax': 4000, 'lmax_mask': 6000, 'freqdatsplit': '', 'smoothing_window': 0, 'max_polynom': 0, 'num_sim': 5, 'binname': 'SMICA_highell_bins', 'overwrite_cache': True, 'split': '', 'nside_out': None, 'splitvariation': 'GHz', 'freqfilter': ['545', '857'], 'specfilter': ['TB', 'EB', 'ET', 'BT', 'BE'], 'nside_desc_map': [1024, 2048]}\n",
      "$$$$$$$$$$$$$$$$$$$$$$$$$$$$$$$$$$$$$$$$\n",
      "loaded /global/cscratch1/sd/sebibel/smica/SMICAWEIG_K_CMB_SMICA_highell_bins0200_C_l_DX12_smica_4000_6000_0_0_Full.npy\n",
      "loaded /global/cscratch1/sd/sebibel/weights/DX12/WEIG_K_CMB_0200_C_l_DX12_smica_4000_6000_0_0_Full.npy\n"
     ]
    }
   ],
   "source": [
    "cfc = copy.deepcopy(csu.cf)\n",
    "cfc['pa']['freqdset'] = 'NPIPE'\n",
    "cfc['pa']['mskset'] = 'lens'\n",
    "csuc = Config(cfc)\n",
    "ioc = IO(csuc) \n",
    "\n",
    "W_smica_NPlens = ioc.load_data(ioc.fh.weight_smica_path_name)\n",
    "W_mv_NPlens = ioc.load_data(ioc.fh.weight_path_name)\n",
    "W_total_NPlens = hpf.interp_smica_mv_weights(W_smica_NPlens, W_mv_NPlens, bins, 4001)\n",
    "\n",
    "cfc['pa']['freqdset'] = 'DX12'\n",
    "cfc['pa']['mskset'] = 'smica'\n",
    "csuc = Config(cfc)\n",
    "ioc = IO(csuc) \n",
    "\n",
    "W_smica_DXsmica = ioc.load_data(ioc.fh.weight_smica_path_name)\n",
    "W_mv_DXsmica = ioc.load_data(ioc.fh.weight_path_name)\n",
    "W_total_DXsmica = hpf.interp_smica_mv_weights(W_smica_DXsmica, W_mv_DXsmica, bins, 4001)"
   ]
  },
  {
   "cell_type": "code",
   "execution_count": 10,
   "id": "c736fadf-6b71-444d-bb68-c18b7d7fa1a6",
   "metadata": {},
   "outputs": [
    {
     "data": {
      "application/vnd.jupyter.widget-view+json": {
       "model_id": "734d55b8547d4061a23132ea9d1a9e87",
       "version_major": 2,
       "version_minor": 0
      },
      "text/plain": [
       "Canvas(toolbar=Toolbar(toolitems=[('Home', 'Reset original view', 'home', 'home'), ('Back', 'Back to previous …"
      ]
     },
     "metadata": {},
     "output_type": "display_data"
    },
    {
     "data": {
      "text/plain": [
       "Text(0.5, 1.0, 'Comparing impact of masks and dataset on weights')"
      ]
     },
     "execution_count": 10,
     "metadata": {},
     "output_type": "execute_result"
    }
   ],
   "source": [
    "%matplotlib widget\n",
    "from scipy.signal import savgol_filter as sf\n",
    "W_total_propag = np.loadtxt(\"/global/homes/s/sebibel/ext/smica_propagation/weights_EB_smica_R3.00.txt\").reshape(2,7,4001)\n",
    "# *bcorr[freq]/(beam5)\n",
    "lab1='NPIPE lens'\n",
    "lab2='DX12 smica'\n",
    "plt.plot(0,0,color='black', label= 'NPIPE lens')\n",
    "plt.plot(0,0,color='black', label= 'DX12 smcia', ls = '--')\n",
    "conc=[]\n",
    "lab=[]\n",
    "\n",
    "c2 = np.sum(W_total_propag[0,:,:]*np.diagonal(np.nan_to_num(beamfNPIPE[1,:,:]),axis1=0, axis2=1).T/hp.gauss_beam(np.radians(4.845/60), lmax, pol = True)[:,1], axis=0)\n",
    "c3 = np.sum(W_total_propag[0,:,:]*np.diagonal(np.nan_to_num(beamfDX12[1,:,:]),axis1=0, axis2=1).T/hp.gauss_beam(np.radians(4.848/60), lmax, pol = True)[:,1], axis=0)\n",
    "\n",
    "Egauss = hp.gauss_beam(np.radians(4.847/60), lmax, pol = True)[:,1]\n",
    "for freq in range(3,7):\n",
    "    a, = plt.plot(W_total_NPlens[1,freq,:], color=colors[freq], lw = 2)\n",
    "    plt.plot(W_total_DXsmica[1,freq,:], color=colors[freq], ls = '--', lw = 1)\n",
    "\n",
    "    conc += [a]\n",
    "    lab += [csu.PLANCKMAPFREQ[freq]]\n",
    "    \n",
    "l2 = plt.legend(conc, lab, loc=4)\n",
    "plt.gca().add_artist(l2)\n",
    "\n",
    "plt.xlabel('Multipole')\n",
    "plt.ylabel('Weight')\n",
    "plt.legend(loc=1)\n",
    "plt.ylim((-.2,1.02))\n",
    "plt.title('Comparing impact of masks and dataset on weights')\n"
   ]
  },
  {
   "cell_type": "code",
   "execution_count": 12,
   "id": "f2f0cc0f-9ce1-42ef-b654-5adfe136239a",
   "metadata": {},
   "outputs": [
    {
     "ename": "NameError",
     "evalue": "name 'beamfDX12' is not defined",
     "output_type": "error",
     "traceback": [
      "\u001b[0;31m---------------------------------------------------------------------------\u001b[0m",
      "\u001b[0;31mNameError\u001b[0m                                 Traceback (most recent call last)",
      "\u001b[0;32m<ipython-input-12-8093510c8dd8>\u001b[0m in \u001b[0;36m<module>\u001b[0;34m\u001b[0m\n\u001b[1;32m      2\u001b[0m \u001b[0;32mfor\u001b[0m \u001b[0mfreq\u001b[0m \u001b[0;32min\u001b[0m \u001b[0mrange\u001b[0m\u001b[0;34m(\u001b[0m\u001b[0;36m0\u001b[0m\u001b[0;34m,\u001b[0m\u001b[0;36m7\u001b[0m\u001b[0;34m)\u001b[0m\u001b[0;34m:\u001b[0m\u001b[0;34m\u001b[0m\u001b[0;34m\u001b[0m\u001b[0m\n\u001b[1;32m      3\u001b[0m \u001b[0;31m#     a = bcorr[freq]/(beam5)\u001b[0m\u001b[0;34m\u001b[0m\u001b[0;34m\u001b[0m\u001b[0;34m\u001b[0m\u001b[0m\n\u001b[0;32m----> 4\u001b[0;31m     \u001b[0ma\u001b[0m \u001b[0;34m=\u001b[0m \u001b[0mnp\u001b[0m\u001b[0;34m.\u001b[0m\u001b[0mnan_to_num\u001b[0m\u001b[0;34m(\u001b[0m\u001b[0mbeamfDX12\u001b[0m\u001b[0;34m[\u001b[0m\u001b[0;36m1\u001b[0m\u001b[0;34m,\u001b[0m\u001b[0mfreq\u001b[0m\u001b[0;34m,\u001b[0m\u001b[0mfreq\u001b[0m\u001b[0;34m]\u001b[0m\u001b[0;34m)\u001b[0m\u001b[0;34m/\u001b[0m\u001b[0mEgauss\u001b[0m\u001b[0;34m\u001b[0m\u001b[0;34m\u001b[0m\u001b[0m\n\u001b[0m\u001b[1;32m      5\u001b[0m     \u001b[0mplt\u001b[0m\u001b[0;34m.\u001b[0m\u001b[0mplot\u001b[0m\u001b[0;34m(\u001b[0m\u001b[0mW_total_DXsmica\u001b[0m\u001b[0;34m[\u001b[0m\u001b[0;36m1\u001b[0m\u001b[0;34m,\u001b[0m\u001b[0mfreq\u001b[0m\u001b[0;34m,\u001b[0m\u001b[0;34m:\u001b[0m\u001b[0;34m]\u001b[0m\u001b[0;34m-\u001b[0m\u001b[0mW_total_propag\u001b[0m\u001b[0;34m[\u001b[0m\u001b[0;36m0\u001b[0m\u001b[0;34m,\u001b[0m\u001b[0mfreq\u001b[0m\u001b[0;34m,\u001b[0m\u001b[0;34m:\u001b[0m\u001b[0;34m]\u001b[0m\u001b[0;34m*\u001b[0m\u001b[0ma\u001b[0m\u001b[0;34m,\u001b[0m \u001b[0mls\u001b[0m\u001b[0;34m=\u001b[0m\u001b[0;34m'--'\u001b[0m\u001b[0;34m,\u001b[0m \u001b[0malpha\u001b[0m\u001b[0;34m=\u001b[0m\u001b[0;36m0.7\u001b[0m\u001b[0;34m)\u001b[0m\u001b[0;34m\u001b[0m\u001b[0;34m\u001b[0m\u001b[0m\n\u001b[1;32m      6\u001b[0m \u001b[0mplt\u001b[0m\u001b[0;34m.\u001b[0m\u001b[0mshow\u001b[0m\u001b[0;34m(\u001b[0m\u001b[0;34m)\u001b[0m\u001b[0;34m\u001b[0m\u001b[0;34m\u001b[0m\u001b[0m\n",
      "\u001b[0;31mNameError\u001b[0m: name 'beamfDX12' is not defined"
     ]
    }
   ],
   "source": [
    "%matplotlib widget\n",
    "for freq in range(0,7):\n",
    "#     a = bcorr[freq]/(beam5)\n",
    "    a = np.nan_to_num(beamfDX12[1,freq,freq])/Egauss\n",
    "    plt.plot(W_total_DXsmica[1,freq,:]-W_total_propag[0,freq,:]*a, ls='--', alpha=0.7)\n",
    "plt.show()\n",
    "plt.xlabel('Multipole')\n",
    "plt.ylabel('Weight')\n",
    "plt.ylim((-.02,.02))"
   ]
  },
  {
   "cell_type": "markdown",
   "id": "b1d4947d-8987-4b5a-93fc-09f6d5d1ce08",
   "metadata": {},
   "source": [
    "# Backup"
   ]
  }
 ],
 "metadata": {
  "kernelspec": {
   "display_name": "pyenv",
   "language": "python",
   "name": "pyenv"
  },
  "language_info": {
   "codemirror_mode": {
    "name": "ipython",
    "version": 3
   },
   "file_extension": ".py",
   "mimetype": "text/x-python",
   "name": "python",
   "nbconvert_exporter": "python",
   "pygments_lexer": "ipython3",
   "version": "3.8.5"
  }
 },
 "nbformat": 4,
 "nbformat_minor": 5
}
