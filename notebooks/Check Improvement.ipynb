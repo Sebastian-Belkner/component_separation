{
 "cells": [
  {
   "cell_type": "code",
   "execution_count": 1,
   "id": "0025386d-7cbe-4029-ab2b-2454044f0715",
   "metadata": {},
   "outputs": [],
   "source": [
    "%%capture\n",
    "import numpy as np\n",
    "import pandas as pd\n",
    "from healpy.sphtfunc import smoothing\n",
    "import smica\n",
    "import os\n",
    "import json\n",
    "\n",
    "import copy\n",
    "from astropy.io import fits\n",
    "from scipy import interpolate\n",
    "\n",
    "import healpy as hp\n",
    "import component_separation\n",
    "from component_separation.io import IO\n",
    "import component_separation.interface as cslib\n",
    "import component_separation.MSC.MSC.pospace as ps\n",
    "import component_separation.powspec as pw\n",
    "\n",
    "from component_separation.cs_util import Config\n",
    "from component_separation.cs_util import Constants as const\n",
    "from component_separation.cs_util import Helperfunctions as hpf\n",
    "from component_separation.cs_util import Planckf, Planckr, Plancks\n",
    "import matplotlib.pyplot as plt\n",
    "csu = Config()\n",
    "io = IO(csu)\n",
    "import warnings\n",
    "warnings.filterwarnings('ignore')\n",
    "props = dict(boxstyle='round', facecolor='wheat', alpha=0.5)\n",
    "\n",
    "lmax=csu.lmax\n",
    "nside_out = csu.nside_out\n",
    "bins = csu.bins\n",
    "detector = csu.PLANCKMAPFREQ_f\n",
    "specfilter = csu.specfilter\n",
    "freqfilter = csu.freqfilter\n",
    "lmaxbins = int(bins[-1][1])\n",
    "colors=csu.CB_color_cycle\n",
    "filename = io.fh.total_filename\n",
    "bcorr = [\n",
    "    hp.gauss_beam(val, lmax, pol = True)[:,1]\n",
    "    for val in [\n",
    "        0.00930842,\n",
    "        0.00785398,\n",
    "        0.00378155,\n",
    "        0.002807071,\n",
    "        0.002106031,\n",
    "        0.00145444,\n",
    "        0.00140499,\n",
    "        ]\n",
    "    ]\n",
    "beam5 = hp.gauss_beam(0.00145444, lmax, pol = True)[:,1]"
   ]
  },
  {
   "cell_type": "code",
   "execution_count": 6,
   "id": "7dc3b678-0d49-4f32-ab82-9052d012030a",
   "metadata": {},
   "outputs": [
    {
     "name": "stdout",
     "output_type": "stream",
     "text": [
      "$$$$$$$$$$$$$$$$$$$$$$$$$$$$$$$$$$$$$$$$\n",
      "Run with the following settings:\n",
      "{'Tscale': 'K_CMB', 'mskset': 'lens', 'freqdset': 'NPIPE', 'Spectrum_scale': 'C_l', 'lmax': 4000, 'lmax_mask': 6000, 'freqdatsplit': '', 'smoothing_window': 0, 'max_polynom': 0, 'num_sim': 5, 'binname': 'SMICA_highell_bins', 'overwrite_cache': True, 'split': '', 'nside_out': None, 'splitvariation': 'GHz', 'freqfilter': ['545', '857'], 'specfilter': ['TB', 'EB', 'ET', 'BT', 'BE'], 'nside_desc_map': [1024, 2048]}\n",
      "$$$$$$$$$$$$$$$$$$$$$$$$$$$$$$$$$$$$$$$$\n",
      "loaded /global/cscratch1/sd/sebibel/smica/smicaclmin_SMICA_highell_bins_0200_C_l_NPIPE_lens_4000_6000_0_0_Full.npy\n",
      "$$$$$$$$$$$$$$$$$$$$$$$$$$$$$$$$$$$$$$$$\n",
      "Run with the following settings:\n",
      "{'Tscale': 'K_CMB', 'mskset': 'smica', 'freqdset': 'DX12', 'Spectrum_scale': 'C_l', 'lmax': 4000, 'lmax_mask': 6000, 'freqdatsplit': '', 'smoothing_window': 0, 'max_polynom': 0, 'num_sim': 5, 'binname': 'SMICA_highell_bins', 'overwrite_cache': True, 'split': '', 'nside_out': None, 'splitvariation': 'GHz', 'freqfilter': ['545', '857'], 'specfilter': ['TB', 'EB', 'ET', 'BT', 'BE'], 'nside_desc_map': [1024, 2048]}\n",
      "$$$$$$$$$$$$$$$$$$$$$$$$$$$$$$$$$$$$$$$$\n",
      "loaded /global/cscratch1/sd/sebibel/smica/smicaclmin_SMICA_highell_bins_0200_C_l_DX12_smica_4000_6000_0_0_Full.npy\n",
      "$$$$$$$$$$$$$$$$$$$$$$$$$$$$$$$$$$$$$$$$\n",
      "Run with the following settings:\n",
      "{'Tscale': 'K_CMB', 'mskset': 'lens', 'freqdset': 'DX12', 'Spectrum_scale': 'C_l', 'lmax': 4000, 'lmax_mask': 6000, 'freqdatsplit': '', 'smoothing_window': 0, 'max_polynom': 0, 'num_sim': 5, 'binname': 'SMICA_highell_bins', 'overwrite_cache': True, 'split': '', 'nside_out': None, 'splitvariation': 'GHz', 'freqfilter': ['545', '857'], 'specfilter': ['TB', 'EB', 'ET', 'BT', 'BE'], 'nside_desc_map': [1024, 2048]}\n",
      "$$$$$$$$$$$$$$$$$$$$$$$$$$$$$$$$$$$$$$$$\n",
      "no existing data at /global/cscratch1/sd/sebibel/smica/smicaclmin_SMICA_highell_bins_0200_C_l_DX12_lens_4000_6000_0_0_Full.npy\n"
     ]
    }
   ],
   "source": [
    "# NP_smicaclmin = io.load_data(io.fh.clmin_smica_path_name)\n",
    "\n",
    "cfc = copy.deepcopy(csu.cf)\n",
    "cfc['pa']['freqdset'] = 'NPIPE'\n",
    "cfc['pa']['mskset'] = 'lens'\n",
    "csuc = Config(cfc)\n",
    "ioc = IO(csuc) \n",
    "NP_lensclmin = ioc.load_data(ioc.fh.clmin_smica_path_name)\n",
    "cfc = copy.deepcopy(csu.cf)\n",
    "cfc['pa']['freqdset'] = 'DX12'\n",
    "cfc['pa']['mskset'] = 'smica'\n",
    "csuc = Config(cfc)\n",
    "ioc = IO(csuc) \n",
    "DX_smicaclmin = ioc.load_data(ioc.fh.clmin_smica_path_name)\n",
    "cfc = copy.deepcopy(csu.cf)\n",
    "cfc['pa']['freqdset'] = 'DX12'\n",
    "cfc['pa']['mskset'] = 'lens'\n",
    "csuc = Config(cfc)\n",
    "ioc = IO(csuc) \n",
    "DX_lensclmin = ioc.load_data(ioc.fh.clmin_smica_path_name)"
   ]
  },
  {
   "cell_type": "code",
   "execution_count": 10,
   "id": "fd6800a6-877c-40e7-9af8-a74ca3bc9daa",
   "metadata": {},
   "outputs": [
    {
     "data": {
      "application/vnd.jupyter.widget-view+json": {
       "model_id": "1f53901d5e7a4b3aa92cfcdb399b35ef",
       "version_major": 2,
       "version_minor": 0
      },
      "text/plain": [
       "Canvas(toolbar=Toolbar(toolitems=[('Home', 'Reset original view', 'home', 'home'), ('Back', 'Back to previous …"
      ]
     },
     "metadata": {},
     "output_type": "display_data"
    },
    {
     "data": {
      "text/plain": [
       "Text(0.5, 0, 'Multipole')"
      ]
     },
     "execution_count": 10,
     "metadata": {},
     "output_type": "execute_result"
    }
   ],
   "source": [
    "%matplotlib widget\n",
    "# print(NP_smicaclmin.shape)\n",
    "# print(DX_smicaclmin.shape)\n",
    "# plt.plot(NP_smicaclmin[1], label='NPIPE smica')\n",
    "plt.plot(NP_lensclmin[1], label='NPIPE lens')\n",
    "# plt.plot(smica_C_lmin_sc[1], label='NPIPE data with DX12-smica weights', marker='.')\n",
    "# plt.plot(propag_smica_C_lmin_sc[1], label='NPIPE data with smica-propag weights', marker='.')\n",
    "# plt.plot(DX_smicaclmin[0], label='DX12')\n",
    "plt.legend()\n",
    "# plt.plot(C_lS[0,1,:])\n",
    "plt.yscale('log')\n",
    "plt.ylabel('C_l')\n",
    "plt.title('BB')\n",
    "plt.xlabel('Multipole')"
   ]
  },
  {
   "cell_type": "markdown",
   "id": "b847168c-fac2-44fa-9d56-9746bb9f1f88",
   "metadata": {},
   "source": [
    "## Variance"
   ]
  },
  {
   "cell_type": "code",
   "execution_count": null,
   "id": "7422bebe-c07b-4754-ad10-1c25087789aa",
   "metadata": {},
   "outputs": [],
   "source": [
    "EBidx = 1\n",
    "ll = np.arange(0,4000,1)\n",
    "approx_variance_NPDXsmica = 2 * smica_C_lmin_sc[EBidx,:] * smica_C_lmin_sc[EBidx,:]/((2*ll+1)*0.67)\n",
    "approx_variance_NPlens = 2 * NP_lensclmin[EBidx,:] * NP_lensclmin[EBidx,:]/((2*ll+1)*0.67)\n",
    "approx_variance_NPpropag = 2 * propag_smica_C_lmin_sc[EBidx,:] * propag_smica_C_lmin_sc[EBidx,:]/((2*ll+1)*0.67)"
   ]
  },
  {
   "cell_type": "code",
   "execution_count": null,
   "id": "b37b321e-1b53-42ee-8226-81c2977f8f9a",
   "metadata": {},
   "outputs": [],
   "source": [
    "%matplotlib widget\n",
    "# plt.plot(approx_variance_NPDXsmica)\n",
    "# plt.plot(approx_variance_NPlens)\n",
    "\n",
    "mean, std, _ = std_dev_binned(approx_variance_NPlens/approx_variance_NPDXsmica-1, lmax=4000, binwidth=50, log=False)\n",
    "plt.errorbar((_[1:]+_[:-1])/2, mean, yerr=std, fmt='.', capsize=5, label= 'NPIPE data with NPIPE-lens weights\\nover\\nNPIPE data with DX12-smica weights')\n",
    "mean, std, _ = std_dev_binned(approx_variance_NPlens/approx_variance_NPpropag-1, lmax=4000, binwidth=50, log=False)\n",
    "plt.errorbar((_[1:]+_[:-1])/2, mean, yerr=std, fmt='.', capsize=5, label= 'NPIPE data with NPIPE-lens weights\\nover\\nNPIPE data with smica-propag weights')\n",
    "\n",
    "\n",
    "# mean, std, _ = std_dev_binned(NP_lensclmin[EBidx,:]/smica_C_lmin_sc[EBidx,:]-1, lmax=4000, binwidth=50, log=False)\n",
    "# plt.errorbar((_[1:]+_[:-1])/2, mean, yerr=std, fmt='.', capsize=5, label= 'NPIPE data with NPIPE-lens weights\\nover\\nNPIPE data with DX12-smica weights')\n",
    "# mean, std, _ = std_dev_binned(NP_lensclmin[EBidx,:]/propag_smica_C_lmin_sc[EBidx,:]-1, lmax=4000, binwidth=50, log=False)\n",
    "# plt.errorbar((_[1:]+_[:-1])/2, mean, yerr=std, fmt='.', capsize=5, label= 'NPIPE data with NPIPE-lens weights\\nover\\nNPIPE data with smica-propag weights')\n",
    "\n",
    "\n",
    "plt.hlines(0,lmax,0, ls='--', color= 'gray')\n",
    "plt.ylim((-0.9,0.1))\n",
    "# plt.xscale('log')\n",
    "plt.xlim((1e1,4e3))\n",
    "plt.legend()\n",
    "plt.xlabel('Multipole')\n",
    "plt.ylabel('Rel. Diff.')\n",
    "plt.title('Comparing Variance of MV spectra')\n",
    "# plt.yscale('log')"
   ]
  },
  {
   "cell_type": "code",
   "execution_count": 68,
   "id": "9324444a-d144-4a37-85d3-2003246da7ce",
   "metadata": {},
   "outputs": [
    {
     "name": "stdout",
     "output_type": "stream",
     "text": [
      "(4000,) (25,) (4000,)\n"
     ]
    },
    {
     "data": {
      "application/vnd.jupyter.widget-view+json": {
       "model_id": "fc49789056054d2bab3a5dc9b3e2a586",
       "version_major": 2,
       "version_minor": 0
      },
      "text/plain": [
       "Canvas(toolbar=Toolbar(toolitems=[('Home', 'Reset original view', 'home', 'home'), ('Back', 'Back to previous …"
      ]
     },
     "metadata": {},
     "output_type": "display_data"
    },
    {
     "name": "stdout",
     "output_type": "stream",
     "text": [
      "(4000,) (25,) (4000,)\n",
      "(4000,) (25,) (4000,)\n"
     ]
    },
    {
     "data": {
      "text/plain": [
       "(-0.2, 0.5)"
      ]
     },
     "execution_count": 68,
     "metadata": {},
     "output_type": "execute_result"
    }
   ],
   "source": [
    "%matplotlib widget\n",
    "# mean, std, _ = std_dev_binned(1-(NP_lensclmin[0]/NP_smicaclmin[0]), lmax=4000, binwidth=25, log=False)\n",
    "# plt.errorbar((_[1:]+_[:-1])/2, mean, yerr=std, fmt='.', capsize=5, label='NP_lens/NP_smica')\n",
    "mean, std, _ = std_dev_binned(1-(NP_lensclmin[0]/smica_C_lmin_sc[0]), lmax=4000, binwidth=25, log=False)\n",
    "plt.errorbar((_[1:]+_[:-1])/2, mean, yerr=std, fmt='.', capsize=5, label='NP_lens/NP_DX_smica')\n",
    "mean, std, _ = std_dev_binned(1-(NP_lensclmin[0]/DX_smicaclmin[0]), lmax=4000, binwidth=25, log=False)\n",
    "plt.errorbar((_[1:]+_[:-1])/2, mean, yerr=std, fmt='.', capsize=4, label='NP_lens/DX_smica', alpha=0.5)\n",
    "mean, std, _ = std_dev_binned(1-(NP_smicaclmin[0]/DX_smicaclmin[0]), lmax=4000, binwidth=25, log=False)\n",
    "plt.errorbar((_[1:]+_[:-1])/2, mean, yerr=std, fmt='.', capsize=4, label='NP_smica/DX_smica', alpha=0.5)\n",
    "plt.legend()\n",
    "plt.hlines(0,lmax,0, ls='--', color= 'gray')\n",
    "plt.ylim((-0.2,0.5))"
   ]
  },
  {
   "cell_type": "markdown",
   "id": "d8b2e432-84a4-4045-b010-382d6457a51c",
   "metadata": {},
   "source": [
    "## Take DX12-smica weights, apply on NPIPE data\n",
    " * 1. via public weights\n",
    " * 2. via self derived"
   ]
  },
  {
   "cell_type": "code",
   "execution_count": 69,
   "id": "e09488cc-3d11-4632-8fbf-4ac08918bc19",
   "metadata": {},
   "outputs": [
    {
     "name": "stdout",
     "output_type": "stream",
     "text": [
      "$$$$$$$$$$$$$$$$$$$$$$$$$$$$$$$$$$$$$$$$\n",
      "Run with the following settings:\n",
      "{'Tscale': 'K_CMB', 'mskset': 'smica', 'freqdset': 'DX12', 'Spectrum_scale': 'C_l', 'lmax': 4000, 'lmax_mask': 6000, 'freqdatsplit': '', 'smoothing_window': 0, 'max_polynom': 0, 'num_sim': 5, 'binname': 'SMICA_highell_bins', 'overwrite_cache': True, 'split': '', 'nside_out': None, 'splitvariation': 'GHz', 'freqfilter': ['545', '857'], 'specfilter': ['TB', 'EB', 'ET', 'BT', 'BE'], 'nside_desc_map': [1024, 2048]}\n",
      "$$$$$$$$$$$$$$$$$$$$$$$$$$$$$$$$$$$$$$$$\n",
      "loaded /global/cscratch1/sd/sebibel/smica/SMICAWEIG_K_CMB_SMICA_highell_bins0200_C_l_DX12_smica_4000_6000_0_0_Full.npy\n",
      "loaded /global/cscratch1/sd/sebibel/weights/DX12/WEIG_K_CMB_0200_C_l_DX12_smica_4000_6000_0_0_Full.npy\n",
      "$$$$$$$$$$$$$$$$$$$$$$$$$$$$$$$$$$$$$$$$\n",
      "Run with the following settings:\n",
      "{'Tscale': 'K_CMB', 'mskset': 'lens', 'freqdset': 'NPIPE', 'Spectrum_scale': 'C_l', 'lmax': 4000, 'lmax_mask': 6000, 'freqdatsplit': '', 'smoothing_window': 0, 'max_polynom': 0, 'num_sim': 5, 'binname': 'SMICA_highell_bins', 'overwrite_cache': True, 'split': '', 'nside_out': None, 'splitvariation': 'GHz', 'freqfilter': ['545', '857'], 'specfilter': ['TB', 'EB', 'ET', 'BT', 'BE'], 'nside_desc_map': [1024, 2048]}\n",
      "$$$$$$$$$$$$$$$$$$$$$$$$$$$$$$$$$$$$$$$$\n"
     ]
    },
    {
     "ename": "KeyboardInterrupt",
     "evalue": "",
     "output_type": "error",
     "traceback": [
      "\u001b[0;31m---------------------------------------------------------------------------\u001b[0m",
      "\u001b[0;31mKeyboardInterrupt\u001b[0m                         Traceback (most recent call last)",
      "\u001b[0;32m<ipython-input-69-123045cd68af>\u001b[0m in \u001b[0;36m<module>\u001b[0;34m\u001b[0m\n\u001b[1;32m     35\u001b[0m \u001b[0mioc\u001b[0m \u001b[0;34m=\u001b[0m \u001b[0mIO\u001b[0m\u001b[0;34m(\u001b[0m\u001b[0mcsuc\u001b[0m\u001b[0;34m)\u001b[0m\u001b[0;34m\u001b[0m\u001b[0;34m\u001b[0m\u001b[0m\n\u001b[1;32m     36\u001b[0m \u001b[0;31m# full maps\u001b[0m\u001b[0;34m\u001b[0m\u001b[0;34m\u001b[0m\u001b[0;34m\u001b[0m\u001b[0m\n\u001b[0;32m---> 37\u001b[0;31m \u001b[0mmaps\u001b[0m \u001b[0;34m=\u001b[0m \u001b[0mioc\u001b[0m\u001b[0;34m.\u001b[0m\u001b[0mload_plamap\u001b[0m\u001b[0;34m(\u001b[0m\u001b[0mcsuc\u001b[0m\u001b[0;34m.\u001b[0m\u001b[0mcf\u001b[0m\u001b[0;34m,\u001b[0m \u001b[0mfield\u001b[0m\u001b[0;34m=\u001b[0m\u001b[0;34m(\u001b[0m\u001b[0;36m0\u001b[0m\u001b[0;34m,\u001b[0m\u001b[0;36m1\u001b[0m\u001b[0;34m,\u001b[0m\u001b[0;36m2\u001b[0m\u001b[0;34m)\u001b[0m\u001b[0;34m,\u001b[0m \u001b[0mnside_out\u001b[0m\u001b[0;34m=\u001b[0m\u001b[0mcsu\u001b[0m\u001b[0;34m.\u001b[0m\u001b[0mnside_out\u001b[0m\u001b[0;34m)\u001b[0m\u001b[0;34m\u001b[0m\u001b[0;34m\u001b[0m\u001b[0m\n\u001b[0m\u001b[1;32m     38\u001b[0m \u001b[0;31m# maps = trsf_m.process_all(maps)\u001b[0m\u001b[0;34m\u001b[0m\u001b[0;34m\u001b[0m\u001b[0;34m\u001b[0m\u001b[0m\n\u001b[1;32m     39\u001b[0m \u001b[0mbeamf\u001b[0m \u001b[0;34m=\u001b[0m \u001b[0mioc\u001b[0m\u001b[0;34m.\u001b[0m\u001b[0mload_beamf\u001b[0m\u001b[0;34m(\u001b[0m\u001b[0mfreqcomb\u001b[0m\u001b[0;34m=\u001b[0m\u001b[0mcsu\u001b[0m\u001b[0;34m.\u001b[0m\u001b[0mfreqcomb\u001b[0m\u001b[0;34m)\u001b[0m\u001b[0;34m\u001b[0m\u001b[0;34m\u001b[0m\u001b[0m\n",
      "\u001b[0;32m/global/u2/s/sebibel/git/component_separation/component_separation/io.py\u001b[0m in \u001b[0;36mload_plamap\u001b[0;34m(self, cf_local, field, nside_out)\u001b[0m\n\u001b[1;32m    246\u001b[0m                 if FREQ not in freqfilter}\n\u001b[1;32m    247\u001b[0m \u001b[0;34m\u001b[0m\u001b[0m\n\u001b[0;32m--> 248\u001b[0;31m         maps = {\n\u001b[0m\u001b[1;32m    249\u001b[0m             \u001b[0mFREQ\u001b[0m\u001b[0;34m:\u001b[0m \u001b[0mhp\u001b[0m\u001b[0;34m.\u001b[0m\u001b[0mud_grade\u001b[0m\u001b[0;34m(\u001b[0m\u001b[0mhp\u001b[0m\u001b[0;34m.\u001b[0m\u001b[0mread_map\u001b[0m\u001b[0;34m(\u001b[0m\u001b[0mmappath\u001b[0m\u001b[0;34m[\u001b[0m\u001b[0mFREQ\u001b[0m\u001b[0;34m]\u001b[0m\u001b[0;34m,\u001b[0m \u001b[0mfield\u001b[0m\u001b[0;34m=\u001b[0m\u001b[0mfield\u001b[0m\u001b[0;34m,\u001b[0m \u001b[0mdtype\u001b[0m\u001b[0;34m=\u001b[0m\u001b[0mnp\u001b[0m\u001b[0;34m.\u001b[0m\u001b[0mfloat64\u001b[0m\u001b[0;34m,\u001b[0m \u001b[0mnest\u001b[0m\u001b[0;34m=\u001b[0m\u001b[0;32mFalse\u001b[0m\u001b[0;34m)\u001b[0m\u001b[0;34m,\u001b[0m \u001b[0mnside_out\u001b[0m\u001b[0;34m=\u001b[0m\u001b[0mnside_out\u001b[0m\u001b[0;34m[\u001b[0m\u001b[0;36m0\u001b[0m\u001b[0;34m]\u001b[0m \u001b[0;32mif\u001b[0m \u001b[0mint\u001b[0m\u001b[0;34m(\u001b[0m\u001b[0mFREQ\u001b[0m\u001b[0;34m)\u001b[0m\u001b[0;34m<\u001b[0m\u001b[0;36m100\u001b[0m \u001b[0;32melse\u001b[0m \u001b[0mnside_out\u001b[0m\u001b[0;34m[\u001b[0m\u001b[0;36m1\u001b[0m\u001b[0;34m]\u001b[0m\u001b[0;34m)\u001b[0m\u001b[0;34m\u001b[0m\u001b[0;34m\u001b[0m\u001b[0m\n\u001b[1;32m    250\u001b[0m                 \u001b[0;32mfor\u001b[0m \u001b[0mFREQ\u001b[0m \u001b[0;32min\u001b[0m \u001b[0mself\u001b[0m\u001b[0;34m.\u001b[0m\u001b[0mcsu\u001b[0m\u001b[0;34m.\u001b[0m\u001b[0mPLANCKMAPFREQ\u001b[0m\u001b[0;34m\u001b[0m\u001b[0;34m\u001b[0m\u001b[0m\n",
      "\u001b[0;32m/global/u2/s/sebibel/git/component_separation/component_separation/io.py\u001b[0m in \u001b[0;36m<dictcomp>\u001b[0;34m(.0)\u001b[0m\n\u001b[1;32m    247\u001b[0m \u001b[0;34m\u001b[0m\u001b[0m\n\u001b[1;32m    248\u001b[0m         maps = {\n\u001b[0;32m--> 249\u001b[0;31m             \u001b[0mFREQ\u001b[0m\u001b[0;34m:\u001b[0m \u001b[0mhp\u001b[0m\u001b[0;34m.\u001b[0m\u001b[0mud_grade\u001b[0m\u001b[0;34m(\u001b[0m\u001b[0mhp\u001b[0m\u001b[0;34m.\u001b[0m\u001b[0mread_map\u001b[0m\u001b[0;34m(\u001b[0m\u001b[0mmappath\u001b[0m\u001b[0;34m[\u001b[0m\u001b[0mFREQ\u001b[0m\u001b[0;34m]\u001b[0m\u001b[0;34m,\u001b[0m \u001b[0mfield\u001b[0m\u001b[0;34m=\u001b[0m\u001b[0mfield\u001b[0m\u001b[0;34m,\u001b[0m \u001b[0mdtype\u001b[0m\u001b[0;34m=\u001b[0m\u001b[0mnp\u001b[0m\u001b[0;34m.\u001b[0m\u001b[0mfloat64\u001b[0m\u001b[0;34m,\u001b[0m \u001b[0mnest\u001b[0m\u001b[0;34m=\u001b[0m\u001b[0;32mFalse\u001b[0m\u001b[0;34m)\u001b[0m\u001b[0;34m,\u001b[0m \u001b[0mnside_out\u001b[0m\u001b[0;34m=\u001b[0m\u001b[0mnside_out\u001b[0m\u001b[0;34m[\u001b[0m\u001b[0;36m0\u001b[0m\u001b[0;34m]\u001b[0m \u001b[0;32mif\u001b[0m \u001b[0mint\u001b[0m\u001b[0;34m(\u001b[0m\u001b[0mFREQ\u001b[0m\u001b[0;34m)\u001b[0m\u001b[0;34m<\u001b[0m\u001b[0;36m100\u001b[0m \u001b[0;32melse\u001b[0m \u001b[0mnside_out\u001b[0m\u001b[0;34m[\u001b[0m\u001b[0;36m1\u001b[0m\u001b[0;34m]\u001b[0m\u001b[0;34m)\u001b[0m\u001b[0;34m\u001b[0m\u001b[0;34m\u001b[0m\u001b[0m\n\u001b[0m\u001b[1;32m    250\u001b[0m                 \u001b[0;32mfor\u001b[0m \u001b[0mFREQ\u001b[0m \u001b[0;32min\u001b[0m \u001b[0mself\u001b[0m\u001b[0;34m.\u001b[0m\u001b[0mcsu\u001b[0m\u001b[0;34m.\u001b[0m\u001b[0mPLANCKMAPFREQ\u001b[0m\u001b[0;34m\u001b[0m\u001b[0;34m\u001b[0m\u001b[0m\n\u001b[1;32m    251\u001b[0m                 \u001b[0;32mif\u001b[0m \u001b[0mFREQ\u001b[0m \u001b[0;32mnot\u001b[0m \u001b[0;32min\u001b[0m \u001b[0mfreqfilter\u001b[0m\u001b[0;34m\u001b[0m\u001b[0;34m\u001b[0m\u001b[0m\n",
      "\u001b[0;32m~/.local/cori/3.8-anaconda-2020.11/lib/python3.8/site-packages/healpy-1.14.0-py3.8-linux-x86_64.egg/healpy/fitsfunc.py\u001b[0m in \u001b[0;36mread_map\u001b[0;34m(filename, field, dtype, nest, partial, hdu, h, verbose, memmap)\u001b[0m\n\u001b[1;32m    481\u001b[0m                     \u001b[0mwarnings\u001b[0m\u001b[0;34m.\u001b[0m\u001b[0mwarn\u001b[0m\u001b[0;34m(\u001b[0m\u001b[0;34m\"Ordering converted to NEST\"\u001b[0m\u001b[0;34m)\u001b[0m\u001b[0;34m\u001b[0m\u001b[0;34m\u001b[0m\u001b[0m\n\u001b[1;32m    482\u001b[0m             \u001b[0;32melif\u001b[0m \u001b[0;34m(\u001b[0m\u001b[0;32mnot\u001b[0m \u001b[0mnest\u001b[0m\u001b[0;34m)\u001b[0m \u001b[0;32mand\u001b[0m \u001b[0mordering\u001b[0m \u001b[0;34m==\u001b[0m \u001b[0;34m\"NESTED\"\u001b[0m\u001b[0;34m:\u001b[0m\u001b[0;34m\u001b[0m\u001b[0;34m\u001b[0m\u001b[0m\n\u001b[0;32m--> 483\u001b[0;31m                 \u001b[0midx\u001b[0m \u001b[0;34m=\u001b[0m \u001b[0mpixelfunc\u001b[0m\u001b[0;34m.\u001b[0m\u001b[0mring2nest\u001b[0m\u001b[0;34m(\u001b[0m\u001b[0mnside\u001b[0m\u001b[0;34m,\u001b[0m \u001b[0mnp\u001b[0m\u001b[0;34m.\u001b[0m\u001b[0marange\u001b[0m\u001b[0;34m(\u001b[0m\u001b[0mm\u001b[0m\u001b[0;34m.\u001b[0m\u001b[0msize\u001b[0m\u001b[0;34m,\u001b[0m \u001b[0mdtype\u001b[0m\u001b[0;34m=\u001b[0m\u001b[0mnp\u001b[0m\u001b[0;34m.\u001b[0m\u001b[0mint32\u001b[0m\u001b[0;34m)\u001b[0m\u001b[0;34m)\u001b[0m\u001b[0;34m\u001b[0m\u001b[0;34m\u001b[0m\u001b[0m\n\u001b[0m\u001b[1;32m    484\u001b[0m                 \u001b[0mm\u001b[0m \u001b[0;34m=\u001b[0m \u001b[0mm\u001b[0m\u001b[0;34m[\u001b[0m\u001b[0midx\u001b[0m\u001b[0;34m]\u001b[0m\u001b[0;34m\u001b[0m\u001b[0;34m\u001b[0m\u001b[0m\n\u001b[1;32m    485\u001b[0m                 \u001b[0;32mif\u001b[0m \u001b[0mverbose\u001b[0m\u001b[0;34m:\u001b[0m\u001b[0;34m\u001b[0m\u001b[0;34m\u001b[0m\u001b[0m\n",
      "\u001b[0;32m~/.local/cori/3.8-anaconda-2020.11/lib/python3.8/site-packages/healpy-1.14.0-py3.8-linux-x86_64.egg/healpy/pixelfunc.py\u001b[0m in \u001b[0;36mring2nest\u001b[0;34m(nside, ipix)\u001b[0m\n\u001b[1;32m    784\u001b[0m     \"\"\"\n\u001b[1;32m    785\u001b[0m     \u001b[0mcheck_nside\u001b[0m\u001b[0;34m(\u001b[0m\u001b[0mnside\u001b[0m\u001b[0;34m,\u001b[0m \u001b[0mnest\u001b[0m\u001b[0;34m=\u001b[0m\u001b[0;32mTrue\u001b[0m\u001b[0;34m)\u001b[0m\u001b[0;34m\u001b[0m\u001b[0;34m\u001b[0m\u001b[0m\n\u001b[0;32m--> 786\u001b[0;31m     \u001b[0;32mreturn\u001b[0m \u001b[0mpixlib\u001b[0m\u001b[0;34m.\u001b[0m\u001b[0m_ring2nest\u001b[0m\u001b[0;34m(\u001b[0m\u001b[0mnside\u001b[0m\u001b[0;34m,\u001b[0m \u001b[0mipix\u001b[0m\u001b[0;34m)\u001b[0m\u001b[0;34m\u001b[0m\u001b[0;34m\u001b[0m\u001b[0m\n\u001b[0m\u001b[1;32m    787\u001b[0m \u001b[0;34m\u001b[0m\u001b[0m\n\u001b[1;32m    788\u001b[0m \u001b[0;34m\u001b[0m\u001b[0m\n",
      "\u001b[0;31mKeyboardInterrupt\u001b[0m: "
     ]
    }
   ],
   "source": [
    "## with self-derived weights\n",
    "\n",
    "cfc = copy.deepcopy(csu.cf)\n",
    "cfc['pa']['freqdset'] = 'DX12'\n",
    "cfc['pa']['mskset'] = 'smica'\n",
    "csuc = Config(cfc)\n",
    "ioc = IO(csuc) \n",
    "\"\"\"\n",
    "Follows the SMICA propagation code to combine maps with set of weights.\n",
    "Only runs for the chosen bins and up to the max value of bins\n",
    "\"\"\"\n",
    "CMB = dict()\n",
    "CMB[\"TQU\"] = dict()\n",
    "almT, almE, almB = dict(), dict(), dict()\n",
    "lmaxbin = int(bins[-1][1]+1)\n",
    "lmax = csu.lmax\n",
    "\n",
    "W_smica = ioc.load_data(ioc.fh.weight_smica_path_name)\n",
    "W_mv = ioc.load_data(ioc.fh.weight_path_name)\n",
    "W_total = np.zeros(shape=(*W_mv.shape[:-1], csu.lmax+1))\n",
    "\n",
    "xnew = np.arange(0,lmaxbin+1,1)\n",
    "for it, det in enumerate(csu.PLANCKMAPFREQ): #weights do not depend on freqfilter, but almE/B do\n",
    "    if det in csu.PLANCKMAPFREQ_f:\n",
    "        ns = csu.nside_out[0] if int(det) < 100 else csu.nside_out[1]\n",
    "        W_Einterp = interpolate.interp1d(np.mean(bins, axis=1), W_smica[0,it,:], bounds_error = False, fill_value='extrapolate')\n",
    "        W_total[1,it] = np.concatenate((W_Einterp(xnew),W_mv[1,it,xnew.shape[0]:]))\n",
    "        W_Binterp = interpolate.interp1d(np.mean(bins, axis=1), W_smica[1,it,:], bounds_error = False, fill_value='extrapolate')\n",
    "        W_total[2,it] = np.concatenate((W_Binterp(xnew),W_mv[2,it,xnew.shape[0]:]))\n",
    "\n",
    "cfc = copy.deepcopy(csu.cf)\n",
    "cfc['pa']['freqdset'] = 'NPIPE'\n",
    "cfc['pa']['mskset'] = 'lens'\n",
    "csuc = Config(cfc)\n",
    "ioc = IO(csuc) \n",
    "# full maps\n",
    "maps = ioc.load_plamap(csuc.cf, field=(0,1,2), nside_out=csu.nside_out)\n",
    "# maps = trsf_m.process_all(maps)\n",
    "beamf = ioc.load_beamf(freqcomb=csu.freqcomb)\n",
    "tmask, pmask, pmask =  io.load_one_mask_forallfreq()\n",
    "\n",
    "for freq in csu.PLANCKMAPFREQ_f:\n",
    "    print('freq: ', freq)\n",
    "    ns = csu.nside_out[0] if int(freq) < 100 else csu.nside_out[1]\n",
    "    alms = pw.map2alm_spin(maps[freq], hp.ud_grade(pmask[freq], nside_out=ns), 2, lmax-1) # full sky QU->EB\n",
    "    # almT[det] = alms[0]\n",
    "    almE[freq] = alms[0]\n",
    "    almB[freq] = alms[1]\n",
    "\n",
    "nalm = int((lmax)*(lmax-1+2)/2)  \n",
    "# combalmT = np.zeros((nalm), dtype=np.complex128)\n",
    "combalmE = np.zeros((nalm), dtype=np.complex128)\n",
    "combalmB = np.zeros((nalm), dtype=np.complex128)\n",
    "\n",
    "\n",
    "for it, det in enumerate(csu.PLANCKMAPFREQ): #weights do not depend on freqfilter, but almE/B do\n",
    "    if det in csu.PLANCKMAPFREQ_f:\n",
    "        print('freq: ', det)\n",
    "        ns = csu.nside_out[0] if int(det) < 100 else csu.nside_out[1]\n",
    "        # combalmT += hp.almxfl(almT[name], np.squeeze(W[0,m,:]))\n",
    "        LHFI = \"LFI\" if int(det)<100 else \"HFI\"\n",
    "        if csu.cf['pa']['freqdset'].startswith('NPIPE'):\n",
    "            LHFI = \"HFI\"\n",
    "        combalmE += hp.almxfl(hp.almxfl(almE[det],1/beamf[str(det)+'-'+str(det)][LHFI][1].data.field(1)[:lmax]), np.squeeze(W_total[1,it,:]))\n",
    "        combalmE = hp.almxfl(combalmE, 1/hp.pixwin(ns, pol=True)[0][:lmax])\n",
    "#             combalmE = hp.smoothalm(combalmE, fwhm = np.radians(5/60))\n",
    "        combalmB += hp.almxfl(hp.almxfl(almB[det],1/beamf[str(det)+'-'+str(det)][LHFI][1].data.field(2)[:lmax]), np.squeeze(W_total[2,it,:]))\n",
    "        combalmB = hp.almxfl(combalmB, 1/hp.pixwin(ns, pol=True)[1][:lmax])\n",
    "#             combalmB = hp.smoothalm(combalmB, fwhm = np.radians(5/60))\n",
    "\n",
    "CMB[\"TQU\"]['out'] = hp.alm2map([np.zeros_like(combalmE), combalmE, combalmB], csu.nside_out[1])\n",
    "smica_C_lmin_sc = np.array(ps.map2cl_spin(qumap=CMB[\"TQU\"]['out'][1:3], spin=2, mask=pmask['100'], lmax=lmax-1,\n",
    "    lmax_mask=lmax*2))*1e12 #maps are different scale than processed powerspectra from this' package pipeline, thus *1e12"
   ]
  },
  {
   "cell_type": "markdown",
   "id": "4814e451-5d8b-480e-8de9-ae9ac05beb4a",
   "metadata": {},
   "source": [
    "## with smica propag weights"
   ]
  },
  {
   "cell_type": "code",
   "execution_count": 11,
   "id": "ff54b532-1e2b-40e9-9404-81c123f3f364",
   "metadata": {},
   "outputs": [
    {
     "name": "stdout",
     "output_type": "stream",
     "text": [
      "$$$$$$$$$$$$$$$$$$$$$$$$$$$$$$$$$$$$$$$$\n",
      "Run with the following settings:\n",
      "{'Tscale': 'K_CMB', 'mskset': 'lens', 'freqdset': 'NPIPE', 'Spectrum_scale': 'C_l', 'lmax': 4000, 'lmax_mask': 6000, 'freqdatsplit': '', 'smoothing_window': 0, 'max_polynom': 0, 'num_sim': 5, 'binname': 'SMICA_highell_bins', 'overwrite_cache': True, 'split': '', 'nside_out': None, 'splitvariation': 'GHz', 'freqfilter': ['545', '857'], 'specfilter': ['TB', 'EB', 'ET', 'BT', 'BE'], 'nside_desc_map': [1024, 2048]}\n",
      "$$$$$$$$$$$$$$$$$$$$$$$$$$$$$$$$$$$$$$$$\n",
      "loaded {'030': '/global/cfs/cdirs/cmb/data/planck2020/npipe/npipe6v20/npipe6v20_030_map.fits', '044': '/global/cfs/cdirs/cmb/data/planck2020/npipe/npipe6v20/npipe6v20_044_map.fits', '070': '/global/cfs/cdirs/cmb/data/planck2020/npipe/npipe6v20/npipe6v20_070_map.fits', '100': '/global/cfs/cdirs/cmb/data/planck2020/npipe/npipe6v20/npipe6v20_100_map.fits', '143': '/global/cfs/cdirs/cmb/data/planck2020/npipe/npipe6v20/npipe6v20_143_map.fits', '217': '/global/cfs/cdirs/cmb/data/planck2020/npipe/npipe6v20/npipe6v20_217_map.fits', '353': '/global/cfs/cdirs/cmb/data/planck2020/npipe/npipe6v20/npipe6v20_353_map.fits'}\n",
      "loading mask ['PR3vJan18_temp_lensingmask_gPR2_70_psPR2_143_COT2_smicadx12_smicapoldx12_psPR2_217_sz.fits.gz']\n"
     ]
    }
   ],
   "source": [
    "W_total = np.loadtxt(\"/global/homes/s/sebibel/ext/smica_propagation/weights_EB_smica_R3.00.txt\").reshape(2,7,4001)\n",
    "cfc = copy.deepcopy(csu.cf)\n",
    "cfc['pa']['freqdset'] = 'NPIPE'\n",
    "cfc['pa']['mskset'] = 'lens'\n",
    "csuc = Config(cfc)\n",
    "ioc = IO(csuc) \n",
    "# full maps\n",
    "maps = ioc.load_plamap(csuc.cf, field=(0,1,2), nside_out=csu.nside_out)\n",
    "# maps = trsf_m.process_all(maps)\n",
    "beamf = ioc.load_beamf(freqcomb=csu.freqcomb)\n",
    "tmask, pmask, pmask =  io.load_one_mask_forallfreq()"
   ]
  },
  {
   "cell_type": "code",
   "execution_count": null,
   "id": "85848c35-209f-4944-88fc-dabdf984334a",
   "metadata": {},
   "outputs": [],
   "source": [
    "for freq in csu.PLANCKMAPFREQ_f:\n",
    "    print('freq: ', freq)\n",
    "    ns = csu.nside_out[0] if int(freq) < 100 else csu.nside_out[1]\n",
    "    alms = pw.map2alm_spin(maps[freq], hp.ud_grade(pmask[freq], nside_out=ns), 2, lmax-1) # full sky QU->EB\n",
    "    # almT[det] = alms[0]\n",
    "    almE[freq] = alms[0]\n",
    "    almB[freq] = alms[1]\n",
    "\n",
    "nalm = int((lmax)*(lmax-1+2)/2)  \n",
    "# combalmT = np.zeros((nalm), dtype=np.complex128)\n",
    "combalmE = np.zeros((nalm), dtype=np.complex128)\n",
    "combalmB = np.zeros((nalm), dtype=np.complex128)"
   ]
  },
  {
   "cell_type": "code",
   "execution_count": null,
   "id": "38caaf79-8dc0-4731-9948-12b347ed5e55",
   "metadata": {},
   "outputs": [
    {
     "name": "stdout",
     "output_type": "stream",
     "text": [
      "freq:  030\n",
      "freq:  044\n",
      "freq:  070\n",
      "freq:  100\n",
      "freq:  143\n",
      "freq:  217\n",
      "freq:  353\n"
     ]
    }
   ],
   "source": [
    "for it, det in enumerate(csu.PLANCKMAPFREQ): #weights do not depend on freqfilter, but almE/B do\n",
    "    if det in csu.PLANCKMAPFREQ_f:\n",
    "        print('freq: ', det)\n",
    "        ns = csu.nside_out[0] if int(det) < 100 else csu.nside_out[1]\n",
    "        # combalmT += hp.almxfl(almT[name], np.squeeze(W[0,m,:]))\n",
    "        LHFI = \"LFI\" if int(det)<100 else \"HFI\"\n",
    "        if csuc.cf['pa']['freqdset'].startswith('NPIPE'):\n",
    "            LHFI = \"HFI\"\n",
    "        combalmE += hp.almxfl(hp.almxfl(almE[det],1/beamf[str(det)+'-'+str(det)][LHFI][1].data.field(1)[:lmax]), np.squeeze(W_total[0,it,:]*bcorr[it]/(beam5)))\n",
    "        combalmE = hp.almxfl(combalmE, 1/hp.pixwin(ns, pol=True)[0][:lmax])\n",
    "#             combalmE = hp.smoothalm(combalmE, fwhm = np.radians(5/60))\n",
    "        combalmB += hp.almxfl(hp.almxfl(almB[det],1/beamf[str(det)+'-'+str(det)][LHFI][1].data.field(2)[:lmax]), np.squeeze(W_total[1,it,:]*bcorr[it]/(beam5)))\n",
    "        combalmB = hp.almxfl(combalmB, 1/hp.pixwin(ns, pol=True)[1][:lmax])\n",
    "#             combalmB = hp.smoothalm(combalmB, fwhm = np.radians(5/60))\n",
    "\n",
    "propag_CMB = hp.alm2map([np.zeros_like(combalmE), combalmE, combalmB], csu.nside_out[1])\n",
    "propag_smica_C_lmin_sc = np.array(ps.map2cl_spin(qumap=propag_CMB[1:3], spin=2, mask=pmask['100'], lmax=lmax-1,\n",
    "    lmax_mask=lmax*2))*1e12 #maps are different scale than processed powerspectra from this' package pipeline, thus *1e12"
   ]
  },
  {
   "cell_type": "code",
   "execution_count": 126,
   "id": "c736fadf-6b71-444d-bb68-c18b7d7fa1a6",
   "metadata": {},
   "outputs": [
    {
     "data": {
      "application/vnd.jupyter.widget-view+json": {
       "model_id": "b18035e6d2e041a4a9db25ea2ba16cc2",
       "version_major": 2,
       "version_minor": 0
      },
      "text/plain": [
       "Canvas(toolbar=Toolbar(toolitems=[('Home', 'Reset original view', 'home', 'home'), ('Back', 'Back to previous …"
      ]
     },
     "metadata": {},
     "output_type": "display_data"
    },
    {
     "data": {
      "text/plain": [
       "(-0.2, 1.0)"
      ]
     },
     "execution_count": 126,
     "metadata": {},
     "output_type": "execute_result"
    }
   ],
   "source": [
    "%matplotlib widget\n",
    "for freq in range(0,7):\n",
    "    plt.plot(W_total[0,freq,:]*bcorr[freq]/(beam5), color=colors[freq])\n",
    "    plt.plot(W_total[1,freq,:]*bcorr[freq]/(beam5), color=colors[freq], ls='--')\n",
    "plt.ylim((-0.2,1))"
   ]
  },
  {
   "cell_type": "code",
   "execution_count": 120,
   "id": "ef6a3f2e-ba98-4066-a6ce-0e6244d49fa9",
   "metadata": {},
   "outputs": [
    {
     "name": "stdout",
     "output_type": "stream",
     "text": [
      "(2, 7, 4001)\n"
     ]
    }
   ],
   "source": [
    "print(W_total.shape\n",
    "     )"
   ]
  },
  {
   "cell_type": "code",
   "execution_count": 71,
   "id": "d05b7d69-6adc-4164-be8b-41504dcdf9c0",
   "metadata": {},
   "outputs": [
    {
     "name": "stdout",
     "output_type": "stream",
     "text": [
      "$$$$$$$$$$$$$$$$$$$$$$$$$$$$$$$$$$$$$$$$\n",
      "Run with the following settings:\n",
      "{'Tscale': 'K_CMB', 'mskset': 'lens', 'freqdset': 'NPIPE', 'Spectrum_scale': 'C_l', 'lmax': 4000, 'lmax_mask': 6000, 'freqdatsplit': '', 'smoothing_window': 0, 'max_polynom': 0, 'num_sim': 5, 'binname': 'SMICA_highell_bins', 'overwrite_cache': True, 'split': '', 'nside_out': None, 'splitvariation': 'GHz', 'freqfilter': ['545', '857'], 'specfilter': ['TB', 'EB', 'ET', 'BT', 'BE'], 'nside_desc_map': [1024, 2048]}\n",
      "$$$$$$$$$$$$$$$$$$$$$$$$$$$$$$$$$$$$$$$$\n",
      "loaded /global/cscratch1/sd/sebibel/misc/map_cmb_in_nside_2048_sim_id_0200.npy\n",
      "loaded /global/cscratch1/sd/sebibel/smica/smicaminvarmap_SMICA_highell_bins_0200_C_l_NPIPE_lens_4000_6000_0_0_Full.npy\n"
     ]
    }
   ],
   "source": [
    "cfc = copy.deepcopy(csu.cf)\n",
    "cfc['pa']['freqdset'] = 'NPIPE'\n",
    "cfc['pa']['mskset'] = 'lens'\n",
    "csuc = Config(cfc)\n",
    "ioc = IO(csuc)\n",
    "# CMB = io.load_data(ioc.fh.map_cmb_sc_path_name)\n",
    "MV = io.load_data(ioc.fh.cmbmap_smica_path_name)"
   ]
  },
  {
   "cell_type": "code",
   "execution_count": 76,
   "id": "7c9faf8a-5414-4750-8f98-7b1ccaf98217",
   "metadata": {},
   "outputs": [
    {
     "ename": "IndexError",
     "evalue": "only integers, slices (`:`), ellipsis (`...`), numpy.newaxis (`None`) and integer or boolean arrays are valid indices",
     "output_type": "error",
     "traceback": [
      "\u001b[0;31m---------------------------------------------------------------------------\u001b[0m",
      "\u001b[0;31mIndexError\u001b[0m                                Traceback (most recent call last)",
      "\u001b[0;32m<ipython-input-76-465b8480dbf2>\u001b[0m in \u001b[0;36m<module>\u001b[0;34m\u001b[0m\n\u001b[1;32m      1\u001b[0m \u001b[0mget_ipython\u001b[0m\u001b[0;34m(\u001b[0m\u001b[0;34m)\u001b[0m\u001b[0;34m.\u001b[0m\u001b[0mrun_line_magic\u001b[0m\u001b[0;34m(\u001b[0m\u001b[0;34m'matplotlib'\u001b[0m\u001b[0;34m,\u001b[0m \u001b[0;34m'widget'\u001b[0m\u001b[0;34m)\u001b[0m\u001b[0;34m\u001b[0m\u001b[0;34m\u001b[0m\u001b[0m\n\u001b[1;32m      2\u001b[0m \u001b[0mmap_NPDXsmica\u001b[0m \u001b[0;34m=\u001b[0m \u001b[0mhp\u001b[0m\u001b[0;34m.\u001b[0m\u001b[0malm2map\u001b[0m\u001b[0;34m(\u001b[0m\u001b[0;34m[\u001b[0m\u001b[0mnp\u001b[0m\u001b[0;34m.\u001b[0m\u001b[0mzeros_like\u001b[0m\u001b[0;34m(\u001b[0m\u001b[0mcombalmE\u001b[0m\u001b[0;34m)\u001b[0m\u001b[0;34m,\u001b[0m \u001b[0mcombalmE\u001b[0m\u001b[0;34m,\u001b[0m \u001b[0mcombalmB\u001b[0m\u001b[0;34m]\u001b[0m\u001b[0;34m,\u001b[0m \u001b[0mcsu\u001b[0m\u001b[0;34m.\u001b[0m\u001b[0mnside_out\u001b[0m\u001b[0;34m[\u001b[0m\u001b[0;36m1\u001b[0m\u001b[0;34m]\u001b[0m\u001b[0;34m)\u001b[0m\u001b[0;34m\u001b[0m\u001b[0;34m\u001b[0m\u001b[0m\n\u001b[0;32m----> 3\u001b[0;31m \u001b[0mprint\u001b[0m\u001b[0;34m(\u001b[0m\u001b[0mCMB\u001b[0m\u001b[0;34m[\u001b[0m\u001b[0;34m\"TQU\"\u001b[0m\u001b[0;34m]\u001b[0m\u001b[0;34m[\u001b[0m\u001b[0;34m'out'\u001b[0m\u001b[0;34m]\u001b[0m\u001b[0;34m.\u001b[0m\u001b[0mshape\u001b[0m\u001b[0;34m)\u001b[0m\u001b[0;34m\u001b[0m\u001b[0;34m\u001b[0m\u001b[0m\n\u001b[0m",
      "\u001b[0;31mIndexError\u001b[0m: only integers, slices (`:`), ellipsis (`...`), numpy.newaxis (`None`) and integer or boolean arrays are valid indices"
     ]
    }
   ],
   "source": [
    "%matplotlib widget\n",
    "map_NPDXsmica = hp.alm2map([np.zeros_like(combalmE), combalmE, combalmB], csu.nside_out[1])"
   ]
  },
  {
   "cell_type": "code",
   "execution_count": 77,
   "id": "bbca09d2-a860-4066-ac55-a86f54e6eb5b",
   "metadata": {},
   "outputs": [
    {
     "data": {
      "application/vnd.jupyter.widget-view+json": {
       "model_id": "976e6b736786485ab967886264cb9244",
       "version_major": 2,
       "version_minor": 0
      },
      "text/plain": [
       "Canvas(toolbar=Toolbar(toolitems=[('Home', 'Reset original view', 'home', 'home'), ('Back', 'Back to previous …"
      ]
     },
     "metadata": {},
     "output_type": "display_data"
    },
    {
     "data": {
      "application/vnd.jupyter.widget-view+json": {
       "model_id": "b9dad6caafea4cbfaeb9c5c4209fc711",
       "version_major": 2,
       "version_minor": 0
      },
      "text/plain": [
       "Canvas(toolbar=Toolbar(toolitems=[('Home', 'Reset original view', 'home', 'home'), ('Back', 'Back to previous …"
      ]
     },
     "metadata": {},
     "output_type": "display_data"
    },
    {
     "data": {
      "application/vnd.jupyter.widget-view+json": {
       "model_id": "2e75983abc1b4c758da689b773f8f9a1",
       "version_major": 2,
       "version_minor": 0
      },
      "text/plain": [
       "Canvas(toolbar=Toolbar(toolitems=[('Home', 'Reset original view', 'home', 'home'), ('Back', 'Back to previous …"
      ]
     },
     "metadata": {},
     "output_type": "display_data"
    }
   ],
   "source": [
    "hp.mollzoom(map_NPDXsmica[2])\n",
    "hp.mollzoom(MV[2])\n",
    "hp.mollzoom(map_NPDXsmica[2]-MV[2])"
   ]
  },
  {
   "cell_type": "code",
   "execution_count": null,
   "id": "a795f951-afb6-4749-885a-73af25abcfe2",
   "metadata": {},
   "outputs": [],
   "source": []
  }
 ],
 "metadata": {
  "kernelspec": {
   "display_name": "pyenv",
   "language": "python",
   "name": "pyenv"
  },
  "language_info": {
   "codemirror_mode": {
    "name": "ipython",
    "version": 3
   },
   "file_extension": ".py",
   "mimetype": "text/x-python",
   "name": "python",
   "nbconvert_exporter": "python",
   "pygments_lexer": "ipython3",
   "version": "3.8.5"
  }
 },
 "nbformat": 4,
 "nbformat_minor": 5
}
